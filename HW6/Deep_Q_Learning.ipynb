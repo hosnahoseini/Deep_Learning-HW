{
  "cells": [
    {
      "cell_type": "markdown",
      "metadata": {
        "id": "Z_zBh5XkFS2x"
      },
      "source": [
        "# In the name of God\n",
        "### HW6\n",
        "### Deep Q-Learning\n",
        "\n"
      ]
    },
    {
      "cell_type": "markdown",
      "metadata": {
        "id": "le8_aVDDFwXN"
      },
      "source": [
        "**Name:** Hosna Oyarhoseini\n",
        "\n",
        "**Std. No.:** 402212503"
      ]
    },
    {
      "cell_type": "markdown",
      "metadata": {
        "id": "43stiMNMF00N"
      },
      "source": [
        "\n",
        "### Deep Q-Learning (DQN)\n",
        "\n",
        "Deep Q-Learning is a popular algorithm in reinforcement learning that combines the ideas of Q-learning, a traditional reinforcement learning method, with deep neural networks. The goal is to train an agent to make decisions by estimating the optimal action-value function Q, which represents the expected cumulative future rewards for taking a particular action in a given state.\n",
        "\n",
        "Key components of DQN:\n",
        "\n",
        "- **Experience Replay:** To break the temporal correlation in sequential data and improve sample efficiency, we use an experience replay buffer to store and sample past experiences.\n",
        "- **Target Networks:** The use of two separate networks, the main network and a target network, helps stabilize training by decoupling the update targets from the online network's constantly changing values.\n",
        "\n",
        "### The Lunar Lander Problem\n",
        "\n",
        "The task is to control a lunar lander and guide it to land safely on the moon's surface. The agent needs to learn a policy that takes into account the lunar lander's state (position, velocity, angle, angular velocity, etc.) and chooses appropriate actions (thrust left, thrust right, thrust up, or do nothing) to achieve a safe landing.\n",
        "\n",
        "### Overview\n",
        "\n",
        "- **Environment:** LunarLander-v2 from OpenAI Gym.\n",
        "- **Objective:** Train an agent to learn a policy for landing the lunar lander safely.\n",
        "- **Techniques:** Deep Q-Learning, Experience Replay, Target Networks.\n",
        "\n",
        "### Instructions\n",
        "\n",
        "1. Follow the instructions and comments in the code cells to implement and understand each component.\n",
        "2. Replace the `#####TO DO#####` placeholders with your code.\n",
        "3. Experiment with hyperparameters and observe how they affect the training process.\n",
        "4. Run the notebook to train the agent and play the game with the trained model.\n",
        "5. Answer any provided questions or tasks to reinforce your understanding.\n",
        "\n",
        "### Prerequisites\n",
        "\n",
        "Make sure you have the following libraries installed:\n"
      ]
    },
    {
      "cell_type": "code",
      "execution_count": null,
      "metadata": {
        "id": "H_SIKDiCCBfC",
        "colab": {
          "base_uri": "https://localhost:8080/",
          "height": 429
        },
        "outputId": "e9665c10-a7b5-41a7-ab02-8f49182d36d9"
      },
      "outputs": [
        {
          "output_type": "stream",
          "name": "stdout",
          "text": [
            "Requirement already satisfied: setuptools in /usr/local/lib/python3.10/dist-packages (67.7.2)\n",
            "Collecting setuptools\n",
            "  Downloading setuptools-69.0.3-py3-none-any.whl (819 kB)\n",
            "\u001b[2K     \u001b[90m━━━━━━━━━━━━━━━━━━━━━━━━━━━━━━━━━━━━━━━━\u001b[0m \u001b[32m819.5/819.5 kB\u001b[0m \u001b[31m7.1 MB/s\u001b[0m eta \u001b[36m0:00:00\u001b[0m\n",
            "\u001b[?25hRequirement already satisfied: wheel in /usr/local/lib/python3.10/dist-packages (0.42.0)\n",
            "Installing collected packages: setuptools\n",
            "  Attempting uninstall: setuptools\n",
            "    Found existing installation: setuptools 67.7.2\n",
            "    Uninstalling setuptools-67.7.2:\n",
            "      Successfully uninstalled setuptools-67.7.2\n",
            "\u001b[31mERROR: pip's dependency resolver does not currently take into account all the packages that are installed. This behaviour is the source of the following dependency conflicts.\n",
            "ipython 7.34.0 requires jedi>=0.16, which is not installed.\n",
            "lida 0.0.10 requires fastapi, which is not installed.\n",
            "lida 0.0.10 requires kaleido, which is not installed.\n",
            "lida 0.0.10 requires python-multipart, which is not installed.\n",
            "lida 0.0.10 requires uvicorn, which is not installed.\u001b[0m\u001b[31m\n",
            "\u001b[0mSuccessfully installed setuptools-69.0.3\n"
          ]
        },
        {
          "output_type": "display_data",
          "data": {
            "application/vnd.colab-display-data+json": {
              "pip_warning": {
                "packages": [
                  "_distutils_hack",
                  "pkg_resources",
                  "setuptools"
                ]
              }
            }
          },
          "metadata": {}
        }
      ],
      "source": [
        "!pip install --upgrade setuptools wheel"
      ]
    },
    {
      "cell_type": "code",
      "execution_count": null,
      "metadata": {
        "id": "DllO2OwTCjh3",
        "colab": {
          "base_uri": "https://localhost:8080/"
        },
        "outputId": "1c5bcdd2-8f08-40ac-dffe-9c88c114852c"
      },
      "outputs": [
        {
          "output_type": "stream",
          "name": "stdout",
          "text": [
            "Collecting swig\n",
            "  Downloading swig-4.1.1.post1-py2.py3-none-manylinux_2_5_x86_64.manylinux1_x86_64.whl (1.8 MB)\n",
            "\u001b[2K     \u001b[90m━━━━━━━━━━━━━━━━━━━━━━━━━━━━━━━━━━━━━━━━\u001b[0m \u001b[32m1.8/1.8 MB\u001b[0m \u001b[31m18.4 MB/s\u001b[0m eta \u001b[36m0:00:00\u001b[0m\n",
            "\u001b[?25hInstalling collected packages: swig\n",
            "Successfully installed swig-4.1.1.post1\n",
            "Requirement already satisfied: gym[box2d] in /usr/local/lib/python3.10/dist-packages (0.25.2)\n",
            "Requirement already satisfied: numpy>=1.18.0 in /usr/local/lib/python3.10/dist-packages (from gym[box2d]) (1.23.5)\n",
            "Requirement already satisfied: cloudpickle>=1.2.0 in /usr/local/lib/python3.10/dist-packages (from gym[box2d]) (2.2.1)\n",
            "Requirement already satisfied: gym-notices>=0.0.4 in /usr/local/lib/python3.10/dist-packages (from gym[box2d]) (0.0.8)\n",
            "Collecting box2d-py==2.3.5 (from gym[box2d])\n",
            "  Downloading box2d-py-2.3.5.tar.gz (374 kB)\n",
            "\u001b[2K     \u001b[90m━━━━━━━━━━━━━━━━━━━━━━━━━━━━━━━━━━━━━━━━\u001b[0m \u001b[32m374.4/374.4 kB\u001b[0m \u001b[31m5.0 MB/s\u001b[0m eta \u001b[36m0:00:00\u001b[0m\n",
            "\u001b[?25h  Preparing metadata (setup.py) ... \u001b[?25l\u001b[?25hdone\n",
            "Collecting pygame==2.1.0 (from gym[box2d])\n",
            "  Downloading pygame-2.1.0-cp310-cp310-manylinux_2_17_x86_64.manylinux2014_x86_64.whl (18.3 MB)\n",
            "\u001b[2K     \u001b[90m━━━━━━━━━━━━━━━━━━━━━━━━━━━━━━━━━━━━━━━━\u001b[0m \u001b[32m18.3/18.3 MB\u001b[0m \u001b[31m24.9 MB/s\u001b[0m eta \u001b[36m0:00:00\u001b[0m\n",
            "\u001b[?25hRequirement already satisfied: swig==4.* in /usr/local/lib/python3.10/dist-packages (from gym[box2d]) (4.1.1.post1)\n",
            "Building wheels for collected packages: box2d-py\n",
            "  Building wheel for box2d-py (setup.py) ... \u001b[?25l\u001b[?25hdone\n",
            "  Created wheel for box2d-py: filename=box2d_py-2.3.5-cp310-cp310-linux_x86_64.whl size=2373074 sha256=68181e555d0271bf6253530e711ce95ee355c65698d7b5f4131cf1c392590c2d\n",
            "  Stored in directory: /root/.cache/pip/wheels/db/8f/6a/eaaadf056fba10a98d986f6dce954e6201ba3126926fc5ad9e\n",
            "Successfully built box2d-py\n",
            "Installing collected packages: box2d-py, pygame\n",
            "  Attempting uninstall: pygame\n",
            "    Found existing installation: pygame 2.5.2\n",
            "    Uninstalling pygame-2.5.2:\n",
            "      Successfully uninstalled pygame-2.5.2\n",
            "Successfully installed box2d-py-2.3.5 pygame-2.1.0\n"
          ]
        }
      ],
      "source": [
        "!pip install swig\n",
        "!pip install gym[box2d]"
      ]
    },
    {
      "cell_type": "markdown",
      "metadata": {
        "id": "NWLFFqKfGcip"
      },
      "source": [
        "# Imports"
      ]
    },
    {
      "cell_type": "code",
      "execution_count": null,
      "metadata": {
        "id": "MJG1tV3p-8EM",
        "colab": {
          "base_uri": "https://localhost:8080/"
        },
        "outputId": "895491b3-8bd6-4412-ba64-d3d881eb2da3"
      },
      "outputs": [
        {
          "output_type": "stream",
          "name": "stderr",
          "text": [
            "/usr/local/lib/python3.10/dist-packages/gym/core.py:317: DeprecationWarning: \u001b[33mWARN: Initializing wrapper in old step API which returns one bool instead of two. It is recommended to set `new_step_api=True` to use new step API. This will be the default behaviour in future.\u001b[0m\n",
            "  deprecation(\n",
            "/usr/local/lib/python3.10/dist-packages/gym/wrappers/step_api_compatibility.py:39: DeprecationWarning: \u001b[33mWARN: Initializing environment in old step API which returns one bool instead of two. It is recommended to set `new_step_api=True` to use new step API. This will be the default behaviour in future.\u001b[0m\n",
            "  deprecation(\n"
          ]
        }
      ],
      "source": [
        "import numpy as np\n",
        "import gym\n",
        "import time\n",
        "import torch\n",
        "import torch.nn as nn\n",
        "import torch.optim as optim\n",
        "import os\n",
        "import collections\n",
        "import matplotlib.pyplot as plt\n",
        "import collections\n",
        "\n",
        "\n",
        "env = gym.make('LunarLander-v2')"
      ]
    },
    {
      "cell_type": "code",
      "execution_count": null,
      "metadata": {
        "id": "_k--sktuIFlO"
      },
      "outputs": [],
      "source": [
        "\n",
        "class DQN(nn.Module):\n",
        "    def __init__(self, in_features, n_actions):\n",
        "        \"\"\"\n",
        "        Initialize the Deep Q-Network (DQN).\n",
        "\n",
        "        Parameters:\n",
        "        - in_features (int): Number of input features (dimension of the state).\n",
        "        - n_actions (int): Number of possible actions in the environment.\n",
        "        \"\"\"\n",
        "        super(DQN, self).__init__()\n",
        "\n",
        "        # TODO: Implement the neural network architecture\n",
        "        # Use Linear layers with ReLU\n",
        "        # Number of hidden units in each layer:\n",
        "        # - Layer 1: 256 units\n",
        "        # - Layer 2: 128 units\n",
        "        # - Layer 3: 64 units\n",
        "        self.neuralnet = nn.Sequential(\n",
        "            nn.Linear(in_features,256),\n",
        "            nn.ReLU(),\n",
        "            nn.Linear(256,128),\n",
        "            nn.ReLU(),\n",
        "            nn.Linear(128,64),\n",
        "            nn.ReLU(),\n",
        "            nn.Linear(64,n_actions)\n",
        "        )\n",
        "\n",
        "\n",
        "    def forward(self, x):\n",
        "        \"\"\"\n",
        "        Define the forward pass of the neural network.\n",
        "\n",
        "        Parameters:\n",
        "        - x (torch.Tensor): Input tensor representing the state.\n",
        "\n",
        "        Returns:\n",
        "        - torch.Tensor: Output tensor representing Q-values for each action.\n",
        "        \"\"\"\n",
        "        # TODO: Implement the forward pass\n",
        "        return self.neuralnet(x)\n"
      ]
    },
    {
      "cell_type": "code",
      "execution_count": null,
      "metadata": {
        "collapsed": true,
        "id": "B6zGowe__ac8",
        "jupyter": {
          "outputs_hidden": true
        }
      },
      "outputs": [],
      "source": [
        "\n",
        "\n",
        "class ExperienceBuffer():\n",
        "    def __init__(self, capacity):\n",
        "        \"\"\"\n",
        "        Initialize the Experience Replay Buffer.\n",
        "\n",
        "        Parameters:\n",
        "        - capacity (int): Maximum capacity of the buffer.\n",
        "        \"\"\"\n",
        "        self.exp_buffer = collections.deque(maxlen=capacity)\n",
        "\n",
        "    def append(self, exp):\n",
        "        \"\"\"\n",
        "        Append a new experience to the buffer.\n",
        "\n",
        "        Parameters:\n",
        "        - exp (tuple): Tuple representing a single experience (state, action, reward, done, next_state).\n",
        "        \"\"\"\n",
        "        self.exp_buffer.append(exp)\n",
        "\n",
        "    def __len__(self):\n",
        "        \"\"\"\n",
        "        Get the current size of the buffer.\n",
        "\n",
        "        Returns:\n",
        "        - int: Number of experiences currently stored in the buffer.\n",
        "        \"\"\"\n",
        "        return len(self.exp_buffer)\n",
        "\n",
        "    def clear(self):\n",
        "        \"\"\"Clear all experiences from the buffer.\"\"\"\n",
        "        self.exp_buffer.clear()\n",
        "\n",
        "    def sample(self, batch_size):\n",
        "        \"\"\"\n",
        "        TODO: Sample a batch of experiences from the buffer.\n",
        "\n",
        "        Parameters:\n",
        "        - batch_size (int): Size of the batch to be sampled.\n",
        "\n",
        "        Returns:\n",
        "        - tuple: Batch of experiences (states, actions, rewards, dones, next_states).\n",
        "        \"\"\"\n",
        "        # TODO: Implement the sampling logic\n",
        "\n",
        "\n",
        "        # TODO: Convert to NumPy arrays with appropriate data types\n",
        "        indices = np.random.choice( range(len(self.exp_buffer)), batch_size )\n",
        "        states,actions,rewards,dones,next_states = zip(*[self.exp_buffer[i] for i in indices])\n",
        "        return np.array(states),np.array(actions),np.array(rewards, dtype=np.float32),np.array(dones,dtype=np.uint8),np.array(next_states)\n"
      ]
    },
    {
      "cell_type": "code",
      "execution_count": null,
      "metadata": {
        "collapsed": true,
        "id": "G8ZC4Jbc_oo6",
        "jupyter": {
          "outputs_hidden": true
        }
      },
      "outputs": [],
      "source": [
        "class Agent():\n",
        "    def __init__(self, env, buffer):\n",
        "        \"\"\"\n",
        "        Initialize the agent.\n",
        "\n",
        "        Parameters:\n",
        "        - env: The environment the agent interacts with.\n",
        "        - buffer: Experience replay buffer to store agent experiences.\n",
        "        \"\"\"\n",
        "        self.env = env\n",
        "        self.buffer = buffer\n",
        "        self._reset()\n",
        "\n",
        "    def _reset(self):\n",
        "        \"\"\"\n",
        "        Reset the agent's state and total rewards to the initial state.\n",
        "        \"\"\"\n",
        "        self.state = env.reset()\n",
        "        self.total_rewards = 0.0\n",
        "\n",
        "    def step(self, net, eps, device=\"cpu\"):\n",
        "        \"\"\"\n",
        "        TODO: Implement the exploration-exploitation strategy (epsilon-greedy) here.\n",
        "\n",
        "        Take a step in the environment using the provided neural network.\n",
        "\n",
        "        Parameters:\n",
        "        - net: The neural network representing the agent's policy.\n",
        "        - eps (float): Epsilon value for epsilon-greedy exploration.\n",
        "        - device (str): Device for neural network computations.\n",
        "\n",
        "        Returns:\n",
        "        - done_reward: Total rewards obtained in the episode if it is finished, otherwise None.\n",
        "        \"\"\"\n",
        "        done_reward = None\n",
        "\n",
        "        # TODO: Implement exploration-exploitation strategy here\n",
        "\n",
        "        # TODO: Take the selected action for 4 time steps (adjustable)\n",
        "\n",
        "        # TODO: Append the experience to the buffer\n",
        "\n",
        "        if np.random.random() < eps:\n",
        "            action = env.action_space.sample()\n",
        "        else:\n",
        "            state_prev = torch.tensor(self.state).to(device)\n",
        "            action = int(torch.argmax(net(state_prev).to(device)))\n",
        "\n",
        "        state_prev = self.state\n",
        "        rewards = 0\n",
        "        done = False\n",
        "        for _ in range(4):\n",
        "            self.state,reward,done,info = env.step(action)\n",
        "            self.total_rewards+=reward\n",
        "            if done:\n",
        "                break\n",
        "\n",
        "        self.buffer.append((state_prev,action,reward,done,self.state))\n",
        "        if done:\n",
        "            done_reward = self.total_rewards\n",
        "            self._reset()\n",
        "        return done_reward\n"
      ]
    },
    {
      "cell_type": "code",
      "execution_count": null,
      "metadata": {
        "collapsed": true,
        "id": "U5sWRHaU_fD7",
        "jupyter": {
          "outputs_hidden": true
        }
      },
      "outputs": [],
      "source": [
        "# Hyperparameters\n",
        "GAMMA = 0.99  # Discount factor for future rewards\n",
        "EPSILON_START = 1.0  # Initial exploration probability (epsilon-greedy)\n",
        "EPSILON_FINAL = 0.01  # Final exploration probability (epsilon-greedy)\n",
        "EPSILON_DECAY_OBS = 10**5  # Number of observations for epsilon decay\n",
        "BATCH_SIZE = 32  # Size of the experience replay batch\n",
        "MEAN_GOAL_REWARD = 250  # Mean reward goal for solving the environment\n",
        "REPLAY_BUFFER_SIZE = 10000  # Maximum capacity of the experience replay buffer\n",
        "REPLAY_MIN_SIZE = 10000  # Minimum size of the experience replay buffer before training begins\n",
        "LEARNING_RATE = 1e-4  # Learning rate for the neural network optimizer\n",
        "SYNC_TARGET_OBS = 1000  # Number of observations before synchronizing target and online networks"
      ]
    },
    {
      "cell_type": "code",
      "execution_count": null,
      "metadata": {
        "id": "FItvw2-BD6gm"
      },
      "outputs": [],
      "source": [
        "import torch\n",
        "import torch.nn as nn\n",
        "\n",
        "def cal_loss(batch, net, tgt_net, device='cpu'):\n",
        "    \"\"\"\n",
        "    TODO: Implement the loss calculation for Deep Q-Learning.\n",
        "\n",
        "    Calculate the loss for Deep Q-Learning.\n",
        "\n",
        "    Parameters:\n",
        "    - batch (tuple): Batch of experiences (states, actions, rewards, dones, next_states).\n",
        "    - net: The neural network representing the online Q-network.\n",
        "    - tgt_net: The neural network representing the target Q-network.\n",
        "    - device (str): Device for neural network computations (default is \"cpu\").\n",
        "\n",
        "    Returns:\n",
        "    - torch.Tensor: Loss value calculated using Mean Squared Error (MSE) loss.\n",
        "    \"\"\"\n",
        "\n",
        "    states, actions, rewards, dones, next_states = batch\n",
        "    states_v = torch.tensor(states).to(device)\n",
        "    actions_v = torch.tensor(actions).to(device)\n",
        "    rewards_v = torch.tensor(rewards).to(device)\n",
        "    dones_v = torch.BoolTensor(dones).to(device)\n",
        "    next_states_v = torch.tensor(next_states).to(device)\n",
        "\n",
        "    # TODO: Calculate Q-values for the current states and selected actions\n",
        "\n",
        "    # TODO: Calculate the maximum Q-value for the next states using the target network\n",
        "\n",
        "    # TODO: Zero out Q-values for terminal states\n",
        "\n",
        "    # TODO: Detach Q-values for the next states to avoid gradient flow\n",
        "\n",
        "    # TODO: Calculate the expected return for the current states\n",
        "\n",
        "    # TODO: Implement the Mean Squared Error (MSE) loss calculation\n",
        "\n",
        "    Q_val = net(states_v).gather(1,actions_v.unsqueeze(-1)).squeeze(-1) #select q value corresponding each action\n",
        "    Q_val_next = tgt_net(next_states_v).max(1)[0] #give maximum value for each sample\n",
        "    Q_val_next[dones_v] = 0.0 #making q value for done to zero\n",
        "    Q_val_next = Q_val_next.detach() #detach from current graph\n",
        "\n",
        "    expected_return = rewards_v + GAMMA * Q_val_next #what should be\n",
        "    loss = nn.MSELoss()(Q_val,expected_return)\n",
        "    return loss\n",
        "\n"
      ]
    },
    {
      "cell_type": "markdown",
      "metadata": {
        "id": "wZadHztDQVs0"
      },
      "source": [
        "# Learning Curves\n",
        " Plot learning curves showing key metrics (e.g., total rewards, loss) over the course of training. Analyze the trends and identify key points in the learning process."
      ]
    },
    {
      "cell_type": "code",
      "execution_count": null,
      "metadata": {
        "id": "NdXuc3WBAjbi",
        "colab": {
          "base_uri": "https://localhost:8080/",
          "height": 1000
        },
        "outputId": "de793baa-4c83-4f50-8f71-5378862b6463"
      },
      "outputs": [
        {
          "output_type": "stream",
          "name": "stdout",
          "text": [
            "GAME : 36547, TIME ECLAPSED : 0.09556722640991211, EPSILON : 0.63453, MEAN_REWARD : -116.83931582706424\n",
            "Reward -118.9093096213422 -> -116.83931582706424 Model Saved\n",
            "GAME : 44293, TIME ECLAPSED : 0.14898228645324707, EPSILON : 0.55707, MEAN_REWARD : -105.98237177628386\n",
            "Reward -108.44389305700075 -> -105.98237177628386 Model Saved\n",
            "GAME : 44948, TIME ECLAPSED : 0.3033437728881836, EPSILON : 0.55052, MEAN_REWARD : -97.32740616178982\n",
            "Reward -97.40940087866642 -> -97.32740616178982 Model Saved\n",
            "GAME : 74904, TIME ECLAPSED : 0.8536584377288818, EPSILON : 0.25095999999999996, MEAN_REWARD : -86.17904583166464\n",
            "Reward -86.23238984812107 -> -86.17904583166464 Model Saved\n",
            "GAME : 75627, TIME ECLAPSED : 0.46413254737854004, EPSILON : 0.24373, MEAN_REWARD : -70.92806585399686\n",
            "Reward -74.56118920582112 -> -70.92806585399686 Model Saved\n",
            "GAME : 76380, TIME ECLAPSED : 0.4919860363006592, EPSILON : 0.23619999999999997, MEAN_REWARD : -58.22508600586745\n",
            "Reward -61.21338682625072 -> -58.22508600586745 Model Saved\n",
            "GAME : 76687, TIME ECLAPSED : 0.543421745300293, EPSILON : 0.23312999999999995, MEAN_REWARD : -46.29057390368677\n",
            "Reward -49.30952544611256 -> -46.29057390368677 Model Saved\n",
            "GAME : 77539, TIME ECLAPSED : 0.7837796211242676, EPSILON : 0.22460999999999998, MEAN_REWARD : -35.4910222846651\n",
            "Reward -39.277821555892416 -> -35.4910222846651 Model Saved\n",
            "GAME : 78287, TIME ECLAPSED : 0.279799222946167, EPSILON : 0.21713000000000005, MEAN_REWARD : -27.437354485327216\n",
            "Reward -27.772713334579553 -> -27.437354485327216 Model Saved\n",
            "GAME : 78759, TIME ECLAPSED : 0.7129168510437012, EPSILON : 0.21241, MEAN_REWARD : -14.16225570654146\n",
            "Reward -17.488445745642963 -> -14.16225570654146 Model Saved\n",
            "GAME : 79256, TIME ECLAPSED : 0.45623326301574707, EPSILON : 0.20743999999999996, MEAN_REWARD : -0.15479285258881903\n",
            "Reward -3.8780006388538686 -> -0.15479285258881903 Model Saved\n",
            "GAME : 79742, TIME ECLAPSED : 0.5300266742706299, EPSILON : 0.20257999999999998, MEAN_REWARD : 11.720497086963094\n",
            "Reward 8.404351512936985 -> 11.720497086963094 Model Saved\n",
            "GAME : 80157, TIME ECLAPSED : 0.8088700771331787, EPSILON : 0.19843, MEAN_REWARD : 22.551622632450158\n",
            "Reward 19.356188863574676 -> 22.551622632450158 Model Saved\n",
            "GAME : 80478, TIME ECLAPSED : 0.5287206172943115, EPSILON : 0.19521999999999995, MEAN_REWARD : 34.34676647291808\n",
            "Reward 30.771052274663205 -> 34.34676647291808 Model Saved\n",
            "GAME : 81007, TIME ECLAPSED : 0.6166477203369141, EPSILON : 0.18993000000000004, MEAN_REWARD : 44.36280415978348\n",
            "Reward 41.18846211039315 -> 44.36280415978348 Model Saved\n",
            "GAME : 81449, TIME ECLAPSED : 1.0250263214111328, EPSILON : 0.18550999999999995, MEAN_REWARD : 58.31307270744572\n",
            "Reward 55.5213569442576 -> 58.31307270744572 Model Saved\n",
            "GAME : 81841, TIME ECLAPSED : 0.6870212554931641, EPSILON : 0.18159000000000003, MEAN_REWARD : 74.90523240775588\n",
            "Reward 68.27497025188327 -> 74.90523240775588 Model Saved\n",
            "GAME : 82160, TIME ECLAPSED : 0.60030198097229, EPSILON : 0.1784, MEAN_REWARD : 83.01303842717988\n",
            "Reward 79.84921488990638 -> 83.01303842717988 Model Saved\n",
            "GAME : 82541, TIME ECLAPSED : 0.5466821193695068, EPSILON : 0.17459000000000002, MEAN_REWARD : 93.58601836150879\n",
            "Reward 91.19425972359808 -> 93.58601836150879 Model Saved\n",
            "GAME : 82840, TIME ECLAPSED : 0.5191144943237305, EPSILON : 0.17159999999999997, MEAN_REWARD : 109.62834960639877\n",
            "Reward 105.90203246516253 -> 109.62834960639877 Model Saved\n",
            "GAME : 83457, TIME ECLAPSED : 2.1350438594818115, EPSILON : 0.16542999999999997, MEAN_REWARD : 118.5461793845679\n",
            "Reward 117.55962708526314 -> 118.5461793845679 Model Saved\n",
            "GAME : 83917, TIME ECLAPSED : 0.5091629028320312, EPSILON : 0.16083000000000003, MEAN_REWARD : 132.41751814621048\n",
            "Reward 128.63039761890658 -> 132.41751814621048 Model Saved\n",
            "GAME : 84305, TIME ECLAPSED : 0.6391904354095459, EPSILON : 0.15695000000000003, MEAN_REWARD : 144.46124141192388\n",
            "Reward 138.7667445002343 -> 144.46124141192388 Model Saved\n",
            "GAME : 85167, TIME ECLAPSED : 0.4253227710723877, EPSILON : 0.14832999999999996, MEAN_REWARD : 151.6283325769937\n",
            "Reward 151.61332115143986 -> 151.6283325769937 Model Saved\n",
            "GAME : 87369, TIME ECLAPSED : 0.6143348217010498, EPSILON : 0.12631000000000003, MEAN_REWARD : 163.87993335061327\n",
            "Reward 163.6745312110064 -> 163.87993335061327 Model Saved\n",
            "GAME : 88476, TIME ECLAPSED : 0.23842167854309082, EPSILON : 0.11524000000000001, MEAN_REWARD : 176.011825622728\n",
            "Reward 175.39098668196507 -> 176.011825622728 Model Saved\n",
            "GAME : 91563, TIME ECLAPSED : 0.4212071895599365, EPSILON : 0.08436999999999995, MEAN_REWARD : 185.7383575564463\n",
            "Reward 185.4822004414226 -> 185.7383575564463 Model Saved\n",
            "GAME : 93479, TIME ECLAPSED : 0.3281998634338379, EPSILON : 0.06520999999999999, MEAN_REWARD : 196.4026005362385\n",
            "Reward 196.1948250313743 -> 196.4026005362385 Model Saved\n",
            "GAME : 94393, TIME ECLAPSED : 0.3726811408996582, EPSILON : 0.05606999999999995, MEAN_REWARD : 208.7965296691816\n",
            "Reward 208.4569350524368 -> 208.7965296691816 Model Saved\n"
          ]
        },
        {
          "output_type": "display_data",
          "data": {
            "text/plain": [
              "<Figure size 640x480 with 1 Axes>"
            ],
            "image/png": "[encoded data removed]"
          },
          "metadata": {}
        },
        {
          "output_type": "stream",
          "name": "stdout",
          "text": [
            "GAME : 104102, TIME ECLAPSED : 0.30881643295288086, EPSILON : 0.01, MEAN_REWARD : 219.67468869857748\n",
            "Reward 219.36305160573414 -> 219.67468869857748 Model Saved\n",
            "GAME : 113652, TIME ECLAPSED : 0.17425942420959473, EPSILON : 0.01, MEAN_REWARD : 230.1897552382733\n",
            "Reward 229.39953119770996 -> 230.1897552382733 Model Saved\n",
            "GAME : 155785, TIME ECLAPSED : 0.17681503295898438, EPSILON : 0.01, MEAN_REWARD : 241.12098535957853\n",
            "Reward 241.0746593590654 -> 241.12098535957853 Model Saved\n",
            "SOLVED in 163613 obs\n"
          ]
        }
      ],
      "source": [
        "device = torch.device(\"cuda\" if torch.cuda.is_available() else 'cpu')\n",
        "\n",
        "net = DQN(env.observation_space.shape[0], env.action_space.n).to(device)\n",
        "tgt_net = DQN(env.observation_space.shape[0], env.action_space.n).to(device)\n",
        "\n",
        "buffer = ExperienceBuffer(REPLAY_BUFFER_SIZE)\n",
        "\n",
        "agent = Agent(env, buffer)\n",
        "\n",
        "epsilon = EPSILON_START\n",
        "\n",
        "optimizer = optim.Adam(net.parameters(), lr=LEARNING_RATE)\n",
        "\n",
        "# Lists to track total rewards and losses over training\n",
        "total_rewards = []\n",
        "losses = []\n",
        "\n",
        "# Initialize time variables for tracking training time\n",
        "ts = time.time()\n",
        "best_mean_reward = None\n",
        "obs_id = 0\n",
        "\n",
        "while True:\n",
        "    obs_id += 1\n",
        "\n",
        "    # Update exploration rate based on epsilon decay schedule\n",
        "    epsilon = max(EPSILON_FINAL, EPSILON_START - obs_id/EPSILON_DECAY_OBS)\n",
        "\n",
        "    # Agent takes a step in the environment, receives a reward\n",
        "    reward = agent.step(net, epsilon, device=device)\n",
        "\n",
        "    if reward is not None:\n",
        "        # Store total rewards and update game time\n",
        "        total_rewards.append(reward)\n",
        "        game_time = time.time() - ts\n",
        "        ts = time.time()\n",
        "        mean_reward = np.mean(total_rewards[-100:])\n",
        "\n",
        "\n",
        "        if best_mean_reward is None or best_mean_reward < mean_reward:\n",
        "            torch.save(net.state_dict(), './lunar_lander-best.dat')\n",
        "\n",
        "            if best_mean_reward is None:\n",
        "                last = mean_reward\n",
        "                best_mean_reward = mean_reward\n",
        "\n",
        "            if best_mean_reward is not None and best_mean_reward - last > 10:\n",
        "                last = best_mean_reward\n",
        "                print(\"GAME : {}, TIME ECLAPSED : {}, EPSILON : {}, MEAN_REWARD : {}\"\n",
        "                      .format(obs_id, game_time, epsilon, mean_reward))\n",
        "                print(\"Reward {} -> {} Model Saved\".format(best_mean_reward, mean_reward))\n",
        "\n",
        "            best_mean_reward = mean_reward\n",
        "\n",
        "        if mean_reward > MEAN_GOAL_REWARD:\n",
        "            print(\"SOLVED in {} obs\".format(obs_id))\n",
        "            break\n",
        "\n",
        "    # Continue training if the replay buffer size is below the minimum required\n",
        "    if len(buffer) < REPLAY_MIN_SIZE:\n",
        "        continue\n",
        "\n",
        "    # Synchronize target network with the Q-network at regular intervals\n",
        "    if obs_id % SYNC_TARGET_OBS == 0:\n",
        "        tgt_net.load_state_dict(net.state_dict())\n",
        "\n",
        "    optimizer.zero_grad()\n",
        "    batch = buffer.sample(BATCH_SIZE)\n",
        "    loss_t = cal_loss(batch,net,tgt_net,device= device)\n",
        "    losses.append(loss_t.item())\n",
        "\n",
        "    loss_t.backward()\n",
        "    optimizer.step()\n",
        "\n",
        "    # TODO: Plot learning curves every few episodes or steps\n",
        "    PLOT_INTERVAL = 100000\n",
        "    if obs_id % PLOT_INTERVAL == 0 and obs_id != 0:\n",
        "        plt.plot(losses, label='Loss')\n",
        "        plt.xlabel('Episode')\n",
        "        plt.ylabel('Loss')\n",
        "        plt.title('Training Loss Over Episodes')\n",
        "        plt.legend()\n",
        "        plt.show()\n"
      ]
    },
    {
      "cell_type": "markdown",
      "metadata": {
        "id": "MwZygyvBOzLe"
      },
      "source": [
        "# Visual Comparison:\n",
        "\n",
        "write a function to render and display the environment before and after training. What visual differences do you observe in the agent's behavior? Discuss it. Also, Upload the Videos with your notebook. You can use the following library for rendering and saving videos."
      ]
    },
    {
      "cell_type": "markdown",
      "source": [
        "I couldn't show the videos on colab so I saved them as mp4 files and attach them."
      ],
      "metadata": {
        "id": "2-fJnpi9j4iM"
      }
    },
    {
      "cell_type": "code",
      "execution_count": null,
      "metadata": {
        "id": "9_ClI7VqMHgh",
        "colab": {
          "base_uri": "https://localhost:8080/"
        },
        "outputId": "0d505483-ea5b-4b02-d296-78ece7f7b844"
      },
      "outputs": [
        {
          "output_type": "stream",
          "name": "stdout",
          "text": [
            "### BEFORE TRAINING ###\n"
          ]
        },
        {
          "output_type": "stream",
          "name": "stderr",
          "text": [
            "/usr/local/lib/python3.10/dist-packages/gym/core.py:43: DeprecationWarning: \u001b[33mWARN: The argument mode in render method is deprecated; use render_mode during environment initialization instead.\n",
            "See here for more information: https://www.gymlibrary.ml/content/api/\u001b[0m\n",
            "  deprecation(\n",
            "<ipython-input-19-6a441adb7084>:21: UserWarning: Creating a tensor from a list of numpy.ndarrays is extremely slow. Please consider converting the list to a single numpy.ndarray with numpy.array() before converting to a tensor. (Triggered internally at ../torch/csrc/utils/tensor_new.cpp:261.)\n",
            "  obs = torch.FloatTensor([obs]).to(device)\n",
            "WARNING:imageio_ffmpeg:IMAGEIO FFMPEG_WRITER WARNING: input image is not divisible by macro_block_size=16, resizing from (600, 400) to (608, 400) to ensure video compatibility with most codecs and players. To prevent resizing, make your input image divisible by the macro_block_size or set the macro_block_size to 1 (risking incompatibility).\n"
          ]
        },
        {
          "output_type": "stream",
          "name": "stdout",
          "text": [
            "### AFTER TRAINING ###\n"
          ]
        },
        {
          "output_type": "stream",
          "name": "stderr",
          "text": [
            "WARNING:imageio_ffmpeg:IMAGEIO FFMPEG_WRITER WARNING: input image is not divisible by macro_block_size=16, resizing from (600, 400) to (608, 400) to ensure video compatibility with most codecs and players. To prevent resizing, make your input image divisible by the macro_block_size or set the macro_block_size to 1 (risking incompatibility).\n"
          ]
        }
      ],
      "source": [
        "import imageio\n",
        "import torch\n",
        "import numpy as np\n",
        "from IPython.display import HTML\n",
        "from IPython import display\n",
        "\n",
        "# Helper function for rendering and saving a video\n",
        "def render_and_save_video(env, net, episodes=10, save_path=\"./render_video.mp4\", device=\"cpu\"):\n",
        "    images = []  # List to store frames\n",
        "\n",
        "    for episode in range(episodes):\n",
        "        obs = env.reset()\n",
        "        done = False\n",
        "\n",
        "        while not done:\n",
        "            # Render the current state\n",
        "            frame = env.render(mode='rgb_array')\n",
        "            images.append(frame)\n",
        "\n",
        "            # Convert observation to tensor and move to the specified device\n",
        "            obs = torch.FloatTensor([obs]).to(device)\n",
        "\n",
        "            # Choose the action using the trained network\n",
        "            with torch.no_grad():\n",
        "                action = net(obs).argmax(dim=1).item()\n",
        "\n",
        "            # Take a step in the environment\n",
        "            obs, _, done, _ = env.step(action)\n",
        "\n",
        "    # Save the frames as a video\n",
        "    imageio.mimsave(save_path, images)\n",
        "\n",
        "# Render and save a video before training\n",
        "print(\"### BEFORE TRAINING ###\")\n",
        "render_and_save_video(env, net, episodes=1, device=device, save_path='./before.mp4')\n",
        "\n",
        "# Render and save a video after training\n",
        "print(\"### AFTER TRAINING ###\")\n",
        "render_and_save_video(env, net, episodes=1, device=device, save_path='./after.mp4')\n"
      ]
    },
    {
      "cell_type": "markdown",
      "metadata": {
        "id": "pZsGQY4DQ9Z_"
      },
      "source": [
        "# Question:\n",
        "\n",
        "Exploration (Epsilon-Greedy):\n",
        "\n",
        "Discuss the significance of the exploration strategy, specifically the Epsilon-Greedy approach, in balancing exploration and exploitation during training."
      ]
    },
    {
      "cell_type": "markdown",
      "source": [
        "The exploration strategy, specifically the Epsilon-Greedy approach, plays a crucial role in reinforcement learning as it allows for a delicate balance between exploration and exploitation. In this type of learning, the main challenge is to find the best possible course of action within a given environment by actively engaging with it. This requires a careful consideration of both exploiting current knowledge for immediate gain and exploring uncharted territories in the hopes of discovering better strategies. To address this dilemma, the Epsilon-Greedy strategy offers a straightforward yet powerful solution. Here's how it works:\n",
        "\n",
        " **Exploitation (Greedy Action):** By choosing the most optimal course of action with a probability of $$(1 - \\epsilon)$$, the agent takes advantage of its existing knowledge. This is known as exploitation."
      ],
      "metadata": {
        "id": "owZb_bUScgy6"
      }
    },
    {
      "cell_type": "code",
      "source": [],
      "metadata": {
        "id": "Q4B64BpccqgK"
      },
      "execution_count": null,
      "outputs": []
    }
  ],
  "metadata": {
    "accelerator": "GPU",
    "colab": {
      "provenance": []
    },
    "kernelspec": {
      "display_name": "Python 3 (ipykernel)",
      "language": "python",
      "name": "python3"
    },
    "language_info": {
      "codemirror_mode": {
        "name": "ipython",
        "version": 3
      },
      "file_extension": ".py",
      "mimetype": "text/x-python",
      "name": "python",
      "nbconvert_exporter": "python",
      "pygments_lexer": "ipython3",
      "version": "3.10.12"
    }
  },
  "nbformat": 4,
  "nbformat_minor": 0
}