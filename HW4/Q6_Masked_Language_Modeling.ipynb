{
  "cells": [
    {
      "cell_type": "markdown",
      "metadata": {
        "id": "cWs3vxqeU5_d"
      },
      "source": [
        "<h1>HW4 - Attention and Transformers- Practical Q1</h1>\n",
        "<h3><font color=yellow>Total Points: 100</font></h3>\n",
        "\n"
      ]
    },
    {
      "cell_type": "markdown",
      "metadata": {
        "id": "0aJYoCAUqOgi"
      },
      "source": [
        "\n",
        "\n",
        "---\n",
        "\n",
        "\n",
        "<h3>Masked language modeling is a technique used in natural language processing to train language models.</h3>\n",
        "<h3>It originated as a way to teach models contextual understanding and the ability to fill in missing pieces of information within a sentence. </h3>\n",
        "<h3>The concept involves masking certain words in a sentence and tasking the model with predicting what those masked words should be, based on the context provided by the surrounding words.</h3>\n",
        "\n",
        "\n",
        "---\n",
        "\n"
      ]
    },
    {
      "cell_type": "markdown",
      "metadata": {
        "id": "OWNC3IkVqO-E"
      },
      "source": [
        "<h2>In this assignment you are going to implement and train a Masked Language Model in two settings:</h2>\n",
        "\n",
        "1.   In the first part you will implement the mlm in PyTorch from scratch\n",
        "2.   In the second part you will use HuggingFace library to train a RoBERTa MLM using a trainer.\n",
        "\n",
        "\n",
        "---\n",
        "\n"
      ]
    },
    {
      "cell_type": "markdown",
      "metadata": {
        "id": "TJ8GNCiPqRS4"
      },
      "source": [
        "\n",
        "<h3><font color=yellow>Notes:</font></h3>\n",
        "\n",
        "\n",
        "*   The model architecture includes only **Transformer Encoder** layers (from [Attention Is All You Need](https://arxiv.org/abs/1706.03762) paper).\n",
        "*   It is like a BERT model, the only difference is that we won't have the \"Next Sentence Prediction\" part, in other words the model will be trained only to predict the masked tokens.\n",
        "*   Remember to save the RoBERTa model in the second part of assignment (trained with HuggingFace lib.), you'll be needing it for the next practical assignment (POS Tagging).\n",
        "*   Write the code only in the specified parts.\n",
        "*   If you have any questions, ask your question in Quera.\n",
        "\n",
        "<font color=greeen>Good Luck!</font>\n",
        "\n",
        "\n",
        "---\n",
        "\n",
        "\n"
      ]
    },
    {
      "cell_type": "markdown",
      "metadata": {
        "id": "detIdW4eVJsV"
      },
      "source": [
        "# Imports and Installations"
      ]
    },
    {
      "cell_type": "code",
      "execution_count": 1,
      "metadata": {
        "colab": {
          "base_uri": "https://localhost:8080/"
        },
        "id": "3kkHHmzLjitC",
        "outputId": "6c4d6a4f-ebd6-452d-86d0-68ba33b37a2b"
      },
      "outputs": [
        {
          "output_type": "stream",
          "name": "stdout",
          "text": [
            "Mounted at /content/drive\n"
          ]
        }
      ],
      "source": [
        "from google.colab import drive\n",
        "drive.mount('/content/drive')"
      ]
    },
    {
      "cell_type": "code",
      "execution_count": 2,
      "metadata": {
        "id": "1r5GGsvwjCS0"
      },
      "outputs": [],
      "source": [
        "%%capture\n",
        "\n",
        "!pip install transformers\n",
        "!pip install accelerate -U\n",
        "!pip install datasets\n",
        "!pip install huggingface_hub\n",
        "!pip install tokenizers"
      ]
    },
    {
      "cell_type": "code",
      "execution_count": 3,
      "metadata": {
        "id": "JSLEjNV5b1Vj"
      },
      "outputs": [],
      "source": [
        "import os\n",
        "from pathlib import Path\n",
        "import torch\n",
        "import re\n",
        "import random\n",
        "import transformers, datasets\n",
        "from tokenizers import BertWordPieceTokenizer\n",
        "from transformers import BertTokenizer\n",
        "from tqdm import tqdm\n",
        "from torch.utils.data import Dataset, DataLoader\n",
        "import itertools\n",
        "import math\n",
        "import torch.nn.functional as F\n",
        "import numpy as np\n",
        "import pandas as pd\n",
        "from torch.optim import Adam\n",
        "from sklearn.model_selection import train_test_split\n",
        "import tokenizers\n",
        "from huggingface_hub import notebook_login\n",
        "import torch.nn as nn\n",
        "\n",
        "import matplotlib.pyplot as plt\n",
        "import seaborn as sns\n",
        "import pickle"
      ]
    },
    {
      "cell_type": "markdown",
      "metadata": {
        "id": "_6C7a70U5E5x"
      },
      "source": [
        "# 1-MLM Implementation with PyTorch From Scratch: <font color=yellow>Total Points:70</font>"
      ]
    },
    {
      "cell_type": "markdown",
      "metadata": {
        "id": "FoiUphZzvzX-"
      },
      "source": [
        "## 1-1-Data Preprocessing"
      ]
    },
    {
      "cell_type": "code",
      "execution_count": 5,
      "metadata": {
        "id": "uoJq4EW966EP"
      },
      "outputs": [],
      "source": [
        "#load dataset file and clean it\n",
        "with open('/content/Parsi_Mianeh_Corpus.txt', 'r') as f:\n",
        "  corpus = f.read()\n",
        "corpus = re.sub('٭', '', corpus)\n",
        "corpus = re.sub('\\xa0', '', corpus)\n",
        "corpus = re.sub('#', '', corpus)"
      ]
    },
    {
      "cell_type": "code",
      "execution_count": 6,
      "metadata": {
        "id": "waWsUyT-52Ii"
      },
      "outputs": [],
      "source": [
        "#train tokenizer from scratch with byte pair level\n",
        "spl_tokens = ['[PAD]', '[CLS]', '[SEP]', '[MASK]', '[UNK]']\n",
        "temp_post_processor = tokenizers.processors.TemplateProcessing(\n",
        "    single=\"[CLS] $A [SEP]\",\n",
        "    pair=\"[CLS] $A [SEP] $B:1 [SEP]:1\",\n",
        "    special_tokens=[\n",
        "        (\"[CLS]\", spl_tokens.index(\"[CLS]\")),\n",
        "        (\"[SEP]\", spl_tokens.index(\"[SEP]\")),\n",
        "    ],\n",
        ")\n",
        "\n",
        "tokenizer = tokenizers.Tokenizer(tokenizers.models.BPE(unk_token = spl_tokens[0], mask_token=spl_tokens[2]))\n",
        "tokenizer_trainer = tokenizers.trainers.BpeTrainer(special_tokens = spl_tokens)\n",
        "tokenizer.pre_tokenizer = tokenizers.pre_tokenizers.Whitespace()\n",
        "tokenizer.post_processor=temp_post_processor\n",
        "\n",
        "paths = [\"Parsi_Mianeh_Corpus.txt\"]\n",
        "tokenizer.train(paths, tokenizer_trainer)\n",
        "tokenizer.save('tokenizer.json')"
      ]
    },
    {
      "cell_type": "code",
      "execution_count": 7,
      "metadata": {
        "colab": {
          "base_uri": "https://localhost:8080/"
        },
        "id": "YNfb6uHhlQsC",
        "outputId": "5e6f5b4c-ca13-4bb2-fe08-ef93bee6c078"
      },
      "outputs": [
        {
          "output_type": "stream",
          "name": "stdout",
          "text": [
            "6881\n"
          ]
        }
      ],
      "source": [
        "#get vocab size\n",
        "vocab_size = tokenizer.get_vocab_size()\n",
        "print(vocab_size)"
      ]
    },
    {
      "cell_type": "markdown",
      "metadata": {
        "id": "VapucAYj6nd5"
      },
      "source": [
        "<h4>You  need a token with <font color=greeen>WRITE</font> permission</h4>"
      ]
    },
    {
      "cell_type": "code",
      "execution_count": 8,
      "metadata": {
        "colab": {
          "base_uri": "https://localhost:8080/",
          "height": 160,
          "referenced_widgets": [
            "5a338ceb31c14130a71f119dded39a8a",
            "e0a19f01d5de4b0b9ba60939e9605b05",
            "3038cd860bcc4587acb8c72a2ccd26dd",
            "f24fdde5f4394f13b40877ebc4c4138c",
            "67007e494f5443258c31e8a5bb69d83b",
            "4b98e04e27c74e4185668bec77877d3b",
            "45521132b2a84891afdc2a318f56d266",
            "1979acbf167545fab244798f216e5713",
            "755a3034c33348f0b5c9700a879de840",
            "2305d3f68d124e8aa4e06c9e4c1a6a07",
            "fbffa1e7085241c8a9f8f4ab5b6dc5de",
            "878e563e67ed4a8cabf759955a4bbea1",
            "31a24890bad44a5e8787188281c0bb11",
            "bc24f98dce5546fba5212c28e9d8c85b",
            "c833d4138a7545f5b59dd4ec1a0fa66f",
            "581def4cbc344a44838f7e9cd8cd8dbd",
            "2f1b978d6d5748d89d695a90e488ae34",
            "53c6bafa2bb04bbda1a93e3dbfc0693c",
            "ecfdd7fd450c46f49779e9ffd66cadb6",
            "f423ba6c0ef44b2c8984c008c7b15abc",
            "87d1a6259f7a40869f977f81e11a6b0a",
            "f803a46d4f3440cbb08e4846aebf6c23",
            "6214a5a5826f487d9805bfc17d8268ab",
            "066b85c5363749219d6a09c8d5622481",
            "a63cb6ba39b647fd9c94ddfde77cf8d4",
            "c5ce01d7c9924d3aa6d85d4d79767246",
            "a7e2eb5b60b24fda9d308f64185bd7f9",
            "59ffe85c0083409999f36dba7eef1b25",
            "19d3a673a0a94b4e8a03db6b9085104c",
            "f78939906c544aada677126006f55e91",
            "1e3e79872c1646648398cbd192fb52a3",
            "1adea4dd784a47f4ac9efb4c001719fc"
          ]
        },
        "id": "nZ0e8_-bxLGv",
        "outputId": "6cd48cfe-7a21-4100-96c3-1506942135c6"
      },
      "outputs": [
        {
          "output_type": "display_data",
          "data": {
            "text/plain": [
              "VBox(children=(HTML(value='<center> <img\\nsrc=https://huggingface.co/front/assets/huggingface_logo-noborder.sv…"
            ],
            "application/vnd.jupyter.widget-view+json": {
              "version_major": 2,
              "version_minor": 0,
              "model_id": "5a338ceb31c14130a71f119dded39a8a"
            }
          },
          "metadata": {}
        }
      ],
      "source": [
        "#logging in to hugging face\n",
        "notebook_login()"
      ]
    },
    {
      "cell_type": "code",
      "execution_count": 10,
      "metadata": {
        "colab": {
          "base_uri": "https://localhost:8080/"
        },
        "id": "phSkAHN1lS85",
        "outputId": "09f73bf9-0c2b-43ba-a0d5-70130784dfe0"
      },
      "outputs": [
        {
          "output_type": "stream",
          "name": "stderr",
          "text": [
            "The tokenizer class you load from this checkpoint is not the same type as the class this function is called from. It may result in unexpected tokenization. \n",
            "The tokenizer class you load from this checkpoint is 'PreTrainedTokenizerFast'. \n",
            "The class this function is called from is 'RobertaTokenizerFast'.\n"
          ]
        },
        {
          "output_type": "execute_result",
          "data": {
            "text/plain": [
              "('tokenizer/tokenizer_config.json',\n",
              " 'tokenizer/special_tokens_map.json',\n",
              " 'tokenizer/vocab.json',\n",
              " 'tokenizer/merges.txt',\n",
              " 'tokenizer/added_tokens.json',\n",
              " 'tokenizer/tokenizer.json')"
            ]
          },
          "metadata": {},
          "execution_count": 10
        }
      ],
      "source": [
        "#saved fast tokenizer to file and convert it to roberta tokenizer\n",
        "fast_tokenizer = transformers.PreTrainedTokenizerFast(tokenizer_file='tokenizer.json')\n",
        "fast_tokenizer.save_pretrained('fast_tokenizer')\n",
        "\n",
        "tokenizer = transformers.RobertaTokenizerFast.from_pretrained('fast_tokenizer')\n",
        "tokenizer.pad_token_id = 0\n",
        "tokenizer.cls_token_id = 1\n",
        "tokenizer.sep_token_id = 2\n",
        "tokenizer.mask_token_id = 3\n",
        "tokenizer.unk_token_id = 4\n",
        "\n",
        "your_hugging_face_id=\"z-rahimi-r\"\n",
        "tokenizer.save_pretrained(f'{your_hugging_face_id}/parsig_tokenizer', push_to_hub=True)\n",
        "tokenizer.save_pretrained('tokenizer')"
      ]
    },
    {
      "cell_type": "code",
      "execution_count": 11,
      "metadata": {
        "id": "O7RO26qK_WbR"
      },
      "outputs": [],
      "source": [
        "class Custom_Dataset(Dataset):\n",
        "    def __init__(self, tokenizer, data, max_length):\n",
        "        self.tokenizer = tokenizer\n",
        "        self.corpus = data\n",
        "        self.corpus_lines = len(data)\n",
        "        self.max_length = max_length\n",
        "        self.preprocessed_data=None\n",
        "\n",
        "    def __len__(self):\n",
        "        return self.corpus_lines\n",
        "\n",
        "    def __getitem__(self, index):\n",
        "        return self.preprocessed_data[index]\n",
        "\n",
        "\n",
        "    def random_word(self, token_ids):\n",
        "\n",
        "        # remove cls and sep token\n",
        "        token_ids=token_ids[1:-1]\n",
        "        output_label = []\n",
        "        output = []\n",
        "\n",
        "        # 15% of the tokens would be replaced\n",
        "        for i, token_id in enumerate(token_ids):\n",
        "            prob = random.random()\n",
        "\n",
        "            if prob < 0.15:\n",
        "              prob /= 0.15\n",
        "              # 80% chance change token to mask token\n",
        "              if prob < 0.8:\n",
        "                  output.append(self.tokenizer.vocab['[MASK]'])\n",
        "\n",
        "              # 10% chance change token to random token\n",
        "              elif prob < 0.9:\n",
        "                  output.append(random.randrange(self.tokenizer.vocab_size))\n",
        "\n",
        "              # 10% chance change token to current token\n",
        "              else:\n",
        "                  output.append(token_id)\n",
        "              output_label.append(token_id)\n",
        "            else:\n",
        "              output.append(token_id)\n",
        "              output_label.append(-100)\n",
        "\n",
        "\n",
        "        # flattening\n",
        "        output = list(itertools.chain(*[[x] if not isinstance(x, list) else x for x in output]))\n",
        "        output_label = list(itertools.chain(*[[x] if not isinstance(x, list) else x for x in output_label]))\n",
        "        assert len(output) == len(output_label)\n",
        "        return output, output_label\n",
        "\n",
        "    def get_corpus_line(self, index):\n",
        "        return self.corpus[index]\n",
        "\n",
        "\n",
        "    def preprocess_function(self):\n",
        "        preprocessed_data=[]\n",
        "\n",
        "        for i in tqdm(range(self.corpus_lines)):\n",
        "            # get sample at index\n",
        "          data = self.get_corpus_line(i)\n",
        "\n",
        "          # Step 2: replace 15% of tokens randomly\n",
        "          text_token_ids, text_labels = self.random_word(data['input_ids'])\n",
        "\n",
        "          # Step 3: Adding CLS and SEP tokens to the start and end of sentences\n",
        "          input_ids = [self.tokenizer.vocab['[CLS]']] + text_token_ids + [self.tokenizer.vocab['[SEP]']]\n",
        "          labels = [-100] + text_labels + [-100]\n",
        "\n",
        "          # Step 4: Truncate at max_length\n",
        "          input_ids = (input_ids)[:self.max_length]\n",
        "          segment_ids = ([1 for _ in range(len(input_ids))])[:self.max_length]\n",
        "          labels = (labels)[:self.max_length]\n",
        "\n",
        "          # Step 5: pad ids and labels\n",
        "          padding = [self.tokenizer.vocab['[PAD]'] for _ in range(self.max_length - len(input_ids))]\n",
        "          label_padding = [-100 for _ in range(self.max_length - len(input_ids))]\n",
        "          input_ids.extend(padding), segment_ids.extend(padding), labels.extend(label_padding)\n",
        "\n",
        "          output = {\"input_ids\": input_ids,\n",
        "                    \"labels\": labels,\n",
        "                    \"segment_ids\": segment_ids}\n",
        "\n",
        "          output={key: torch.tensor(value) for key, value in output.items()}\n",
        "          preprocessed_data.append(output)\n",
        "\n",
        "        self.preprocessed_data=preprocessed_data\n",
        "        return preprocessed_data"
      ]
    },
    {
      "cell_type": "markdown",
      "metadata": {
        "id": "9KFiR4mqd1_4"
      },
      "source": [
        "Loading Dataset"
      ]
    },
    {
      "cell_type": "code",
      "execution_count": 12,
      "metadata": {
        "colab": {
          "base_uri": "https://localhost:8080/",
          "height": 424
        },
        "id": "x3mnNPPceKGv",
        "outputId": "a66964a9-80ba-4972-eb79-9ac68e9f951d"
      },
      "outputs": [
        {
          "output_type": "execute_result",
          "data": {
            "text/plain": [
              "                                                   text\n",
              "0                       ud baγōbaxt ān ī did-iz baxšēnd\n",
              "1                               ud ka mīrēnd ahlaw hēnd\n",
              "2     ud ōy ī pēm-xwarišn mardōm tan-drusttar ud zōr...\n",
              "3     kū pādixšāyān rāy tis-ē ham-pursagīh ī abāg dā...\n",
              "4     pad ǰōrdā ham-dādestān būd hēnd kū ān and gyāg...\n",
              "...                                                 ...\n",
              "3404         ud pad wīst-sālag hāxtēd kawīg ī kundā pus\n",
              "3405                                      čē guft ēstēd\n",
              "3406  čē ōy ī bēš-burdār rāmišn ī gētīg ud mēnōg wan...\n",
              "3407  ud šašom kē pad čašm ī yazadān ud uzwān ī wehā...\n",
              "3408  bistag ī gurgānīg ka pad sōr-ābag brēzēnd ud n...\n",
              "\n",
              "[3409 rows x 1 columns]"
            ],
            "text/html": [
              "\n",
              "  <div id=\"df-68a6f592-853c-4859-bd94-b53f6ef1d53b\" class=\"colab-df-container\">\n",
              "    <div>\n",
              "<style scoped>\n",
              "    .dataframe tbody tr th:only-of-type {\n",
              "        vertical-align: middle;\n",
              "    }\n",
              "\n",
              "    .dataframe tbody tr th {\n",
              "        vertical-align: top;\n",
              "    }\n",
              "\n",
              "    .dataframe thead th {\n",
              "        text-align: right;\n",
              "    }\n",
              "</style>\n",
              "<table border=\"1\" class=\"dataframe\">\n",
              "  <thead>\n",
              "    <tr style=\"text-align: right;\">\n",
              "      <th></th>\n",
              "      <th>text</th>\n",
              "    </tr>\n",
              "  </thead>\n",
              "  <tbody>\n",
              "    <tr>\n",
              "      <th>0</th>\n",
              "      <td>ud baγōbaxt ān ī did-iz baxšēnd</td>\n",
              "    </tr>\n",
              "    <tr>\n",
              "      <th>1</th>\n",
              "      <td>ud ka mīrēnd ahlaw hēnd</td>\n",
              "    </tr>\n",
              "    <tr>\n",
              "      <th>2</th>\n",
              "      <td>ud ōy ī pēm-xwarišn mardōm tan-drusttar ud zōr...</td>\n",
              "    </tr>\n",
              "    <tr>\n",
              "      <th>3</th>\n",
              "      <td>kū pādixšāyān rāy tis-ē ham-pursagīh ī abāg dā...</td>\n",
              "    </tr>\n",
              "    <tr>\n",
              "      <th>4</th>\n",
              "      <td>pad ǰōrdā ham-dādestān būd hēnd kū ān and gyāg...</td>\n",
              "    </tr>\n",
              "    <tr>\n",
              "      <th>...</th>\n",
              "      <td>...</td>\n",
              "    </tr>\n",
              "    <tr>\n",
              "      <th>3404</th>\n",
              "      <td>ud pad wīst-sālag hāxtēd kawīg ī kundā pus</td>\n",
              "    </tr>\n",
              "    <tr>\n",
              "      <th>3405</th>\n",
              "      <td>čē guft ēstēd</td>\n",
              "    </tr>\n",
              "    <tr>\n",
              "      <th>3406</th>\n",
              "      <td>čē ōy ī bēš-burdār rāmišn ī gētīg ud mēnōg wan...</td>\n",
              "    </tr>\n",
              "    <tr>\n",
              "      <th>3407</th>\n",
              "      <td>ud šašom kē pad čašm ī yazadān ud uzwān ī wehā...</td>\n",
              "    </tr>\n",
              "    <tr>\n",
              "      <th>3408</th>\n",
              "      <td>bistag ī gurgānīg ka pad sōr-ābag brēzēnd ud n...</td>\n",
              "    </tr>\n",
              "  </tbody>\n",
              "</table>\n",
              "<p>3409 rows × 1 columns</p>\n",
              "</div>\n",
              "    <div class=\"colab-df-buttons\">\n",
              "\n",
              "  <div class=\"colab-df-container\">\n",
              "    <button class=\"colab-df-convert\" onclick=\"convertToInteractive('df-68a6f592-853c-4859-bd94-b53f6ef1d53b')\"\n",
              "            title=\"Convert this dataframe to an interactive table.\"\n",
              "            style=\"display:none;\">\n",
              "\n",
              "  <svg xmlns=\"http://www.w3.org/2000/svg\" height=\"24px\" viewBox=\"0 -960 960 960\">\n",
              "    <path d=\"M120-120v-720h720v720H120Zm60-500h600v-160H180v160Zm220 220h160v-160H400v160Zm0 220h160v-160H400v160ZM180-400h160v-160H180v160Zm440 0h160v-160H620v160ZM180-180h160v-160H180v160Zm440 0h160v-160H620v160Z\"/>\n",
              "  </svg>\n",
              "    </button>\n",
              "\n",
              "  <style>\n",
              "    .colab-df-container {\n",
              "      display:flex;\n",
              "      gap: 12px;\n",
              "    }\n",
              "\n",
              "    .colab-df-convert {\n",
              "      background-color: #E8F0FE;\n",
              "      border: none;\n",
              "      border-radius: 50%;\n",
              "      cursor: pointer;\n",
              "      display: none;\n",
              "      fill: #1967D2;\n",
              "      height: 32px;\n",
              "      padding: 0 0 0 0;\n",
              "      width: 32px;\n",
              "    }\n",
              "\n",
              "    .colab-df-convert:hover {\n",
              "      background-color: #E2EBFA;\n",
              "      box-shadow: 0px 1px 2px rgba(60, 64, 67, 0.3), 0px 1px 3px 1px rgba(60, 64, 67, 0.15);\n",
              "      fill: #174EA6;\n",
              "    }\n",
              "\n",
              "    .colab-df-buttons div {\n",
              "      margin-bottom: 4px;\n",
              "    }\n",
              "\n",
              "    [theme=dark] .colab-df-convert {\n",
              "      background-color: #3B4455;\n",
              "      fill: #D2E3FC;\n",
              "    }\n",
              "\n",
              "    [theme=dark] .colab-df-convert:hover {\n",
              "      background-color: #434B5C;\n",
              "      box-shadow: 0px 1px 3px 1px rgba(0, 0, 0, 0.15);\n",
              "      filter: drop-shadow(0px 1px 2px rgba(0, 0, 0, 0.3));\n",
              "      fill: #FFFFFF;\n",
              "    }\n",
              "  </style>\n",
              "\n",
              "    <script>\n",
              "      const buttonEl =\n",
              "        document.querySelector('#df-68a6f592-853c-4859-bd94-b53f6ef1d53b button.colab-df-convert');\n",
              "      buttonEl.style.display =\n",
              "        google.colab.kernel.accessAllowed ? 'block' : 'none';\n",
              "\n",
              "      async function convertToInteractive(key) {\n",
              "        const element = document.querySelector('#df-68a6f592-853c-4859-bd94-b53f6ef1d53b');\n",
              "        const dataTable =\n",
              "          await google.colab.kernel.invokeFunction('convertToInteractive',\n",
              "                                                    [key], {});\n",
              "        if (!dataTable) return;\n",
              "\n",
              "        const docLinkHtml = 'Like what you see? Visit the ' +\n",
              "          '<a target=\"_blank\" href=https://colab.research.google.com/notebooks/data_table.ipynb>data table notebook</a>'\n",
              "          + ' to learn more about interactive tables.';\n",
              "        element.innerHTML = '';\n",
              "        dataTable['output_type'] = 'display_data';\n",
              "        await google.colab.output.renderOutput(dataTable, element);\n",
              "        const docLink = document.createElement('div');\n",
              "        docLink.innerHTML = docLinkHtml;\n",
              "        element.appendChild(docLink);\n",
              "      }\n",
              "    </script>\n",
              "  </div>\n",
              "\n",
              "\n",
              "<div id=\"df-a143f31e-9267-4126-8acc-3c2e6b46b749\">\n",
              "  <button class=\"colab-df-quickchart\" onclick=\"quickchart('df-a143f31e-9267-4126-8acc-3c2e6b46b749')\"\n",
              "            title=\"Suggest charts\"\n",
              "            style=\"display:none;\">\n",
              "\n",
              "<svg xmlns=\"http://www.w3.org/2000/svg\" height=\"24px\"viewBox=\"0 0 24 24\"\n",
              "     width=\"24px\">\n",
              "    <g>\n",
              "        <path d=\"M19 3H5c-1.1 0-2 .9-2 2v14c0 1.1.9 2 2 2h14c1.1 0 2-.9 2-2V5c0-1.1-.9-2-2-2zM9 17H7v-7h2v7zm4 0h-2V7h2v10zm4 0h-2v-4h2v4z\"/>\n",
              "    </g>\n",
              "</svg>\n",
              "  </button>\n",
              "\n",
              "<style>\n",
              "  .colab-df-quickchart {\n",
              "      --bg-color: #E8F0FE;\n",
              "      --fill-color: #1967D2;\n",
              "      --hover-bg-color: #E2EBFA;\n",
              "      --hover-fill-color: #174EA6;\n",
              "      --disabled-fill-color: #AAA;\n",
              "      --disabled-bg-color: #DDD;\n",
              "  }\n",
              "\n",
              "  [theme=dark] .colab-df-quickchart {\n",
              "      --bg-color: #3B4455;\n",
              "      --fill-color: #D2E3FC;\n",
              "      --hover-bg-color: #434B5C;\n",
              "      --hover-fill-color: #FFFFFF;\n",
              "      --disabled-bg-color: #3B4455;\n",
              "      --disabled-fill-color: #666;\n",
              "  }\n",
              "\n",
              "  .colab-df-quickchart {\n",
              "    background-color: var(--bg-color);\n",
              "    border: none;\n",
              "    border-radius: 50%;\n",
              "    cursor: pointer;\n",
              "    display: none;\n",
              "    fill: var(--fill-color);\n",
              "    height: 32px;\n",
              "    padding: 0;\n",
              "    width: 32px;\n",
              "  }\n",
              "\n",
              "  .colab-df-quickchart:hover {\n",
              "    background-color: var(--hover-bg-color);\n",
              "    box-shadow: 0 1px 2px rgba(60, 64, 67, 0.3), 0 1px 3px 1px rgba(60, 64, 67, 0.15);\n",
              "    fill: var(--button-hover-fill-color);\n",
              "  }\n",
              "\n",
              "  .colab-df-quickchart-complete:disabled,\n",
              "  .colab-df-quickchart-complete:disabled:hover {\n",
              "    background-color: var(--disabled-bg-color);\n",
              "    fill: var(--disabled-fill-color);\n",
              "    box-shadow: none;\n",
              "  }\n",
              "\n",
              "  .colab-df-spinner {\n",
              "    border: 2px solid var(--fill-color);\n",
              "    border-color: transparent;\n",
              "    border-bottom-color: var(--fill-color);\n",
              "    animation:\n",
              "      spin 1s steps(1) infinite;\n",
              "  }\n",
              "\n",
              "  @keyframes spin {\n",
              "    0% {\n",
              "      border-color: transparent;\n",
              "      border-bottom-color: var(--fill-color);\n",
              "      border-left-color: var(--fill-color);\n",
              "    }\n",
              "    20% {\n",
              "      border-color: transparent;\n",
              "      border-left-color: var(--fill-color);\n",
              "      border-top-color: var(--fill-color);\n",
              "    }\n",
              "    30% {\n",
              "      border-color: transparent;\n",
              "      border-left-color: var(--fill-color);\n",
              "      border-top-color: var(--fill-color);\n",
              "      border-right-color: var(--fill-color);\n",
              "    }\n",
              "    40% {\n",
              "      border-color: transparent;\n",
              "      border-right-color: var(--fill-color);\n",
              "      border-top-color: var(--fill-color);\n",
              "    }\n",
              "    60% {\n",
              "      border-color: transparent;\n",
              "      border-right-color: var(--fill-color);\n",
              "    }\n",
              "    80% {\n",
              "      border-color: transparent;\n",
              "      border-right-color: var(--fill-color);\n",
              "      border-bottom-color: var(--fill-color);\n",
              "    }\n",
              "    90% {\n",
              "      border-color: transparent;\n",
              "      border-bottom-color: var(--fill-color);\n",
              "    }\n",
              "  }\n",
              "</style>\n",
              "\n",
              "  <script>\n",
              "    async function quickchart(key) {\n",
              "      const quickchartButtonEl =\n",
              "        document.querySelector('#' + key + ' button');\n",
              "      quickchartButtonEl.disabled = true;  // To prevent multiple clicks.\n",
              "      quickchartButtonEl.classList.add('colab-df-spinner');\n",
              "      try {\n",
              "        const charts = await google.colab.kernel.invokeFunction(\n",
              "            'suggestCharts', [key], {});\n",
              "      } catch (error) {\n",
              "        console.error('Error during call to suggestCharts:', error);\n",
              "      }\n",
              "      quickchartButtonEl.classList.remove('colab-df-spinner');\n",
              "      quickchartButtonEl.classList.add('colab-df-quickchart-complete');\n",
              "    }\n",
              "    (() => {\n",
              "      let quickchartButtonEl =\n",
              "        document.querySelector('#df-a143f31e-9267-4126-8acc-3c2e6b46b749 button');\n",
              "      quickchartButtonEl.style.display =\n",
              "        google.colab.kernel.accessAllowed ? 'block' : 'none';\n",
              "    })();\n",
              "  </script>\n",
              "</div>\n",
              "    </div>\n",
              "  </div>\n"
            ]
          },
          "metadata": {},
          "execution_count": 12
        }
      ],
      "source": [
        "with open('Parsi_Mianeh_Corpus.txt', 'r') as f:\n",
        "  text = f.read()\n",
        "sentences = text.split('\\n')[:-1]\n",
        "corpus_df=pd.DataFrame(data=sentences, columns=[\"text\"])\n",
        "corpus_df"
      ]
    },
    {
      "cell_type": "code",
      "execution_count": 13,
      "metadata": {
        "colab": {
          "base_uri": "https://localhost:8080/"
        },
        "id": "YioyZlLJ8Dsp",
        "outputId": "84769e7c-16b9-43a7-963b-a89ac1c9cf99"
      },
      "outputs": [
        {
          "output_type": "execute_result",
          "data": {
            "text/plain": [
              "DatasetDict({\n",
              "    train: Dataset({\n",
              "        features: ['text'],\n",
              "        num_rows: 3409\n",
              "    })\n",
              "})"
            ]
          },
          "metadata": {},
          "execution_count": 13
        }
      ],
      "source": [
        "from datasets import DatasetDict, Dataset\n",
        "\n",
        "dataset = DatasetDict({'train': Dataset.from_pandas(corpus_df)})\n",
        "dataset"
      ]
    },
    {
      "cell_type": "code",
      "execution_count": 14,
      "metadata": {
        "colab": {
          "base_uri": "https://localhost:8080/",
          "height": 153,
          "referenced_widgets": [
            "df02658a67d8467e8eb7c82aec1aa3ac",
            "92616de7ac7647d49dd7b61603b0d57d",
            "f6649e4ce6264d8eac7ba267fd8ebc44",
            "f56a28742f724ad89d0e8100a1a40146",
            "199d426425074469a9145b94c60e0992",
            "4b41a8f1baf4451e80129842056bbb61",
            "6560a1972688464bbcf33239170bf0fe",
            "c7ddcb9e9fa64e64ab62c58410bd43ba",
            "2c3cda13a9b847c2b58bfdf3c0625d06",
            "ff519d1c4e8f47eabdaa98018dd82502",
            "249dd31b769f4c228b007da982ec287c"
          ]
        },
        "id": "6wCfK91R8BOR",
        "outputId": "06dc05ac-5cdb-46eb-e0c3-eb37fa0daba9"
      },
      "outputs": [
        {
          "output_type": "display_data",
          "data": {
            "text/plain": [
              "Map:   0%|          | 0/3409 [00:00<?, ? examples/s]"
            ],
            "application/vnd.jupyter.widget-view+json": {
              "version_major": 2,
              "version_minor": 0,
              "model_id": "df02658a67d8467e8eb7c82aec1aa3ac"
            }
          },
          "metadata": {}
        },
        {
          "output_type": "execute_result",
          "data": {
            "text/plain": [
              "DatasetDict({\n",
              "    train: Dataset({\n",
              "        features: ['text', 'input_ids', 'attention_mask'],\n",
              "        num_rows: 3409\n",
              "    })\n",
              "})"
            ]
          },
          "metadata": {},
          "execution_count": 14
        }
      ],
      "source": [
        "max_input_length = 512\n",
        "max_target_length = 64\n",
        "\n",
        "def tokenize_preprocess_function(examples):\n",
        "    model_inputs = tokenizer(examples[\"text\"], max_length=max_input_length, truncation=True)\n",
        "    return model_inputs\n",
        "\n",
        "tokenized_datasets = dataset.map(tokenize_preprocess_function, batched=False)\n",
        "tokenized_datasets"
      ]
    },
    {
      "cell_type": "markdown",
      "metadata": {
        "id": "FR7ae7qDBq7Q"
      },
      "source": [
        "Preprocess your dataset once and Save it"
      ]
    },
    {
      "cell_type": "code",
      "execution_count": null,
      "metadata": {
        "colab": {
          "base_uri": "https://localhost:8080/"
        },
        "id": "cqLlvKziNQ_t",
        "outputId": "b3f39604-9c0b-4502-d464-398bdb708280"
      },
      "outputs": [
        {
          "name": "stderr",
          "output_type": "stream",
          "text": [
            "100%|██████████| 3409/3409 [17:01<00:00,  3.34it/s]\n"
          ]
        }
      ],
      "source": [
        "MAX_LEN=100\n",
        "\n",
        "train_dataset = Custom_Dataset(tokenizer, tokenized_datasets['train'], max_length=MAX_LEN)\n",
        "preprocessed_data=train_dataset.preprocess_function()"
      ]
    },
    {
      "cell_type": "code",
      "execution_count": null,
      "metadata": {
        "id": "GV-RTomB8zX2"
      },
      "outputs": [],
      "source": [
        "with open('/content/drive/MyDrive/preprocessed_data.pkl', 'wb') as file:\n",
        "  pickle.dump(preprocessed_data, file)"
      ]
    },
    {
      "cell_type": "markdown",
      "metadata": {
        "id": "cAGqONxv-Jfj"
      },
      "source": [
        "<font color=yellow>shared link of preprocessed Data</font> </br>\n",
        "<font color=greeen>add the shortcut to your drive first</font></br>\n",
        "https://drive.google.com/file/d/1ktCRq0J6QDzrW4T-Obx8m7u6GLU7JTq1/view"
      ]
    },
    {
      "cell_type": "code",
      "execution_count": 15,
      "metadata": {
        "colab": {
          "base_uri": "https://localhost:8080/"
        },
        "id": "fWnU8dTp-Ek4",
        "outputId": "256f18c7-40ea-45f7-f57b-5f2f638fd4de"
      },
      "outputs": [
        {
          "output_type": "stream",
          "name": "stdout",
          "text": [
            "3409\n"
          ]
        }
      ],
      "source": [
        "MAX_LEN=100\n",
        "path=\"/content/drive/MyDrive/preprocessed_data.pkl\"\n",
        "with open(path, 'rb') as file:\n",
        "    preprocessed_data = pickle.load(file)\n",
        "\n",
        "print(len(preprocessed_data))"
      ]
    },
    {
      "cell_type": "code",
      "execution_count": 20,
      "metadata": {
        "colab": {
          "base_uri": "https://localhost:8080/"
        },
        "id": "Ky11prQr759h",
        "outputId": "5359754d-0d54-4d86-96d3-b89e209bbf58"
      },
      "outputs": [
        {
          "output_type": "execute_result",
          "data": {
            "text/plain": [
              "{'input_ids': tensor([[  1,  54, 733,  ...,   0,   0,   0],\n",
              "         [  1, 122,   3,  ...,   0,   0,   0],\n",
              "         [  1, 142, 159,  ...,   0,   0,   0],\n",
              "         ...,\n",
              "         [  1, 158,  62,  ...,   0,   0,   0],\n",
              "         [  1,  84,   6,  ...,   0,   0,   0],\n",
              "         [  1, 139,   6,  ...,   0,   0,   0]]),\n",
              " 'labels': tensor([[-100, -100, -100,  ..., -100, -100, -100],\n",
              "         [-100, -100,  106,  ..., -100, -100, -100],\n",
              "         [-100, -100, -100,  ..., -100, -100, -100],\n",
              "         ...,\n",
              "         [-100, -100, -100,  ..., -100, -100, -100],\n",
              "         [-100, -100, -100,  ..., -100, -100, -100],\n",
              "         [-100, -100, -100,  ..., -100, -100, -100]]),\n",
              " 'segment_ids': tensor([[1, 1, 1,  ..., 0, 0, 0],\n",
              "         [1, 1, 1,  ..., 0, 0, 0],\n",
              "         [1, 1, 1,  ..., 0, 0, 0],\n",
              "         ...,\n",
              "         [1, 1, 1,  ..., 0, 0, 0],\n",
              "         [1, 1, 1,  ..., 0, 0, 0],\n",
              "         [1, 1, 1,  ..., 0, 0, 0]])}"
            ]
          },
          "metadata": {},
          "execution_count": 20
        }
      ],
      "source": [
        "BATCH_SIZE=128\n",
        "\n",
        "train_loader = DataLoader(preprocessed_data, batch_size=BATCH_SIZE, shuffle=True, pin_memory=True)\n",
        "sample_data = next(iter(train_loader))\n",
        "sample_data\n",
        "# print(train_data[random.randrange(len(train_dataset))])"
      ]
    },
    {
      "cell_type": "markdown",
      "metadata": {
        "id": "VpVv_m6lv8vB"
      },
      "source": [
        "## 1-2-Embeddings"
      ]
    },
    {
      "cell_type": "markdown",
      "metadata": {
        "id": "vDICblxKdAR_"
      },
      "source": [
        "Positional Embedding"
      ]
    },
    {
      "cell_type": "code",
      "execution_count": null,
      "metadata": {
        "id": "K0Vtsv8r4dym"
      },
      "outputs": [],
      "source": [
        "class PositionalEmbedding(torch.nn.Module):\n",
        "    \"Implement the PE function.\"\n",
        "\n",
        "    def __init__(self, d_model, max_len, device=\"cpu\"):\n",
        "        super(PositionalEmbedding, self).__init__()\n",
        "        #################################################################################\n",
        "        #                          COMPLETE THE FOLLOWING SECTION                       #\n",
        "        #################################################################################\n",
        "        pe = torch.zeros(max_len, d_model).float()\n",
        "        pe.require_grad = False\n",
        "\n",
        "        position = torch.arange(0, max_len).float().unsqueeze(1)\n",
        "        div_term = (torch.arange(0, d_model, 2).float() * -(math.log(10000.0) / d_model)).exp()\n",
        "\n",
        "        pe[:, 0::2] = torch.sin(position * div_term)\n",
        "        pe[:, 1::2] = torch.cos(position * div_term)\n",
        "\n",
        "        pe = pe.unsqueeze(0)\n",
        "        self.register_buffer('pe', pe)\n",
        "\n",
        "        #################################################################################\n",
        "        #                             \"\"\" 5 points \"\"\"\n",
        "        #################################################################################\n",
        "\n",
        "    def forward(self, x):\n",
        "        \"\"\"\n",
        "        :params x: (batch_size, max_len)\n",
        "        :output shape: (batch_size, max_len, d_model)\n",
        "        \"\"\"\n",
        "        return self.pe[:, :x.size(1)]"
      ]
    },
    {
      "cell_type": "markdown",
      "metadata": {
        "id": "2EcbtKPfdA-P"
      },
      "source": [
        "Token Embedding"
      ]
    },
    {
      "cell_type": "code",
      "execution_count": null,
      "metadata": {
        "id": "cFdZHrAu7mcA"
      },
      "outputs": [],
      "source": [
        "class Embedding(torch.nn.Module):\n",
        "    \"\"\"\n",
        "    Embedding which is consisted with under features\n",
        "        1. TokenEmbedding : normal embedding matrix\n",
        "        2. PositionalEmbedding : adding positional information using sin, cos\n",
        "        2. SegmentEmbedding : adding sentence segment info, (sent_A:1, sent_B:2)\n",
        "        sum of all these features are output of Embedding\n",
        "    \"\"\"\n",
        "\n",
        "    def __init__(self, vocab_size, embed_size, seq_len, dropout=0.1, device=\"cpu\"):\n",
        "        super().__init__()\n",
        "        #################################################################################\n",
        "        #                          COMPLETE THE FOLLOWING SECTION                       #\n",
        "        #################################################################################\n",
        "        self.token = torch.nn.Embedding(vocab_size, embed_size, padding_idx=0)\n",
        "        self.position = PositionalEmbedding(d_model=embed_size, max_len=seq_len)\n",
        "        self.segment = torch.nn.Embedding(3, embed_size, padding_idx=0)  # Assuming 0 is the padding index\n",
        "\n",
        "        self.dropout = nn.Dropout(p=dropout)\n",
        "        self.embed_size = embed_size\n",
        "\n",
        "        #################################################################################\n",
        "        #                             \"\"\" 5 points \"\"\"\n",
        "        #################################################################################\n",
        "\n",
        "    def forward(self, sequence, segment_id):\n",
        "      \"\"\"\n",
        "        :params sequence: (batch_size, max_len)\n",
        "        :param segment_id: (batch_size, max_len)\n",
        "        :output shape: (batch_size, max_len, d_model)\n",
        "      \"\"\"\n",
        "      #################################################################################\n",
        "      #                          COMPLETE THE FOLLOWING SECTION                       #\n",
        "      #################################################################################\n",
        "      x = self.token(sequence) + self.position(sequence) + self.segment(segment_id)\n",
        "\n",
        "      #################################################################################\n",
        "      #                          \"\"\" 4 points \"\"\"\n",
        "      #################################################################################\n",
        "      return self.dropout(x)"
      ]
    },
    {
      "cell_type": "markdown",
      "metadata": {
        "id": "G73cmtcE1c9A"
      },
      "source": [
        "## 1-3-Attention Module"
      ]
    },
    {
      "cell_type": "markdown",
      "metadata": {
        "id": "52h9ZGB27tTw"
      },
      "source": [
        "Multi Head Attention"
      ]
    },
    {
      "cell_type": "code",
      "execution_count": null,
      "metadata": {
        "id": "Z05fhi-TexWw"
      },
      "outputs": [],
      "source": [
        "class ScaledDotProductAttention(torch.nn.Module):\n",
        "    def __init__(self):\n",
        "        super(ScaledDotProductAttention, self).__init__()\n",
        "\n",
        "    def forward(self, Q, K, V, attn_mask, k_dim):\n",
        "        scores = torch.matmul(Q, K.transpose(-1, -2)) / np.sqrt(k_dim)\n",
        "        scores = scores.masked_fill(attn_mask == True, -1e9) # Fill padding elements with extremely low score\n",
        "        attn = torch.nn.Softmax(dim=-1)(scores)\n",
        "        context = torch.matmul(attn, V)\n",
        "        return context, attn"
      ]
    },
    {
      "cell_type": "code",
      "execution_count": null,
      "metadata": {
        "id": "t_1RlEOfgsm4"
      },
      "outputs": [],
      "source": [
        "class MultiHeadedAttention(torch.nn.Module):\n",
        "\n",
        "    def __init__(self, heads, d_model, dropout=0.1):\n",
        "        super(MultiHeadedAttention, self).__init__()\n",
        "        assert d_model % heads == 0\n",
        "        #################################################################################\n",
        "        #                          COMPLETE THE FOLLOWING SECTION                       #\n",
        "        #################################################################################\n",
        "        self.d_k = d_model // heads\n",
        "        self.h = heads\n",
        "\n",
        "        self.linear_layers = nn.ModuleList([nn.Linear(d_model, d_model) for _ in range(3)])\n",
        "        self.output_linear = nn.Linear(d_model, d_model)\n",
        "        self.attention = ScaledDotProductAttention()\n",
        "\n",
        "        self.dropout = nn.Dropout(p=dropout)\n",
        "\n",
        "        #################################################################################\n",
        "        #                            \"\"\" 5 points \"\"\"\n",
        "        #################################################################################\n",
        "\n",
        "    def forward(self, query, key, value, mask):\n",
        "        \"\"\"\n",
        "        :params query, key, value of shape: (batch_size, max_len, d_model)\n",
        "        :param mask: pad and non-pad token masks shape: (batch_size, 1, 1, max_words)\n",
        "        :output shape: (batch_size, max_len, d_model)\n",
        "        \"\"\"\n",
        "        #################################################################################\n",
        "        #                          COMPLETE THE FOLLOWING SECTION                       #\n",
        "        #################################################################################\n",
        "        batch_size = query.size(0)\n",
        "\n",
        "        # 1) Do all the linear projections in batch from d_model => h x d_k\n",
        "        query, key, value = [l(x).view(batch_size, -1, self.h, self.d_k).transpose(1, 2)\n",
        "                             for l, x in zip(self.linear_layers, (query, key, value))]\n",
        "\n",
        "        # 2) Apply attention on all the projected vectors in batch.\n",
        "        x, attn = self.attention(query, key, value, attn_mask=mask, k_dim=query.size(-1))\n",
        "\n",
        "        # 3) \"Concat\" using a view and apply a final linear.\n",
        "        x = x.transpose(1, 2).contiguous().view(batch_size, -1, self.h * self.d_k)\n",
        "\n",
        "        output = self.output_linear(x)\n",
        "\n",
        "        #################################################################################\n",
        "        #                             \"\"\" 9 points \"\"\"\n",
        "        #################################################################################\n",
        "        return output"
      ]
    },
    {
      "cell_type": "markdown",
      "metadata": {
        "id": "r22vwGSW1qxZ"
      },
      "source": [
        "## 1-4-Encoder Module"
      ]
    },
    {
      "cell_type": "code",
      "execution_count": null,
      "metadata": {
        "id": "F-WoxQU2gu7M"
      },
      "outputs": [],
      "source": [
        "class GELU(nn.Module):\n",
        "    def forward(self, x):\n",
        "        return 0.5 * x * (1 + torch.tanh(math.sqrt(2 / math.pi) * (x + 0.044715 * torch.pow(x, 3))))\n",
        "\n",
        "class PositionwiseFeedForward(torch.nn.Module):\n",
        "    \"Implements FFN equation.\"\n",
        "    def __init__(self, d_model, middle_dim, dropout=0.1):\n",
        "        super(PositionwiseFeedForward, self).__init__()\n",
        "        #################################################################################\n",
        "        #                          COMPLETE THE FOLLOWING SECTION                       #\n",
        "        #################################################################################\n",
        "        self.w_1 = nn.Linear(d_model, middle_dim)\n",
        "        self.w_2 = nn.Linear(middle_dim, d_model)\n",
        "        self.dropout = nn.Dropout(dropout)\n",
        "        self.activation = GELU()\n",
        "\n",
        "        #################################################################################\n",
        "        #                             \"\"\" 4 points \"\"\"\n",
        "        #################################################################################\n",
        "\n",
        "    def forward(self, x):\n",
        "        \"\"\"\n",
        "        :param x: (batch_size, max_len, d_model)\n",
        "        :output shape: (batch_size, max_len, d_model)\n",
        "        \"\"\"\n",
        "        #################################################################################\n",
        "        #                          COMPLETE THE FOLLOWING SECTION                       #\n",
        "        #################################################################################\n",
        "        out = self.w_2(self.dropout(self.activation(self.w_1(x))))\n",
        "\n",
        "        #################################################################################\n",
        "        #                             \"\"\" 4 points \"\"\"\n",
        "        #################################################################################\n",
        "        return out"
      ]
    },
    {
      "cell_type": "code",
      "execution_count": null,
      "metadata": {
        "id": "ppWNkeCu7mZW"
      },
      "outputs": [],
      "source": [
        "class LayerNorm(nn.Module):\n",
        "    \"Construct a layernorm module (See citation for details).\"\n",
        "\n",
        "    def __init__(self, features, eps=1e-6):\n",
        "        super(LayerNorm, self).__init__()\n",
        "        self.a_2 = nn.Parameter(torch.ones(features))\n",
        "        self.b_2 = nn.Parameter(torch.zeros(features))\n",
        "        self.eps = eps\n",
        "\n",
        "    def forward(self, x):\n",
        "        mean = x.mean(-1, keepdim=True)\n",
        "        std = x.std(-1, keepdim=True)\n",
        "        return self.a_2 * (x - mean) / (std + self.eps) + self.b_2\n",
        "\n",
        "class SublayerConnection(nn.Module):\n",
        "    def __init__(self, size, dropout):\n",
        "        super(SublayerConnection, self).__init__()\n",
        "        self.norm = LayerNorm(size)\n",
        "        self.dropout = nn.Dropout(dropout)\n",
        "\n",
        "    def forward(self, x, sublayer):\n",
        "        \"Apply residual connection to any sublayer with the same size.\"\n",
        "        return x + self.dropout(sublayer(self.norm(x)))\n",
        "\n",
        "class EncoderLayer(torch.nn.Module):\n",
        "    def __init__(self, d_model=768, heads=12, feed_forward_hidden=768 * 4, dropout=0.1):\n",
        "        super(EncoderLayer, self).__init__()\n",
        "        #################################################################################\n",
        "        #                          COMPLETE THE FOLLOWING SECTION                       #\n",
        "        #################################################################################\n",
        "        self.attention = MultiHeadedAttention(heads=heads, d_model=d_model)\n",
        "        self.feed_forward = PositionwiseFeedForward(d_model=d_model, middle_dim=feed_forward_hidden, dropout=dropout)\n",
        "        self.input_sublayer = SublayerConnection(size=d_model, dropout=dropout)\n",
        "        self.output_sublayer = SublayerConnection(size=d_model, dropout=dropout)\n",
        "        self.dropout = nn.Dropout(p=dropout)\n",
        "\n",
        "        #################################################################################\n",
        "        #                            \"\"\" 5 points \"\"\"\n",
        "        #################################################################################\n",
        "\n",
        "    def forward(self, embeddings, mask):\n",
        "        \"\"\":param embeddings: input embeddings (batch_size, max_len, d_model)\n",
        "           :param mask: pad and non-pad token masks (batch_size, 1, 1, max_len)\n",
        "           :output shape: (batch_size, max_len, d_model)\n",
        "        \"\"\"\n",
        "        #################################################################################\n",
        "        #                          COMPLETE THE FOLLOWING SECTION                       #\n",
        "        #################################################################################\n",
        "        embeddings = self.input_sublayer(embeddings, lambda _x: self.attention.forward(_x, _x, _x, mask=mask))\n",
        "        embeddings = self.output_sublayer(embeddings, self.feed_forward)\n",
        "        output = self.dropout(embeddings)\n",
        "        #################################################################################\n",
        "        #                            \"\"\" 7 points \"\"\"\n",
        "        #################################################################################\n",
        "        return output"
      ]
    },
    {
      "cell_type": "markdown",
      "metadata": {
        "id": "3FMHUw0874c8"
      },
      "source": [
        "## 1-5-Final model"
      ]
    },
    {
      "cell_type": "code",
      "execution_count": null,
      "metadata": {
        "id": "7kOdc5pDfEa4"
      },
      "outputs": [],
      "source": [
        "def get_attn_pad_mask(seq_a, seq_b):\n",
        "    batch_size, len_a = seq_a.size()\n",
        "    batch_size, len_b = seq_b.size()\n",
        "    pad_attn_mask = seq_b.data.eq(0).unsqueeze(1) # one is for masking pad tokens True\n",
        "    return pad_attn_mask.expand(batch_size, len_a, len_b).unsqueeze(1)  # batch_size x 1 x len_a x len_b"
      ]
    },
    {
      "cell_type": "code",
      "execution_count": null,
      "metadata": {
        "id": "FsblQwrJ7mWd"
      },
      "outputs": [],
      "source": [
        "class Masked_Language_Model(torch.nn.Module):\n",
        "    def __init__(self, vocab_size, seq_len, d_model=768, n_layers=12, heads=12, dropout=0.1, device=\"cpu\"):\n",
        "        \"\"\"\n",
        "        :param vocab_size: vocab_size of total words\n",
        "        :param seq_len: maximum sequence length\n",
        "        :param d_model: model hidden size\n",
        "        :param n_layers: numbers of Encoder Transformer blocks(layers)\n",
        "        :param heads: number of attention heads\n",
        "        :param dropout: dropout rate\n",
        "        \"\"\"\n",
        "        super().__init__()\n",
        "        #################################################################################\n",
        "        #                          COMPLETE THE FOLLOWING SECTION                       #\n",
        "        #################################################################################\n",
        "        self.d_model = d_model\n",
        "        self.n_layers = n_layers\n",
        "        self.heads = heads\n",
        "\n",
        "        # paper noted they used 4*hidden_size for ff_network_hidden_size\n",
        "        self.feed_forward_hidden = d_model * 4\n",
        "\n",
        "        # embedding for BERT, sum of positional, segment, token embeddings\n",
        "        self.embedding = Embedding(vocab_size=vocab_size, embed_size=d_model, seq_len=seq_len)\n",
        "\n",
        "        # multi-layers transformer blocks, deep network\n",
        "        self.transformer_blocks = nn.ModuleList(\n",
        "            [EncoderLayer(d_model, heads, d_model * 4, dropout) for _ in range(n_layers)])\n",
        "\n",
        "        self.linear = nn.Linear(d_model, vocab_size)\n",
        "        self.softmax = nn.LogSoftmax(dim=-1)\n",
        "        #################################################################################\n",
        "        #                             \"\"\" 7 points \"\"\"\n",
        "        #################################################################################\n",
        "\n",
        "\n",
        "    def forward(self, x, segment_info):\n",
        "        \"\"\":param x: (batch_size, max_len)\n",
        "           :param segment_info: (batch_size, max_len)\n",
        "           :output shape: (batch_size, max_len, vocab_size)\n",
        "        \"\"\"\n",
        "        #################################################################################\n",
        "        #                          COMPLETE THE FOLLOWING SECTION                       #\n",
        "        #################################################################################\n",
        "        mask = (x > 0).unsqueeze(1).repeat(1, x.size(1), 1).unsqueeze(1)\n",
        "\n",
        "        # embedding the indexed sequence to sequence of vectors\n",
        "        x = self.embedding(x, segment_info)\n",
        "\n",
        "        # running over multiple transformer blocks\n",
        "        for transformer in self.transformer_blocks:\n",
        "            x = transformer.forward(x, mask)\n",
        "\n",
        "        out = self.softmax(self.linear(x))\n",
        "        #################################################################################\n",
        "        #                              \"\"\" 8 points \"\"\"\n",
        "        #################################################################################\n",
        "        return out"
      ]
    },
    {
      "cell_type": "markdown",
      "metadata": {
        "id": "NxTNofhRNi84"
      },
      "source": [
        "## 1-6-Trainer and LR_scheduler"
      ]
    },
    {
      "cell_type": "code",
      "execution_count": null,
      "metadata": {
        "id": "mXDDVm1bAkPV"
      },
      "outputs": [],
      "source": [
        "class Learning_Rate_Scheduler():\n",
        "    '''A simple wrapper class for learning rate scheduling'''\n",
        "    def __init__(self, optimizer, d_model, n_warmup_steps):\n",
        "        self._optimizer = optimizer\n",
        "        self.n_warmup_steps = n_warmup_steps\n",
        "        self.n_current_steps = 0\n",
        "        self.init_lr = np.power(d_model, -0.5)\n",
        "\n",
        "    def step_and_update_lr(self):\n",
        "        \"Step with the inner optimizer\"\n",
        "        self._update_learning_rate()\n",
        "        self._optimizer.step()\n",
        "\n",
        "    def zero_grad(self):\n",
        "        \"Zero out the gradients by the inner optimizer\"\n",
        "        self._optimizer.zero_grad()\n",
        "\n",
        "    def _get_lr_scale(self):\n",
        "        return np.min([\n",
        "            np.power(self.n_current_steps, -0.5),\n",
        "            np.power(self.n_warmup_steps, -1.5) * self.n_current_steps])\n",
        "\n",
        "    def _update_learning_rate(self):\n",
        "        ''' Learning rate scheduling per step '''\n",
        "\n",
        "        self.n_current_steps += 1\n",
        "        lr = self.init_lr * self._get_lr_scale()\n",
        "\n",
        "        for param_group in self._optimizer.param_groups:\n",
        "            param_group['lr'] = lr"
      ]
    },
    {
      "cell_type": "code",
      "execution_count": null,
      "metadata": {
        "id": "4YZZGpJS8c0Y"
      },
      "outputs": [],
      "source": [
        "import torch.nn.functional as F\n",
        "\n",
        "class Trainer:\n",
        "    def __init__(\n",
        "        self,\n",
        "        model,\n",
        "        train_dataloader,\n",
        "        num_epochs,\n",
        "        test_dataloader=None,\n",
        "        lr= 1e-4,\n",
        "        weight_decay=0.08,\n",
        "        betas=(0.9, 0.999),\n",
        "        warmup_steps=10000,\n",
        "        device='cuda'\n",
        "        ):\n",
        "\n",
        "        self.device = device\n",
        "        self.model = model\n",
        "        self.train_data = train_dataloader\n",
        "        self.test_data = test_dataloader\n",
        "\n",
        "\n",
        "        \"\"\" Defining optimizer and Learning Rate scheduler \"\"\"\n",
        "        self.optimizer = Adam(self.model.parameters(), lr=lr, betas=betas, weight_decay=weight_decay)\n",
        "        self.lr_scheduler = Learning_Rate_Scheduler(\n",
        "            self.optimizer, self.model.d_model, n_warmup_steps=warmup_steps\n",
        "            )\n",
        "\n",
        "        \"\"\" Using CrossEntropy Loss function for predicting the masked_token \"\"\"\n",
        "        self.criterion = torch.nn.CrossEntropyLoss(ignore_index=-100)\n",
        "\n",
        "        print(\"Total Parameters:\", sum([p.nelement() for p in self.model.parameters()]))\n",
        "\n",
        "\n",
        "\n",
        "    def Fit(self, train_loader, num_epochs, path_to_save):\n",
        "\n",
        "      self.train_losses = []\n",
        "      lrs=[]\n",
        "\n",
        "      for epoch in range(num_epochs):\n",
        "        train_per_epoch_loss=0\n",
        "        train_data_total = 0\n",
        "\n",
        "        with tqdm(train_loader, unit=\"batch\") as batches:\n",
        "          for data in batches:\n",
        "            batches.set_description(f\"Epoch {epoch + 1}\")\n",
        "\n",
        "            # 0. batch_data will be sent into the device(GPU or cpu)\n",
        "            data = {key: value.to(self.device) for key, value in data.items()}\n",
        "\n",
        "            #################################################################################\n",
        "            #                          COMPLETE THE FOLLOWING SECTION                       #\n",
        "            #################################################################################\n",
        "            # 1. forward phase\n",
        "            mask_lm_output = self.model.forward(data[\"input_ids\"], data[\"segment_ids\"])\n",
        "\n",
        "            # 2. calculate Loss only for MASKed tokens\n",
        "            \"\"\" Attention! non-masked token ids are set to -100 \"\"\"\n",
        "            masked_positions = (data[\"labels\"] != -100)\n",
        "            # # 2-1. NLL(negative log likelihood) loss of is_next classification result\n",
        "            # next_loss = self.criterion(next_sent_output, data[\"is_next\"])\n",
        "\n",
        "            # 2-2. NLLLoss of predicting masked token word\n",
        "            mask_loss = self.criterion(mask_lm_output[masked_positions], data[\"labels\"][masked_positions])\n",
        "\n",
        "            # 2-3. Adding next_loss and mask_loss : 3.4 Pre-training Procedure\n",
        "            loss = mask_loss\n",
        "\n",
        "            #################################################################################\n",
        "            #                                \"\"\" 7 points \"\"\"\n",
        "            #################################################################################\n",
        "            # 3. backward and optimization\n",
        "            self.lr_scheduler.zero_grad()\n",
        "            loss.backward()\n",
        "            self.lr_scheduler.step_and_update_lr()\n",
        "\n",
        "            lrs.append(self.optimizer.param_groups[0][\"lr\"])\n",
        "            train_data_total += len(data[\"labels\"])\n",
        "            train_per_epoch_loss += loss.item()\n",
        "            batches.set_postfix(train_loss = (train_per_epoch_loss/len(train_loader))) # update loss per batch of data\n",
        "\n",
        "        self.train_losses.append(train_per_epoch_loss/len(train_loader))\n",
        "\n",
        "        if epoch%10==0:\n",
        "          PATH=f\"{path_to_save}mlm_{num_epochs}Eps_{epoch}\"\n",
        "\n",
        "          torch.save({\n",
        "                      'epoch': epoch,\n",
        "                      'model_state_dict': self.model.state_dict(),\n",
        "                      'optimizer_state_dict': self.optimizer.state_dict(),\n",
        "                      'loss': self.train_losses[-1],\n",
        "                      }, PATH)\n",
        "\n",
        "      self.history={\n",
        "        'train_losses':self.train_losses,\n",
        "        'optimizer':self.optimizer,\n",
        "        'learning_rates':lrs\n",
        "      }\n",
        "      return self.history"
      ]
    },
    {
      "cell_type": "markdown",
      "metadata": {
        "id": "u2gjb2p1Ux7g"
      },
      "source": [
        "## 1-7-Training the model"
      ]
    },
    {
      "cell_type": "code",
      "execution_count": null,
      "metadata": {
        "colab": {
          "base_uri": "https://localhost:8080/"
        },
        "id": "Lj_D9a9_8dlQ",
        "outputId": "508dc861-69d3-46e6-d211-9baffd9b6c03"
      },
      "outputs": [
        {
          "name": "stdout",
          "output_type": "stream",
          "text": [
            "Total Parameters: 53105633\n"
          ]
        },
        {
          "name": "stderr",
          "output_type": "stream",
          "text": [
            "Epoch 1: 100%|██████████| 54/54 [00:33<00:00,  1.63batch/s, train_loss=9.7]\n",
            "Epoch 2: 100%|██████████| 54/54 [00:32<00:00,  1.65batch/s, train_loss=8.95]\n",
            "Epoch 3: 100%|██████████| 54/54 [00:34<00:00,  1.59batch/s, train_loss=8.14]\n",
            "Epoch 4: 100%|██████████| 54/54 [00:35<00:00,  1.53batch/s, train_loss=7.73]\n",
            "Epoch 5: 100%|██████████| 54/54 [00:34<00:00,  1.56batch/s, train_loss=7.41]\n",
            "Epoch 6: 100%|██████████| 54/54 [00:34<00:00,  1.56batch/s, train_loss=7.18]\n",
            "Epoch 7: 100%|██████████| 54/54 [00:34<00:00,  1.55batch/s, train_loss=6.97]\n",
            "Epoch 8: 100%|██████████| 54/54 [00:34<00:00,  1.56batch/s, train_loss=6.81]\n",
            "Epoch 9: 100%|██████████| 54/54 [00:34<00:00,  1.56batch/s, train_loss=6.69]\n",
            "Epoch 10: 100%|██████████| 54/54 [00:34<00:00,  1.56batch/s, train_loss=6.58]\n",
            "Epoch 11: 100%|██████████| 54/54 [00:34<00:00,  1.55batch/s, train_loss=6.49]\n",
            "Epoch 12: 100%|██████████| 54/54 [00:34<00:00,  1.55batch/s, train_loss=6.42]\n",
            "Epoch 13: 100%|██████████| 54/54 [00:34<00:00,  1.55batch/s, train_loss=6.37]\n",
            "Epoch 14: 100%|██████████| 54/54 [00:34<00:00,  1.56batch/s, train_loss=6.31]\n",
            "Epoch 15: 100%|██████████| 54/54 [00:34<00:00,  1.56batch/s, train_loss=6.27]\n",
            "Epoch 16: 100%|██████████| 54/54 [00:34<00:00,  1.55batch/s, train_loss=6.21]\n",
            "Epoch 17: 100%|██████████| 54/54 [00:34<00:00,  1.56batch/s, train_loss=6.19]\n",
            "Epoch 18: 100%|██████████| 54/54 [00:34<00:00,  1.56batch/s, train_loss=6.17]\n",
            "Epoch 19: 100%|██████████| 54/54 [00:34<00:00,  1.56batch/s, train_loss=6.13]\n",
            "Epoch 20: 100%|██████████| 54/54 [00:34<00:00,  1.56batch/s, train_loss=6.11]\n",
            "Epoch 21: 100%|██████████| 54/54 [00:34<00:00,  1.56batch/s, train_loss=6.09]\n",
            "Epoch 22: 100%|██████████| 54/54 [00:34<00:00,  1.55batch/s, train_loss=6.06]\n",
            "Epoch 23: 100%|██████████| 54/54 [00:34<00:00,  1.55batch/s, train_loss=6.06]\n",
            "Epoch 24: 100%|██████████| 54/54 [00:34<00:00,  1.56batch/s, train_loss=6.01]\n",
            "Epoch 25: 100%|██████████| 54/54 [00:34<00:00,  1.55batch/s, train_loss=6.01]\n",
            "Epoch 26: 100%|██████████| 54/54 [00:34<00:00,  1.56batch/s, train_loss=6]\n",
            "Epoch 27: 100%|██████████| 54/54 [00:34<00:00,  1.56batch/s, train_loss=5.97]\n",
            "Epoch 28: 100%|██████████| 54/54 [00:34<00:00,  1.56batch/s, train_loss=5.95]\n",
            "Epoch 29: 100%|██████████| 54/54 [00:34<00:00,  1.56batch/s, train_loss=5.93]\n",
            "Epoch 30: 100%|██████████| 54/54 [00:34<00:00,  1.56batch/s, train_loss=5.92]\n",
            "Epoch 31: 100%|██████████| 54/54 [00:34<00:00,  1.56batch/s, train_loss=5.9]\n",
            "Epoch 32: 100%|██████████| 54/54 [00:34<00:00,  1.55batch/s, train_loss=5.87]\n",
            "Epoch 33: 100%|██████████| 54/54 [00:34<00:00,  1.56batch/s, train_loss=5.87]\n",
            "Epoch 34: 100%|██████████| 54/54 [00:34<00:00,  1.56batch/s, train_loss=5.84]\n",
            "Epoch 35: 100%|██████████| 54/54 [00:34<00:00,  1.56batch/s, train_loss=5.85]\n",
            "Epoch 36: 100%|██████████| 54/54 [00:34<00:00,  1.55batch/s, train_loss=5.81]\n",
            "Epoch 37: 100%|██████████| 54/54 [00:34<00:00,  1.56batch/s, train_loss=5.8]\n",
            "Epoch 38: 100%|██████████| 54/54 [00:34<00:00,  1.56batch/s, train_loss=5.79]\n",
            "Epoch 39: 100%|██████████| 54/54 [00:34<00:00,  1.56batch/s, train_loss=5.79]\n",
            "Epoch 40: 100%|██████████| 54/54 [00:34<00:00,  1.56batch/s, train_loss=5.78]\n",
            "Epoch 41: 100%|██████████| 54/54 [00:34<00:00,  1.56batch/s, train_loss=5.77]\n",
            "Epoch 42: 100%|██████████| 54/54 [00:34<00:00,  1.56batch/s, train_loss=5.75]\n",
            "Epoch 43: 100%|██████████| 54/54 [00:34<00:00,  1.56batch/s, train_loss=5.75]\n",
            "Epoch 44: 100%|██████████| 54/54 [00:34<00:00,  1.56batch/s, train_loss=5.75]\n",
            "Epoch 45: 100%|██████████| 54/54 [00:34<00:00,  1.56batch/s, train_loss=5.74]\n",
            "Epoch 46: 100%|██████████| 54/54 [00:34<00:00,  1.56batch/s, train_loss=5.72]\n",
            "Epoch 47: 100%|██████████| 54/54 [00:34<00:00,  1.56batch/s, train_loss=5.72]\n",
            "Epoch 48: 100%|██████████| 54/54 [00:34<00:00,  1.56batch/s, train_loss=5.71]\n",
            "Epoch 49: 100%|██████████| 54/54 [00:34<00:00,  1.56batch/s, train_loss=5.7]\n",
            "Epoch 50: 100%|██████████| 54/54 [00:34<00:00,  1.56batch/s, train_loss=5.7]\n",
            "Epoch 51: 100%|██████████| 54/54 [00:34<00:00,  1.56batch/s, train_loss=5.7]\n",
            "Epoch 52: 100%|██████████| 54/54 [00:34<00:00,  1.55batch/s, train_loss=5.69]\n",
            "Epoch 53: 100%|██████████| 54/54 [00:34<00:00,  1.56batch/s, train_loss=5.71]\n",
            "Epoch 54: 100%|██████████| 54/54 [00:34<00:00,  1.56batch/s, train_loss=5.7]\n",
            "Epoch 55: 100%|██████████| 54/54 [00:34<00:00,  1.56batch/s, train_loss=5.69]\n",
            "Epoch 56: 100%|██████████| 54/54 [00:34<00:00,  1.56batch/s, train_loss=5.68]\n",
            "Epoch 57: 100%|██████████| 54/54 [00:34<00:00,  1.56batch/s, train_loss=5.68]\n",
            "Epoch 58: 100%|██████████| 54/54 [00:34<00:00,  1.57batch/s, train_loss=5.68]\n",
            "Epoch 59: 100%|██████████| 54/54 [00:34<00:00,  1.56batch/s, train_loss=5.68]\n",
            "Epoch 60: 100%|██████████| 54/54 [00:34<00:00,  1.56batch/s, train_loss=5.68]\n"
          ]
        }
      ],
      "source": [
        "device = torch.device(\"cuda:0\" if torch.cuda.is_available() else \"cpu\")\n",
        "path_to_save_checkpoints=\"/content/\"\n",
        "\n",
        "num_epochs = 60\n",
        "BATCH_SIZE = 64\n",
        "train_loader = DataLoader(preprocessed_data, batch_size=BATCH_SIZE, shuffle=True, pin_memory=True)\n",
        "\n",
        "\n",
        "model = Masked_Language_Model(\n",
        "  vocab_size=tokenizer.vocab_size,\n",
        "  seq_len=MAX_LEN,\n",
        "  d_model=768,\n",
        "  n_layers=6,\n",
        "  heads=12,\n",
        "  dropout=0.1,\n",
        "  device=device\n",
        ")\n",
        "model=model.to(device)\n",
        "\n",
        "trainer = Trainer(model, train_loader, num_epochs, lr= 1e-3, weight_decay=0.08, betas=(0.9, 0.999), device=device)\n",
        "history=trainer.Fit(train_loader, num_epochs, path_to_save_checkpoints)"
      ]
    },
    {
      "cell_type": "markdown",
      "metadata": {
        "id": "bs3x2Jwb9HA3"
      },
      "source": [
        "Plot Training Loss"
      ]
    },
    {
      "cell_type": "code",
      "execution_count": null,
      "metadata": {
        "colab": {
          "base_uri": "https://localhost:8080/",
          "height": 487
        },
        "id": "W7-y6Wt69E8S",
        "outputId": "412080c2-4ccd-4bab-9767-bf81b0201a9b"
      },
      "outputs": [
        {
          "data": {
            "image/png": "[encoded data removed]",
            "text/plain": [
              "<Figure size 700x500 with 1 Axes>"
            ]
          },
          "metadata": {},
          "output_type": "display_data"
        }
      ],
      "source": [
        "plt.subplots(figsize=(7, 5))\n",
        "sns.set_style(\"dark\")\n",
        "sns.lineplot(data=np.asarray(history['train_losses']),label=\"Train Loss\").set(title=\"loss change during training\", xlabel=\"epoch\", ylabel=\"loss\")\n",
        "plt.legend()\n",
        "plt.show()"
      ]
    },
    {
      "cell_type": "markdown",
      "metadata": {
        "id": "ewYp_Z474-Lh"
      },
      "source": [
        "# 2-Implement MLM with Hugging_Face: <font color=yellow>Total Points:30</font>"
      ]
    },
    {
      "cell_type": "markdown",
      "metadata": {
        "id": "pPYggFvgMhJ7"
      },
      "source": [
        "<h3><font color=lightblue>In this part you will train a RoBERTa MLM using Hugging Face library</font></h3>"
      ]
    },
    {
      "cell_type": "markdown",
      "metadata": {
        "id": "_hZXSIbK64Sm"
      },
      "source": [
        "<h4>you will need a token with <font color=greeen>WRITE</font> permission</h4>"
      ]
    },
    {
      "cell_type": "code",
      "execution_count": null,
      "metadata": {
        "colab": {
          "base_uri": "https://localhost:8080/",
          "height": 160,
          "referenced_widgets": [
            "b02472dc128b492f8a6e170200934ba1",
            "6fc47a6853f84a42952c446ff4e52046",
            "dfcd5f459b4045349c5bada81179ccef",
            "fc0b066a7dc54542ae90ab6d932d12ff",
            "0dcb4607acee4011abdda2dd14967eb9",
            "dd1fc9af936948549c6e4f1110ada09a",
            "179bdd3023d94b9eb81883d463048dfd",
            "f55841b49bdb4964840dfafd32d77529",
            "923f3ae949894a0d98ea2b8d725b66b2",
            "97019e6294104a9aabc431473cd78442",
            "4298066089c044aab210f70a1a0f25f2",
            "7f16a764472749a693363932ad871b25",
            "7f7786c8df844146a81481951bd73027",
            "a46357872eee4b54855a63d12121b3fb",
            "1a3bdd5d4ff5471a97dd1263a3a934f0",
            "a6294053ff9746ee96d5f0d8c12c7082",
            "87aa3f3848bf497896cbfb455e44a6ea",
            "38117741841a4b98bf517c50b7c7b047",
            "08e69c52fdfe492dae55206e78b06e42",
            "6ff1dd6182d647ebbe2f9102189d6a88",
            "eb61f9618d224ca9ab47389f69a3a8c4",
            "b772ecf0fe5144cc965b677384973d46",
            "9a0e97a08d5943a4ae40ddf4311763fb",
            "2ce3992db84d4c54b77e3e9c93c38006",
            "5792e120eca94570941744aabf9cdb2d",
            "bb4fb26efafc4f949332e3df8504e38b",
            "92f1fbd6050e4c07b127040d529674c7",
            "d550b00b426745808bba47ca0da28ef3",
            "0ede96d0b87342a3907bc8d19a29faa1",
            "20c5dc9d824847b1951d640765057b92",
            "5e9664fe0af54269abfda543a6e92e82",
            "4cd944c5a751425a90c76fa359f47a6c"
          ]
        },
        "id": "AKv_43yzcMDz",
        "outputId": "43776bb5-4f8a-4345-c398-b667fa426787"
      },
      "outputs": [
        {
          "output_type": "display_data",
          "data": {
            "text/plain": [
              "VBox(children=(HTML(value='<center> <img\\nsrc=https://huggingface.co/front/assets/huggingface_logo-noborder.sv…"
            ],
            "application/vnd.jupyter.widget-view+json": {
              "version_major": 2,
              "version_minor": 0,
              "model_id": "b02472dc128b492f8a6e170200934ba1"
            }
          },
          "metadata": {}
        }
      ],
      "source": [
        "#logging in to hugging face\n",
        "notebook_login()"
      ]
    },
    {
      "cell_type": "markdown",
      "metadata": {
        "id": "0DkOJRfkG4NN"
      },
      "source": [
        "## 2-1-Load, Train and Save the Tokenizer on Dataset texts"
      ]
    },
    {
      "cell_type": "code",
      "execution_count": null,
      "metadata": {
        "id": "9jDvD1pbSTE4"
      },
      "outputs": [],
      "source": [
        "#load dataset file and clean it\n",
        "with open('/content/Parsi_Mianeh_Corpus.txt', 'r') as f:\n",
        "  corpus = f.read()\n",
        "corpus = re.sub('٭', '', corpus)\n",
        "corpus = re.sub('\\xa0', '', corpus)\n",
        "corpus = re.sub('#', '', corpus)"
      ]
    },
    {
      "cell_type": "code",
      "execution_count": null,
      "metadata": {
        "id": "IBo_1z8gXP7t"
      },
      "outputs": [],
      "source": [
        "#train tokenizer from scratch with byte pair level\n",
        "spl_tokens = [\"[UNK]\", \"[SEP]\", \"[MASK]\", \"[CLS]\", \"[PAD]\"]\n",
        "temp_post_processor = tokenizers.processors.TemplateProcessing(\n",
        "    single=\"[CLS] $A [SEP]\",\n",
        "    pair=\"[CLS] $A [SEP] $B:1 [SEP]:1\",\n",
        "    special_tokens=[\n",
        "        (\"[CLS]\", spl_tokens.index(\"[CLS]\")),\n",
        "        (\"[SEP]\", spl_tokens.index(\"[SEP]\")),\n",
        "    ],\n",
        ")\n",
        "\n",
        "tokenizer = tokenizers.Tokenizer(tokenizers.models.BPE(unk_token = spl_tokens[0], mask_token=spl_tokens[2]))\n",
        "tokenizer_trainer = tokenizers.trainers.BpeTrainer(special_tokens = spl_tokens)\n",
        "tokenizer.pre_tokenizer = tokenizers.pre_tokenizers.Whitespace()\n",
        "tokenizer.post_processor=temp_post_processor\n",
        "\n",
        "paths = [\"Parsi_Mianeh_Corpus.txt\"]\n",
        "tokenizer.train(paths, tokenizer_trainer)\n",
        "tokenizer.save('tokenizer.json')"
      ]
    },
    {
      "cell_type": "code",
      "execution_count": null,
      "metadata": {
        "colab": {
          "base_uri": "https://localhost:8080/"
        },
        "id": "1hk7Nv_fv1wk",
        "outputId": "8239117b-3f4d-492a-8629-2c72830e96e6"
      },
      "outputs": [
        {
          "output_type": "stream",
          "name": "stdout",
          "text": [
            "6881\n"
          ]
        }
      ],
      "source": [
        "#get vocab size\n",
        "vocab_size = tokenizer.get_vocab_size()\n",
        "print(vocab_size)"
      ]
    },
    {
      "cell_type": "code",
      "execution_count": null,
      "metadata": {
        "colab": {
          "base_uri": "https://localhost:8080/"
        },
        "id": "pxfX3cf7s1ps",
        "outputId": "b42dc223-8078-48a9-b7a8-9f3b29a76c1c"
      },
      "outputs": [
        {
          "output_type": "stream",
          "name": "stderr",
          "text": [
            "The tokenizer class you load from this checkpoint is not the same type as the class this function is called from. It may result in unexpected tokenization. \n",
            "The tokenizer class you load from this checkpoint is 'PreTrainedTokenizerFast'. \n",
            "The class this function is called from is 'RobertaTokenizerFast'.\n"
          ]
        },
        {
          "output_type": "execute_result",
          "data": {
            "text/plain": [
              "('tokenizer/tokenizer_config.json',\n",
              " 'tokenizer/special_tokens_map.json',\n",
              " 'tokenizer/vocab.json',\n",
              " 'tokenizer/merges.txt',\n",
              " 'tokenizer/added_tokens.json',\n",
              " 'tokenizer/tokenizer.json')"
            ]
          },
          "metadata": {},
          "execution_count": 8
        }
      ],
      "source": [
        "#saved fast tokenizer to file and convert it to roberta tokenizer\n",
        "fast_tokenizer = transformers.PreTrainedTokenizerFast(tokenizer_file='tokenizer.json')\n",
        "fast_tokenizer.save_pretrained('fast_tokenizer')\n",
        "\n",
        "tok = transformers.RobertaTokenizerFast.from_pretrained('fast_tokenizer')\n",
        "tok.unk_token_id = 0\n",
        "tok.sep_token_id = 1\n",
        "tok.mask_token_id = 2\n",
        "tok.cls_token_id = 3\n",
        "tok.pad_token_id = 4\n",
        "\n",
        "your_hugging_face_id=\"z-rahimi-r\"\n",
        "tok.save_pretrained(f'{your_hugging_face_id}/parsig_pos', push_to_hub=True)\n",
        "tok.save_pretrained(f'{your_hugging_face_id}/parsig_tokenizer', push_to_hub=True)\n",
        "tok.save_pretrained('tokenizer')"
      ]
    },
    {
      "cell_type": "markdown",
      "metadata": {
        "id": "ZTXSKuHPHCHU"
      },
      "source": [
        "## 2-2-Data preparation"
      ]
    },
    {
      "cell_type": "code",
      "execution_count": null,
      "metadata": {
        "id": "lYxsLPWxgpZ-"
      },
      "outputs": [],
      "source": [
        "#define Custom Dataset class for our model\n",
        "class CustomDataset(torch.utils.data.Dataset):\n",
        "    def __init__(self, df, tokenizer):\n",
        "        # or use the RobertaTokenizer from `transformers` directly.\n",
        "        self.examples = []\n",
        "        # For every value in the dataframe\n",
        "        for example in df.values:\n",
        "            x=tokenizer.encode_plus(example, max_length = 100, truncation=True, padding=True)\n",
        "            self.examples += [{\"input_ids\":x.input_ids, \"attention_mask\": x.attention_mask}]\n",
        "\n",
        "    def __len__(self):\n",
        "        return len(self.examples)\n",
        "\n",
        "    def __getitem__(self, i):\n",
        "        # We’ll pad at the batch level.\n",
        "        return {key: torch.tensor(value) for key, value in self.examples[i].items()}"
      ]
    },
    {
      "cell_type": "code",
      "execution_count": null,
      "metadata": {
        "colab": {
          "base_uri": "https://localhost:8080/"
        },
        "id": "Hnr33GyoGrFN",
        "outputId": "1c05f0e6-a74c-466e-9c49-8e42f4ae0731"
      },
      "outputs": [
        {
          "output_type": "stream",
          "name": "stderr",
          "text": [
            "Special tokens have been added in the vocabulary, make sure the associated word embeddings are fine-tuned or trained.\n"
          ]
        }
      ],
      "source": [
        "#load tokenizer from trained model\n",
        "tokenizer = transformers.AutoTokenizer.from_pretrained('tokenizer', padding_side='right', max_length=100)\n",
        "\n",
        "#read files again for train model\n",
        "with open('Parsi_Mianeh_Corpus.txt', 'r') as f:\n",
        "  fin_snt = f.read()\n",
        "fin_snt = fin_snt.split('\\n')[:-1]\n",
        "\n",
        "\n",
        "# Create the train and evaluation dataset\n",
        "train_data, eval_data = train_test_split(fin_snt, train_size=0.85)\n",
        "train_df = pd.DataFrame({'text': train_data})\n",
        "eval_df = pd.DataFrame({'text': eval_data})\n",
        "\n",
        "train_dataset = CustomDataset(train_df['text'], tokenizer)\n",
        "eval_dataset = CustomDataset(eval_df['text'], tokenizer)"
      ]
    },
    {
      "cell_type": "markdown",
      "metadata": {
        "id": "hqT3fZAEIArI"
      },
      "source": [
        "## 2-3-Define model and its Config"
      ]
    },
    {
      "cell_type": "code",
      "execution_count": null,
      "metadata": {
        "id": "VYxQQUaker61"
      },
      "outputs": [],
      "source": [
        "#generate config for train Roberta masked language model\n",
        "from transformers import RobertaForMaskedLM\n",
        "from transformers import RobertaConfig\n",
        "\n",
        "#################################################################################\n",
        "#                     COMPLETE THE FOLLOWING SECTION                            #\n",
        "#################################################################################\n",
        "\"\"\" Define appropriate config and instantiate the model  \"\"\"\n",
        "\n",
        "config = RobertaConfig(\n",
        "    # vocab_size=vocab_size,  # Use the vocab size obtained from the tokenizer\n",
        "    # max_position_embeddings=100,  # Adjust according to your desired max sequence length\n",
        "    # num_attention_heads=12,  # Number of attention heads\n",
        "    # num_hidden_layers=6,  # Number of layers\n",
        "    # type_vocab_size=1,  # Number of token types (e.g., sentence A and B)\n",
        ")\n",
        "\n",
        "# Instantiate the RoBERTa MLM model\n",
        "model = RobertaForMaskedLM(config=config)\n",
        "\n",
        "#################################################################################\n",
        "#                          \"\"\" 10 ponits \"\"\"\n",
        "#################################################################################"
      ]
    },
    {
      "cell_type": "code",
      "execution_count": null,
      "metadata": {
        "id": "nTQ6YP5SGsj0"
      },
      "outputs": [],
      "source": [
        "from transformers import DataCollatorForLanguageModeling\n",
        "#################################################################################\n",
        "#                     COMPLETE THE FOLLOWING SECTION                            #\n",
        "#################################################################################\n",
        "\"\"\" Define datacollator for masked language modeling and set the appropriate parameters  \"\"\"\n",
        "data_collator = DataCollatorForLanguageModeling(\n",
        "    tokenizer=tokenizer,  # Your tokenizer object\n",
        "    # mlm=True,  # Set to True for masked language modeling\n",
        "    mlm_probability=0.15,  # Probability of masking a token\n",
        ")\n",
        "#################################################################################\n",
        "#                           \"\"\" 5 ponits \"\"\"\n",
        "#################################################################################"
      ]
    },
    {
      "cell_type": "markdown",
      "metadata": {
        "id": "4LSOT5pGIJft"
      },
      "source": [
        "## 2-4-Set training arguments and define a Trainer"
      ]
    },
    {
      "cell_type": "code",
      "execution_count": null,
      "metadata": {
        "id": "YSutZcOVMgo0"
      },
      "outputs": [],
      "source": [
        "from transformers import Trainer, TrainingArguments, EarlyStoppingCallback\n",
        "\n",
        "#################################################################################\n",
        "#                     COMPLETE THE FOLLOWING SECTION                            #\n",
        "#################################################################################\n",
        "\"\"\" Define training arguments and trainer  \"\"\"\n",
        "\"\"\" Use EarlyStopping CallBack \"\"\"\n",
        "\n",
        "NUM_EPOCHS=200\n",
        "BATCH_SIZE=64\n",
        "learning_rate=1e-4\n",
        "checkpoints_output_dir=\"/content/mlm\"\n",
        "\n",
        "\n",
        "earlyStoping_callBack = EarlyStoppingCallback(\n",
        "    early_stopping_patience=3\n",
        ")\n",
        "\n",
        "\n",
        "training_args = TrainingArguments(\n",
        "    f\"Roberta-finetuned-Parsi-Mianeh-Corpus\",\n",
        "    learning_rate=2e-5,\n",
        "    weight_decay=0.01,\n",
        "    push_to_hub=True,\n",
        "    evaluation_strategy=\"steps\",\n",
        "    eval_steps=20,\n",
        "    logging_steps=20,\n",
        "    prediction_loss_only=True,\n",
        "    per_device_train_batch_size=32,\n",
        "    per_device_eval_batch_size=32,\n",
        ")\n",
        "\n",
        "\n",
        "trainer = Trainer(\n",
        "    model=model,\n",
        "    tokenizer=tokenizer,\n",
        "    train_dataset=train_dataset,\n",
        "    eval_dataset=eval_dataset,\n",
        "    args=training_args,\n",
        "    data_collator=data_collator,\n",
        ")\n",
        "\n",
        "#################################################################################\n",
        "#                         \"\"\" 15 ponits \"\"\"\n",
        "#################################################################################"
      ]
    },
    {
      "cell_type": "markdown",
      "metadata": {
        "id": "GsV1xR1OOvgb"
      },
      "source": [
        "## 2-5-Training the model"
      ]
    },
    {
      "cell_type": "markdown",
      "metadata": {
        "id": "BkwZbgpUUEdT"
      },
      "source": [
        "<h4><font color=hotpink>Perplexity before Training</font></h4>"
      ]
    },
    {
      "cell_type": "markdown",
      "metadata": {
        "id": "vz7wAw1N5F23"
      },
      "source": [
        "\n",
        "*   <font color=lightblue>In information theory, perplexity is a measurement of how well a probability distribution or probability model predicts a sample. </font>\n",
        "*   <font color=lightblue>A low perplexity indicates the probability distribution is good at predicting the sample.</font>\n",
        "*   <font color=lightblue>The perplexity of a language model measures the degree of uncertainty of a LM when it generates a new token, averaged over very long sequences</font>\n",
        "\n",
        "<font color=lightpink>We will calculate perplexity before and after training, in order to see how well the model is doing:</font>"
      ]
    },
    {
      "cell_type": "code",
      "execution_count": null,
      "metadata": {
        "id": "7wHH6egbN4Oq",
        "colab": {
          "base_uri": "https://localhost:8080/",
          "height": 92
        },
        "outputId": "7ea9691e-92f6-42d5-8ae0-9d096ceba330"
      },
      "outputs": [
        {
          "output_type": "stream",
          "name": "stderr",
          "text": [
            "You're using a RobertaTokenizerFast tokenizer. Please note that with a fast tokenizer, using the `__call__` method is faster than using a method to encode the text followed by a call to the `pad` method to get a padded encoding.\n"
          ]
        },
        {
          "output_type": "display_data",
          "data": {
            "text/plain": [
              "<IPython.core.display.HTML object>"
            ],
            "text/html": [
              "\n",
              "    <div>\n",
              "      \n",
              "      <progress value='16' max='16' style='width:300px; height:20px; vertical-align: middle;'></progress>\n",
              "      [16/16 00:02]\n",
              "    </div>\n",
              "    "
            ]
          },
          "metadata": {}
        },
        {
          "output_type": "stream",
          "name": "stdout",
          "text": [
            ">>> Perplexity: 58461.28\n"
          ]
        }
      ],
      "source": [
        "import math\n",
        "\n",
        "eval_results = trainer.evaluate()\n",
        "print(f\">>> Perplexity: {math.exp(eval_results['eval_loss']):.2f}\")"
      ]
    },
    {
      "cell_type": "markdown",
      "metadata": {
        "id": "dO2PUiyNKc_T"
      },
      "source": [
        "**Train the model and Save it**"
      ]
    },
    {
      "cell_type": "code",
      "execution_count": null,
      "metadata": {
        "id": "kTcDnOd4Kbky",
        "colab": {
          "base_uri": "https://localhost:8080/",
          "height": 555
        },
        "outputId": "63e769ae-7363-4d2e-e161-68747774e0fd"
      },
      "outputs": [
        {
          "output_type": "display_data",
          "data": {
            "text/plain": [
              "<IPython.core.display.HTML object>"
            ],
            "text/html": [
              "\n",
              "    <div>\n",
              "      \n",
              "      <progress value='273' max='273' style='width:300px; height:20px; vertical-align: middle;'></progress>\n",
              "      [273/273 03:06, Epoch 3/3]\n",
              "    </div>\n",
              "    <table border=\"1\" class=\"dataframe\">\n",
              "  <thead>\n",
              " <tr style=\"text-align: left;\">\n",
              "      <th>Step</th>\n",
              "      <th>Training Loss</th>\n",
              "      <th>Validation Loss</th>\n",
              "    </tr>\n",
              "  </thead>\n",
              "  <tbody>\n",
              "    <tr>\n",
              "      <td>20</td>\n",
              "      <td>9.774200</td>\n",
              "      <td>9.122080</td>\n",
              "    </tr>\n",
              "    <tr>\n",
              "      <td>40</td>\n",
              "      <td>8.944900</td>\n",
              "      <td>8.757523</td>\n",
              "    </tr>\n",
              "    <tr>\n",
              "      <td>60</td>\n",
              "      <td>8.831300</td>\n",
              "      <td>8.492678</td>\n",
              "    </tr>\n",
              "    <tr>\n",
              "      <td>80</td>\n",
              "      <td>8.467300</td>\n",
              "      <td>8.202419</td>\n",
              "    </tr>\n",
              "    <tr>\n",
              "      <td>100</td>\n",
              "      <td>8.189300</td>\n",
              "      <td>8.000284</td>\n",
              "    </tr>\n",
              "    <tr>\n",
              "      <td>120</td>\n",
              "      <td>8.010900</td>\n",
              "      <td>7.782175</td>\n",
              "    </tr>\n",
              "    <tr>\n",
              "      <td>140</td>\n",
              "      <td>7.753900</td>\n",
              "      <td>7.570967</td>\n",
              "    </tr>\n",
              "    <tr>\n",
              "      <td>160</td>\n",
              "      <td>7.550400</td>\n",
              "      <td>7.574172</td>\n",
              "    </tr>\n",
              "    <tr>\n",
              "      <td>180</td>\n",
              "      <td>7.436300</td>\n",
              "      <td>7.455042</td>\n",
              "    </tr>\n",
              "    <tr>\n",
              "      <td>200</td>\n",
              "      <td>7.338300</td>\n",
              "      <td>7.324771</td>\n",
              "    </tr>\n",
              "    <tr>\n",
              "      <td>220</td>\n",
              "      <td>7.350900</td>\n",
              "      <td>7.178541</td>\n",
              "    </tr>\n",
              "    <tr>\n",
              "      <td>240</td>\n",
              "      <td>7.397700</td>\n",
              "      <td>7.173672</td>\n",
              "    </tr>\n",
              "    <tr>\n",
              "      <td>260</td>\n",
              "      <td>7.294500</td>\n",
              "      <td>7.345961</td>\n",
              "    </tr>\n",
              "  </tbody>\n",
              "</table><p>"
            ]
          },
          "metadata": {}
        },
        {
          "output_type": "display_data",
          "data": {
            "text/plain": [
              "<IPython.core.display.HTML object>"
            ],
            "text/html": [
              "\n",
              "    <div>\n",
              "      \n",
              "      <progress value='32' max='16' style='width:300px; height:20px; vertical-align: middle;'></progress>\n",
              "      [16/16 00:36]\n",
              "    </div>\n",
              "    "
            ]
          },
          "metadata": {}
        },
        {
          "output_type": "execute_result",
          "data": {
            "text/plain": [
              "TrainOutput(global_step=273, training_loss=7.989105364341875, metrics={'train_runtime': 187.2174, 'train_samples_per_second': 46.422, 'train_steps_per_second': 1.458, 'total_flos': 338729068616796.0, 'train_loss': 7.989105364341875, 'epoch': 3.0})"
            ]
          },
          "metadata": {},
          "execution_count": 15
        }
      ],
      "source": [
        "# Train the model\n",
        "trainer.train()"
      ]
    },
    {
      "cell_type": "code",
      "execution_count": null,
      "metadata": {
        "id": "Q4u_mUlr5XO1",
        "colab": {
          "base_uri": "https://localhost:8080/",
          "height": 173,
          "referenced_widgets": [
            "488701bd31f84c448da3092b3446ad37",
            "72999d01394e4c3d8103e9f07cc3db0c",
            "0f3c771c03704647ac187bdcedec2582",
            "5ab40610773f46d3aabcef3394c7f888",
            "4b50a736e7344b0aa38e9ef877680188",
            "693ee285ea93478ebe05c65b81139535",
            "c85cb96c426a4c768b25c27c21bcfe26",
            "684ab70d1d2f4c178253d834292e0c1a",
            "5aaae1c871fe43cca14be2ecdb9436f5",
            "3cd03a8c523746f881cd56e838d33d11",
            "1f66b2b997704b848b1c416eae0b1565",
            "a078796affa84383b8e059b3077b9428",
            "90c0d421f6f94688b23941f8c1d08237",
            "052a97f1fa644602828b83f7a3221931",
            "e89a13e571e947dc9c119f7690934d1d",
            "966f9bfba41d432b9443c0c1e2f2986c",
            "8f250d1df1574aadb3e69d88f1ff81d8",
            "841497d05fbf44a682ea8ee7aa4229cc",
            "ab8721da6b4a499b86529ea904e6b88b",
            "9b84556881b0412aa468d4e31546481b",
            "122dc1ab3b3240f4ac13224108f0847e",
            "52eda119aad44da6bcdc77f8373963cb",
            "d8a51be4d58d47f9b08bd85cdffb0c39",
            "9321d8949db941e6853c3e3ef45a2f3f",
            "3a4973835fe4479dad180f2d47c43916",
            "30c040f5638542fda1b96a53b596d7e5",
            "8d1eb05e84204851a15bbe601971aeaa",
            "b364085d904a455bb9bf642556cd60fd",
            "abaf04c30c634a7299a028dcde5426e8",
            "7f3e44d829bf4d3493523ebfe37a23f0",
            "87944fd107e441d59a4cc291acb6a86d",
            "73340286055048fdbb619849c0222972",
            "7ef76311408f4318888cb2b022be80eb",
            "4a31359dc3f648d18dcbeb46d10c325f",
            "ed698302eafb4ea68261de5a9462bd43",
            "ec6e46910ddc42b5b9354e457aec7caa",
            "734221e16a8849ca80c6321b4868d1f9",
            "b2ecf553cb2845f9ae7ab336eec80a46",
            "738d8ddddad34b19a4f5f4c5acf915a2",
            "23b7157448cb4a8fb3dcabfb5a38c524",
            "89a9d40f47694e28a1a65fd7944fc3f3",
            "09bbdfca10504c71a3c380f0b1f6581b",
            "16565bf8d5994b47879c128c08e0b63b",
            "20dc5d425e4f4be895808f491d37c56a"
          ]
        },
        "outputId": "002541b9-92e3-4cc3-b6da-522c5fee8f8b"
      },
      "outputs": [
        {
          "output_type": "display_data",
          "data": {
            "text/plain": [
              "training_args.bin:   0%|          | 0.00/4.60k [00:00<?, ?B/s]"
            ],
            "application/vnd.jupyter.widget-view+json": {
              "version_major": 2,
              "version_minor": 0,
              "model_id": "488701bd31f84c448da3092b3446ad37"
            }
          },
          "metadata": {}
        },
        {
          "output_type": "display_data",
          "data": {
            "text/plain": [
              "model.safetensors:   0%|          | 0.00/499M [00:00<?, ?B/s]"
            ],
            "application/vnd.jupyter.widget-view+json": {
              "version_major": 2,
              "version_minor": 0,
              "model_id": "a078796affa84383b8e059b3077b9428"
            }
          },
          "metadata": {}
        },
        {
          "output_type": "display_data",
          "data": {
            "text/plain": [
              "Upload 3 LFS files:   0%|          | 0/3 [00:00<?, ?it/s]"
            ],
            "application/vnd.jupyter.widget-view+json": {
              "version_major": 2,
              "version_minor": 0,
              "model_id": "d8a51be4d58d47f9b08bd85cdffb0c39"
            }
          },
          "metadata": {}
        },
        {
          "output_type": "display_data",
          "data": {
            "text/plain": [
              "events.out.tfevents.1703356379.b9fd1dc2bc47.5885.0:   0%|          | 0.00/10.3k [00:00<?, ?B/s]"
            ],
            "application/vnd.jupyter.widget-view+json": {
              "version_major": 2,
              "version_minor": 0,
              "model_id": "4a31359dc3f648d18dcbeb46d10c325f"
            }
          },
          "metadata": {}
        }
      ],
      "source": [
        "path_to_save_model=\"/content/drive/MyDrive\"\n",
        "trainer.save_model(f\"{path_to_save_model}/model.pk\")"
      ]
    },
    {
      "cell_type": "code",
      "execution_count": null,
      "metadata": {
        "id": "Tt8LiD6M0khP",
        "colab": {
          "base_uri": "https://localhost:8080/"
        },
        "outputId": "deb6c505-6973-4700-8ec9-66117d84b6cb"
      },
      "outputs": [
        {
          "output_type": "execute_result",
          "data": {
            "text/plain": [
              "('/content/drive/MyDrive/tokenizer.pk/tokenizer_config.json',\n",
              " '/content/drive/MyDrive/tokenizer.pk/special_tokens_map.json',\n",
              " '/content/drive/MyDrive/tokenizer.pk/vocab.json',\n",
              " '/content/drive/MyDrive/tokenizer.pk/merges.txt',\n",
              " '/content/drive/MyDrive/tokenizer.pk/added_tokens.json',\n",
              " '/content/drive/MyDrive/tokenizer.pk/tokenizer.json')"
            ]
          },
          "metadata": {},
          "execution_count": 17
        }
      ],
      "source": [
        "tokenizer.save_pretrained(f'{path_to_save_model}/tokenizer.pk')"
      ]
    },
    {
      "cell_type": "code",
      "execution_count": null,
      "metadata": {
        "id": "ysSlQ27Q5axO",
        "colab": {
          "base_uri": "https://localhost:8080/",
          "height": 35
        },
        "outputId": "f46f3042-89bb-47e7-cada-49b69100c276"
      },
      "outputs": [
        {
          "output_type": "execute_result",
          "data": {
            "text/plain": [
              "'https://huggingface.co/hosnahoseini/Roberta-finetuned-Parsi-Mianeh-Corpus/tree/main/'"
            ],
            "application/vnd.google.colaboratory.intrinsic+json": {
              "type": "string"
            }
          },
          "metadata": {},
          "execution_count": 18
        }
      ],
      "source": [
        "trainer.push_to_hub()"
      ]
    },
    {
      "cell_type": "code",
      "execution_count": null,
      "metadata": {
        "id": "18iY2gzC0k2h",
        "colab": {
          "base_uri": "https://localhost:8080/"
        },
        "outputId": "f7839aa2-bd7f-49dd-9ef4-a66b227a043c"
      },
      "outputs": [
        {
          "output_type": "execute_result",
          "data": {
            "text/plain": [
              "('z-rahimi-r/mlm_tokenizer/tokenizer_config.json',\n",
              " 'z-rahimi-r/mlm_tokenizer/special_tokens_map.json',\n",
              " 'z-rahimi-r/mlm_tokenizer/vocab.json',\n",
              " 'z-rahimi-r/mlm_tokenizer/merges.txt',\n",
              " 'z-rahimi-r/mlm_tokenizer/added_tokens.json',\n",
              " 'z-rahimi-r/mlm_tokenizer/tokenizer.json')"
            ]
          },
          "metadata": {},
          "execution_count": 19
        }
      ],
      "source": [
        "tokenizer.save_pretrained(f'{your_hugging_face_id}/mlm_tokenizer', push_to_hub=True)"
      ]
    },
    {
      "cell_type": "markdown",
      "metadata": {
        "id": "c2mBruvxURGS"
      },
      "source": [
        "<h4><font color=hotpink>Perplexity after Training</font></h4>"
      ]
    },
    {
      "cell_type": "code",
      "execution_count": null,
      "metadata": {
        "id": "iMYApW8UN7gO",
        "colab": {
          "base_uri": "https://localhost:8080/",
          "height": 54
        },
        "outputId": "42fa4cc7-372b-49b1-84be-fd75cae28477"
      },
      "outputs": [
        {
          "output_type": "display_data",
          "data": {
            "text/plain": [
              "<IPython.core.display.HTML object>"
            ],
            "text/html": [
              "\n",
              "    <div>\n",
              "      \n",
              "      <progress value='16' max='16' style='width:300px; height:20px; vertical-align: middle;'></progress>\n",
              "      [16/16 00:03]\n",
              "    </div>\n",
              "    "
            ]
          },
          "metadata": {}
        },
        {
          "output_type": "stream",
          "name": "stdout",
          "text": [
            ">>> Perplexity: 1252.78\n"
          ]
        }
      ],
      "source": [
        "eval_results = trainer.evaluate()\n",
        "print(f\">>> Perplexity: {math.exp(eval_results['eval_loss']):.2f}\")"
      ]
    },
    {
      "cell_type": "code",
      "execution_count": null,
      "metadata": {
        "colab": {
          "base_uri": "https://localhost:8080/"
        },
        "id": "ugmqLiks46Mf",
        "outputId": "84fa083f-74da-40a5-faa2-7cec30d58d87"
      },
      "outputs": [
        {
          "output_type": "stream",
          "name": "stdout",
          "text": [
            ">>> hamāg - zōhr pus ī wāspuhr ī šāhān - ī dāmān pahlomtom andar gēhān abāyišnīgtom\n",
            ">>> hamāg - zōhr pus ī wāspuhr ī šāhān ī ī dāmān pahlomtom andar gēhān abāyišnīgtom\n",
            ">>> hamāg - zōhr pus ī wāspuhr ī šāhān ud ī dāmān pahlomtom andar gēhān abāyišnīgtom\n",
            ">>> hamāg - zōhr pus ī wāspuhr ī šāhān pad ī dāmān pahlomtom andar gēhān abāyišnīgtom\n",
            ">>> hamāg - zōhr pus ī wāspuhr ī šāhān az ī dāmān pahlomtom andar gēhān abāyišnīgtom\n"
          ]
        }
      ],
      "source": [
        "from transformers import pipeline\n",
        "\n",
        "model=model.to(\"cpu\")\n",
        "mask_filler = pipeline('fill-mask', model=model, tokenizer=tokenizer)\n",
        "\n",
        "masked_query=\"hamāg-zōhr pus ī wāspuhr ī šāhān [MASK] ī dāmān pahlomtom andar gēhān abāyišnīgtom\"\n",
        "preds=mask_filler(masked_query)\n",
        "\n",
        "for pred in preds:\n",
        "    print(f\">>> {pred['sequence']}\")"
      ]
    },
    {
      "cell_type": "code",
      "source": [],
      "metadata": {
        "id": "OrfID8Hy-NMy"
      },
      "execution_count": null,
      "outputs": []
    }
  ],
  "metadata": {
    "accelerator": "GPU",
    "colab": {
      "provenance": []
    },
    "kernelspec": {
      "display_name": "Python 3",
      "name": "python3"
    },
    "language_info": {
      "codemirror_mode": {
        "name": "ipython",
        "version": 3
      },
      "file_extension": ".py",
      "mimetype": "text/x-python",
      "name": "python",
      "nbconvert_exporter": "python",
      "pygments_lexer": "ipython3",
      "version": "3.10.12"
    },
    "widgets": {
      "application/vnd.jupyter.widget-state+json": {
        "b02472dc128b492f8a6e170200934ba1": {
          "model_module": "@jupyter-widgets/controls",
          "model_name": "VBoxModel",
          "model_module_version": "1.5.0",
          "state": {
            "_dom_classes": [],
            "_model_module": "@jupyter-widgets/controls",
            "_model_module_version": "1.5.0",
            "_model_name": "VBoxModel",
            "_view_count": null,
            "_view_module": "@jupyter-widgets/controls",
            "_view_module_version": "1.5.0",
            "_view_name": "VBoxView",
            "box_style": "",
            "children": [
              "IPY_MODEL_eb61f9618d224ca9ab47389f69a3a8c4",
              "IPY_MODEL_b772ecf0fe5144cc965b677384973d46",
              "IPY_MODEL_9a0e97a08d5943a4ae40ddf4311763fb",
              "IPY_MODEL_2ce3992db84d4c54b77e3e9c93c38006"
            ],
            "layout": "IPY_MODEL_179bdd3023d94b9eb81883d463048dfd"
          }
        },
        "6fc47a6853f84a42952c446ff4e52046": {
          "model_module": "@jupyter-widgets/controls",
          "model_name": "HTMLModel",
          "model_module_version": "1.5.0",
          "state": {
            "_dom_classes": [],
            "_model_module": "@jupyter-widgets/controls",
            "_model_module_version": "1.5.0",
            "_model_name": "HTMLModel",
            "_view_count": null,
            "_view_module": "@jupyter-widgets/controls",
            "_view_module_version": "1.5.0",
            "_view_name": "HTMLView",
            "description": "",
            "description_tooltip": null,
            "layout": "IPY_MODEL_f55841b49bdb4964840dfafd32d77529",
            "placeholder": "​",
            "style": "IPY_MODEL_923f3ae949894a0d98ea2b8d725b66b2",
            "value": "<center> <img\nsrc=https://huggingface.co/front/assets/huggingface_logo-noborder.svg\nalt='Hugging Face'> <br> Copy a token from <a\nhref=\"https://huggingface.co/settings/tokens\" target=\"_blank\">your Hugging Face\ntokens page</a> and paste it below. <br> Immediately click login after copying\nyour token or it might be stored in plain text in this notebook file. </center>"
          }
        },
        "dfcd5f459b4045349c5bada81179ccef": {
          "model_module": "@jupyter-widgets/controls",
          "model_name": "PasswordModel",
          "model_module_version": "1.5.0",
          "state": {
            "_dom_classes": [],
            "_model_module": "@jupyter-widgets/controls",
            "_model_module_version": "1.5.0",
            "_model_name": "PasswordModel",
            "_view_count": null,
            "_view_module": "@jupyter-widgets/controls",
            "_view_module_version": "1.5.0",
            "_view_name": "PasswordView",
            "continuous_update": true,
            "description": "Token:",
            "description_tooltip": null,
            "disabled": false,
            "layout": "IPY_MODEL_97019e6294104a9aabc431473cd78442",
            "placeholder": "​",
            "style": "IPY_MODEL_4298066089c044aab210f70a1a0f25f2",
            "value": ""
          }
        },
        "fc0b066a7dc54542ae90ab6d932d12ff": {
          "model_module": "@jupyter-widgets/controls",
          "model_name": "CheckboxModel",
          "model_module_version": "1.5.0",
          "state": {
            "_dom_classes": [],
            "_model_module": "@jupyter-widgets/controls",
            "_model_module_version": "1.5.0",
            "_model_name": "CheckboxModel",
            "_view_count": null,
            "_view_module": "@jupyter-widgets/controls",
            "_view_module_version": "1.5.0",
            "_view_name": "CheckboxView",
            "description": "Add token as git credential?",
            "description_tooltip": null,
            "disabled": false,
            "indent": true,
            "layout": "IPY_MODEL_7f16a764472749a693363932ad871b25",
            "style": "IPY_MODEL_7f7786c8df844146a81481951bd73027",
            "value": true
          }
        },
        "0dcb4607acee4011abdda2dd14967eb9": {
          "model_module": "@jupyter-widgets/controls",
          "model_name": "ButtonModel",
          "model_module_version": "1.5.0",
          "state": {
            "_dom_classes": [],
            "_model_module": "@jupyter-widgets/controls",
            "_model_module_version": "1.5.0",
            "_model_name": "ButtonModel",
            "_view_count": null,
            "_view_module": "@jupyter-widgets/controls",
            "_view_module_version": "1.5.0",
            "_view_name": "ButtonView",
            "button_style": "",
            "description": "Login",
            "disabled": false,
            "icon": "",
            "layout": "IPY_MODEL_a46357872eee4b54855a63d12121b3fb",
            "style": "IPY_MODEL_1a3bdd5d4ff5471a97dd1263a3a934f0",
            "tooltip": ""
          }
        },
        "dd1fc9af936948549c6e4f1110ada09a": {
          "model_module": "@jupyter-widgets/controls",
          "model_name": "HTMLModel",
          "model_module_version": "1.5.0",
          "state": {
            "_dom_classes": [],
            "_model_module": "@jupyter-widgets/controls",
            "_model_module_version": "1.5.0",
            "_model_name": "HTMLModel",
            "_view_count": null,
            "_view_module": "@jupyter-widgets/controls",
            "_view_module_version": "1.5.0",
            "_view_name": "HTMLView",
            "description": "",
            "description_tooltip": null,
            "layout": "IPY_MODEL_a6294053ff9746ee96d5f0d8c12c7082",
            "placeholder": "​",
            "style": "IPY_MODEL_87aa3f3848bf497896cbfb455e44a6ea",
            "value": "\n<b>Pro Tip:</b> If you don't already have one, you can create a dedicated\n'notebooks' token with 'write' access, that you can then easily reuse for all\nnotebooks. </center>"
          }
        },
        "179bdd3023d94b9eb81883d463048dfd": {
          "model_module": "@jupyter-widgets/base",
          "model_name": "LayoutModel",
          "model_module_version": "1.2.0",
          "state": {
            "_model_module": "@jupyter-widgets/base",
            "_model_module_version": "1.2.0",
            "_model_name": "LayoutModel",
            "_view_count": null,
            "_view_module": "@jupyter-widgets/base",
            "_view_module_version": "1.2.0",
            "_view_name": "LayoutView",
            "align_content": null,
            "align_items": "center",
            "align_self": null,
            "border": null,
            "bottom": null,
            "display": "flex",
            "flex": null,
            "flex_flow": "column",
            "grid_area": null,
            "grid_auto_columns": null,
            "grid_auto_flow": null,
            "grid_auto_rows": null,
            "grid_column": null,
            "grid_gap": null,
            "grid_row": null,
            "grid_template_areas": null,
            "grid_template_columns": null,
            "grid_template_rows": null,
            "height": null,
            "justify_content": null,
            "justify_items": null,
            "left": null,
            "margin": null,
            "max_height": null,
            "max_width": null,
            "min_height": null,
            "min_width": null,
            "object_fit": null,
            "object_position": null,
            "order": null,
            "overflow": null,
            "overflow_x": null,
            "overflow_y": null,
            "padding": null,
            "right": null,
            "top": null,
            "visibility": null,
            "width": "50%"
          }
        },
        "f55841b49bdb4964840dfafd32d77529": {
          "model_module": "@jupyter-widgets/base",
          "model_name": "LayoutModel",
          "model_module_version": "1.2.0",
          "state": {
            "_model_module": "@jupyter-widgets/base",
            "_model_module_version": "1.2.0",
            "_model_name": "LayoutModel",
            "_view_count": null,
            "_view_module": "@jupyter-widgets/base",
            "_view_module_version": "1.2.0",
            "_view_name": "LayoutView",
            "align_content": null,
            "align_items": null,
            "align_self": null,
            "border": null,
            "bottom": null,
            "display": null,
            "flex": null,
            "flex_flow": null,
            "grid_area": null,
            "grid_auto_columns": null,
            "grid_auto_flow": null,
            "grid_auto_rows": null,
            "grid_column": null,
            "grid_gap": null,
            "grid_row": null,
            "grid_template_areas": null,
            "grid_template_columns": null,
            "grid_template_rows": null,
            "height": null,
            "justify_content": null,
            "justify_items": null,
            "left": null,
            "margin": null,
            "max_height": null,
            "max_width": null,
            "min_height": null,
            "min_width": null,
            "object_fit": null,
            "object_position": null,
            "order": null,
            "overflow": null,
            "overflow_x": null,
            "overflow_y": null,
            "padding": null,
            "right": null,
            "top": null,
            "visibility": null,
            "width": null
          }
        },
        "923f3ae949894a0d98ea2b8d725b66b2": {
          "model_module": "@jupyter-widgets/controls",
          "model_name": "DescriptionStyleModel",
          "model_module_version": "1.5.0",
          "state": {
            "_model_module": "@jupyter-widgets/controls",
            "_model_module_version": "1.5.0",
            "_model_name": "DescriptionStyleModel",
            "_view_count": null,
            "_view_module": "@jupyter-widgets/base",
            "_view_module_version": "1.2.0",
            "_view_name": "StyleView",
            "description_width": ""
          }
        },
        "97019e6294104a9aabc431473cd78442": {
          "model_module": "@jupyter-widgets/base",
          "model_name": "LayoutModel",
          "model_module_version": "1.2.0",
          "state": {
            "_model_module": "@jupyter-widgets/base",
            "_model_module_version": "1.2.0",
            "_model_name": "LayoutModel",
            "_view_count": null,
            "_view_module": "@jupyter-widgets/base",
            "_view_module_version": "1.2.0",
            "_view_name": "LayoutView",
            "align_content": null,
            "align_items": null,
            "align_self": null,
            "border": null,
            "bottom": null,
            "display": null,
            "flex": null,
            "flex_flow": null,
            "grid_area": null,
            "grid_auto_columns": null,
            "grid_auto_flow": null,
            "grid_auto_rows": null,
            "grid_column": null,
            "grid_gap": null,
            "grid_row": null,
            "grid_template_areas": null,
            "grid_template_columns": null,
            "grid_template_rows": null,
            "height": null,
            "justify_content": null,
            "justify_items": null,
            "left": null,
            "margin": null,
            "max_height": null,
            "max_width": null,
            "min_height": null,
            "min_width": null,
            "object_fit": null,
            "object_position": null,
            "order": null,
            "overflow": null,
            "overflow_x": null,
            "overflow_y": null,
            "padding": null,
            "right": null,
            "top": null,
            "visibility": null,
            "width": null
          }
        },
        "4298066089c044aab210f70a1a0f25f2": {
          "model_module": "@jupyter-widgets/controls",
          "model_name": "DescriptionStyleModel",
          "model_module_version": "1.5.0",
          "state": {
            "_model_module": "@jupyter-widgets/controls",
            "_model_module_version": "1.5.0",
            "_model_name": "DescriptionStyleModel",
            "_view_count": null,
            "_view_module": "@jupyter-widgets/base",
            "_view_module_version": "1.2.0",
            "_view_name": "StyleView",
            "description_width": ""
          }
        },
        "7f16a764472749a693363932ad871b25": {
          "model_module": "@jupyter-widgets/base",
          "model_name": "LayoutModel",
          "model_module_version": "1.2.0",
          "state": {
            "_model_module": "@jupyter-widgets/base",
            "_model_module_version": "1.2.0",
            "_model_name": "LayoutModel",
            "_view_count": null,
            "_view_module": "@jupyter-widgets/base",
            "_view_module_version": "1.2.0",
            "_view_name": "LayoutView",
            "align_content": null,
            "align_items": null,
            "align_self": null,
            "border": null,
            "bottom": null,
            "display": null,
            "flex": null,
            "flex_flow": null,
            "grid_area": null,
            "grid_auto_columns": null,
            "grid_auto_flow": null,
            "grid_auto_rows": null,
            "grid_column": null,
            "grid_gap": null,
            "grid_row": null,
            "grid_template_areas": null,
            "grid_template_columns": null,
            "grid_template_rows": null,
            "height": null,
            "justify_content": null,
            "justify_items": null,
            "left": null,
            "margin": null,
            "max_height": null,
            "max_width": null,
            "min_height": null,
            "min_width": null,
            "object_fit": null,
            "object_position": null,
            "order": null,
            "overflow": null,
            "overflow_x": null,
            "overflow_y": null,
            "padding": null,
            "right": null,
            "top": null,
            "visibility": null,
            "width": null
          }
        },
        "7f7786c8df844146a81481951bd73027": {
          "model_module": "@jupyter-widgets/controls",
          "model_name": "DescriptionStyleModel",
          "model_module_version": "1.5.0",
          "state": {
            "_model_module": "@jupyter-widgets/controls",
            "_model_module_version": "1.5.0",
            "_model_name": "DescriptionStyleModel",
            "_view_count": null,
            "_view_module": "@jupyter-widgets/base",
            "_view_module_version": "1.2.0",
            "_view_name": "StyleView",
            "description_width": ""
          }
        },
        "a46357872eee4b54855a63d12121b3fb": {
          "model_module": "@jupyter-widgets/base",
          "model_name": "LayoutModel",
          "model_module_version": "1.2.0",
          "state": {
            "_model_module": "@jupyter-widgets/base",
            "_model_module_version": "1.2.0",
            "_model_name": "LayoutModel",
            "_view_count": null,
            "_view_module": "@jupyter-widgets/base",
            "_view_module_version": "1.2.0",
            "_view_name": "LayoutView",
            "align_content": null,
            "align_items": null,
            "align_self": null,
            "border": null,
            "bottom": null,
            "display": null,
            "flex": null,
            "flex_flow": null,
            "grid_area": null,
            "grid_auto_columns": null,
            "grid_auto_flow": null,
            "grid_auto_rows": null,
            "grid_column": null,
            "grid_gap": null,
            "grid_row": null,
            "grid_template_areas": null,
            "grid_template_columns": null,
            "grid_template_rows": null,
            "height": null,
            "justify_content": null,
            "justify_items": null,
            "left": null,
            "margin": null,
            "max_height": null,
            "max_width": null,
            "min_height": null,
            "min_width": null,
            "object_fit": null,
            "object_position": null,
            "order": null,
            "overflow": null,
            "overflow_x": null,
            "overflow_y": null,
            "padding": null,
            "right": null,
            "top": null,
            "visibility": null,
            "width": null
          }
        },
        "1a3bdd5d4ff5471a97dd1263a3a934f0": {
          "model_module": "@jupyter-widgets/controls",
          "model_name": "ButtonStyleModel",
          "model_module_version": "1.5.0",
          "state": {
            "_model_module": "@jupyter-widgets/controls",
            "_model_module_version": "1.5.0",
            "_model_name": "ButtonStyleModel",
            "_view_count": null,
            "_view_module": "@jupyter-widgets/base",
            "_view_module_version": "1.2.0",
            "_view_name": "StyleView",
            "button_color": null,
            "font_weight": ""
          }
        },
        "a6294053ff9746ee96d5f0d8c12c7082": {
          "model_module": "@jupyter-widgets/base",
          "model_name": "LayoutModel",
          "model_module_version": "1.2.0",
          "state": {
            "_model_module": "@jupyter-widgets/base",
            "_model_module_version": "1.2.0",
            "_model_name": "LayoutModel",
            "_view_count": null,
            "_view_module": "@jupyter-widgets/base",
            "_view_module_version": "1.2.0",
            "_view_name": "LayoutView",
            "align_content": null,
            "align_items": null,
            "align_self": null,
            "border": null,
            "bottom": null,
            "display": null,
            "flex": null,
            "flex_flow": null,
            "grid_area": null,
            "grid_auto_columns": null,
            "grid_auto_flow": null,
            "grid_auto_rows": null,
            "grid_column": null,
            "grid_gap": null,
            "grid_row": null,
            "grid_template_areas": null,
            "grid_template_columns": null,
            "grid_template_rows": null,
            "height": null,
            "justify_content": null,
            "justify_items": null,
            "left": null,
            "margin": null,
            "max_height": null,
            "max_width": null,
            "min_height": null,
            "min_width": null,
            "object_fit": null,
            "object_position": null,
            "order": null,
            "overflow": null,
            "overflow_x": null,
            "overflow_y": null,
            "padding": null,
            "right": null,
            "top": null,
            "visibility": null,
            "width": null
          }
        },
        "87aa3f3848bf497896cbfb455e44a6ea": {
          "model_module": "@jupyter-widgets/controls",
          "model_name": "DescriptionStyleModel",
          "model_module_version": "1.5.0",
          "state": {
            "_model_module": "@jupyter-widgets/controls",
            "_model_module_version": "1.5.0",
            "_model_name": "DescriptionStyleModel",
            "_view_count": null,
            "_view_module": "@jupyter-widgets/base",
            "_view_module_version": "1.2.0",
            "_view_name": "StyleView",
            "description_width": ""
          }
        },
        "38117741841a4b98bf517c50b7c7b047": {
          "model_module": "@jupyter-widgets/controls",
          "model_name": "LabelModel",
          "model_module_version": "1.5.0",
          "state": {
            "_dom_classes": [],
            "_model_module": "@jupyter-widgets/controls",
            "_model_module_version": "1.5.0",
            "_model_name": "LabelModel",
            "_view_count": null,
            "_view_module": "@jupyter-widgets/controls",
            "_view_module_version": "1.5.0",
            "_view_name": "LabelView",
            "description": "",
            "description_tooltip": null,
            "layout": "IPY_MODEL_08e69c52fdfe492dae55206e78b06e42",
            "placeholder": "​",
            "style": "IPY_MODEL_6ff1dd6182d647ebbe2f9102189d6a88",
            "value": "Connecting..."
          }
        },
        "08e69c52fdfe492dae55206e78b06e42": {
          "model_module": "@jupyter-widgets/base",
          "model_name": "LayoutModel",
          "model_module_version": "1.2.0",
          "state": {
            "_model_module": "@jupyter-widgets/base",
            "_model_module_version": "1.2.0",
            "_model_name": "LayoutModel",
            "_view_count": null,
            "_view_module": "@jupyter-widgets/base",
            "_view_module_version": "1.2.0",
            "_view_name": "LayoutView",
            "align_content": null,
            "align_items": null,
            "align_self": null,
            "border": null,
            "bottom": null,
            "display": null,
            "flex": null,
            "flex_flow": null,
            "grid_area": null,
            "grid_auto_columns": null,
            "grid_auto_flow": null,
            "grid_auto_rows": null,
            "grid_column": null,
            "grid_gap": null,
            "grid_row": null,
            "grid_template_areas": null,
            "grid_template_columns": null,
            "grid_template_rows": null,
            "height": null,
            "justify_content": null,
            "justify_items": null,
            "left": null,
            "margin": null,
            "max_height": null,
            "max_width": null,
            "min_height": null,
            "min_width": null,
            "object_fit": null,
            "object_position": null,
            "order": null,
            "overflow": null,
            "overflow_x": null,
            "overflow_y": null,
            "padding": null,
            "right": null,
            "top": null,
            "visibility": null,
            "width": null
          }
        },
        "6ff1dd6182d647ebbe2f9102189d6a88": {
          "model_module": "@jupyter-widgets/controls",
          "model_name": "DescriptionStyleModel",
          "model_module_version": "1.5.0",
          "state": {
            "_model_module": "@jupyter-widgets/controls",
            "_model_module_version": "1.5.0",
            "_model_name": "DescriptionStyleModel",
            "_view_count": null,
            "_view_module": "@jupyter-widgets/base",
            "_view_module_version": "1.2.0",
            "_view_name": "StyleView",
            "description_width": ""
          }
        },
        "eb61f9618d224ca9ab47389f69a3a8c4": {
          "model_module": "@jupyter-widgets/controls",
          "model_name": "LabelModel",
          "model_module_version": "1.5.0",
          "state": {
            "_dom_classes": [],
            "_model_module": "@jupyter-widgets/controls",
            "_model_module_version": "1.5.0",
            "_model_name": "LabelModel",
            "_view_count": null,
            "_view_module": "@jupyter-widgets/controls",
            "_view_module_version": "1.5.0",
            "_view_name": "LabelView",
            "description": "",
            "description_tooltip": null,
            "layout": "IPY_MODEL_5792e120eca94570941744aabf9cdb2d",
            "placeholder": "​",
            "style": "IPY_MODEL_bb4fb26efafc4f949332e3df8504e38b",
            "value": "Token is valid (permission: write)."
          }
        },
        "b772ecf0fe5144cc965b677384973d46": {
          "model_module": "@jupyter-widgets/controls",
          "model_name": "LabelModel",
          "model_module_version": "1.5.0",
          "state": {
            "_dom_classes": [],
            "_model_module": "@jupyter-widgets/controls",
            "_model_module_version": "1.5.0",
            "_model_name": "LabelModel",
            "_view_count": null,
            "_view_module": "@jupyter-widgets/controls",
            "_view_module_version": "1.5.0",
            "_view_name": "LabelView",
            "description": "",
            "description_tooltip": null,
            "layout": "IPY_MODEL_92f1fbd6050e4c07b127040d529674c7",
            "placeholder": "​",
            "style": "IPY_MODEL_d550b00b426745808bba47ca0da28ef3",
            "value": "Your token has been saved in your configured git credential helpers (store)."
          }
        },
        "9a0e97a08d5943a4ae40ddf4311763fb": {
          "model_module": "@jupyter-widgets/controls",
          "model_name": "LabelModel",
          "model_module_version": "1.5.0",
          "state": {
            "_dom_classes": [],
            "_model_module": "@jupyter-widgets/controls",
            "_model_module_version": "1.5.0",
            "_model_name": "LabelModel",
            "_view_count": null,
            "_view_module": "@jupyter-widgets/controls",
            "_view_module_version": "1.5.0",
            "_view_name": "LabelView",
            "description": "",
            "description_tooltip": null,
            "layout": "IPY_MODEL_0ede96d0b87342a3907bc8d19a29faa1",
            "placeholder": "​",
            "style": "IPY_MODEL_20c5dc9d824847b1951d640765057b92",
            "value": "Your token has been saved to /root/.cache/huggingface/token"
          }
        },
        "2ce3992db84d4c54b77e3e9c93c38006": {
          "model_module": "@jupyter-widgets/controls",
          "model_name": "LabelModel",
          "model_module_version": "1.5.0",
          "state": {
            "_dom_classes": [],
            "_model_module": "@jupyter-widgets/controls",
            "_model_module_version": "1.5.0",
            "_model_name": "LabelModel",
            "_view_count": null,
            "_view_module": "@jupyter-widgets/controls",
            "_view_module_version": "1.5.0",
            "_view_name": "LabelView",
            "description": "",
            "description_tooltip": null,
            "layout": "IPY_MODEL_5e9664fe0af54269abfda543a6e92e82",
            "placeholder": "​",
            "style": "IPY_MODEL_4cd944c5a751425a90c76fa359f47a6c",
            "value": "Login successful"
          }
        },
        "5792e120eca94570941744aabf9cdb2d": {
          "model_module": "@jupyter-widgets/base",
          "model_name": "LayoutModel",
          "model_module_version": "1.2.0",
          "state": {
            "_model_module": "@jupyter-widgets/base",
            "_model_module_version": "1.2.0",
            "_model_name": "LayoutModel",
            "_view_count": null,
            "_view_module": "@jupyter-widgets/base",
            "_view_module_version": "1.2.0",
            "_view_name": "LayoutView",
            "align_content": null,
            "align_items": null,
            "align_self": null,
            "border": null,
            "bottom": null,
            "display": null,
            "flex": null,
            "flex_flow": null,
            "grid_area": null,
            "grid_auto_columns": null,
            "grid_auto_flow": null,
            "grid_auto_rows": null,
            "grid_column": null,
            "grid_gap": null,
            "grid_row": null,
            "grid_template_areas": null,
            "grid_template_columns": null,
            "grid_template_rows": null,
            "height": null,
            "justify_content": null,
            "justify_items": null,
            "left": null,
            "margin": null,
            "max_height": null,
            "max_width": null,
            "min_height": null,
            "min_width": null,
            "object_fit": null,
            "object_position": null,
            "order": null,
            "overflow": null,
            "overflow_x": null,
            "overflow_y": null,
            "padding": null,
            "right": null,
            "top": null,
            "visibility": null,
            "width": null
          }
        },
        "bb4fb26efafc4f949332e3df8504e38b": {
          "model_module": "@jupyter-widgets/controls",
          "model_name": "DescriptionStyleModel",
          "model_module_version": "1.5.0",
          "state": {
            "_model_module": "@jupyter-widgets/controls",
            "_model_module_version": "1.5.0",
            "_model_name": "DescriptionStyleModel",
            "_view_count": null,
            "_view_module": "@jupyter-widgets/base",
            "_view_module_version": "1.2.0",
            "_view_name": "StyleView",
            "description_width": ""
          }
        },
        "92f1fbd6050e4c07b127040d529674c7": {
          "model_module": "@jupyter-widgets/base",
          "model_name": "LayoutModel",
          "model_module_version": "1.2.0",
          "state": {
            "_model_module": "@jupyter-widgets/base",
            "_model_module_version": "1.2.0",
            "_model_name": "LayoutModel",
            "_view_count": null,
            "_view_module": "@jupyter-widgets/base",
            "_view_module_version": "1.2.0",
            "_view_name": "LayoutView",
            "align_content": null,
            "align_items": null,
            "align_self": null,
            "border": null,
            "bottom": null,
            "display": null,
            "flex": null,
            "flex_flow": null,
            "grid_area": null,
            "grid_auto_columns": null,
            "grid_auto_flow": null,
            "grid_auto_rows": null,
            "grid_column": null,
            "grid_gap": null,
            "grid_row": null,
            "grid_template_areas": null,
            "grid_template_columns": null,
            "grid_template_rows": null,
            "height": null,
            "justify_content": null,
            "justify_items": null,
            "left": null,
            "margin": null,
            "max_height": null,
            "max_width": null,
            "min_height": null,
            "min_width": null,
            "object_fit": null,
            "object_position": null,
            "order": null,
            "overflow": null,
            "overflow_x": null,
            "overflow_y": null,
            "padding": null,
            "right": null,
            "top": null,
            "visibility": null,
            "width": null
          }
        },
        "d550b00b426745808bba47ca0da28ef3": {
          "model_module": "@jupyter-widgets/controls",
          "model_name": "DescriptionStyleModel",
          "model_module_version": "1.5.0",
          "state": {
            "_model_module": "@jupyter-widgets/controls",
            "_model_module_version": "1.5.0",
            "_model_name": "DescriptionStyleModel",
            "_view_count": null,
            "_view_module": "@jupyter-widgets/base",
            "_view_module_version": "1.2.0",
            "_view_name": "StyleView",
            "description_width": ""
          }
        },
        "0ede96d0b87342a3907bc8d19a29faa1": {
          "model_module": "@jupyter-widgets/base",
          "model_name": "LayoutModel",
          "model_module_version": "1.2.0",
          "state": {
            "_model_module": "@jupyter-widgets/base",
            "_model_module_version": "1.2.0",
            "_model_name": "LayoutModel",
            "_view_count": null,
            "_view_module": "@jupyter-widgets/base",
            "_view_module_version": "1.2.0",
            "_view_name": "LayoutView",
            "align_content": null,
            "align_items": null,
            "align_self": null,
            "border": null,
            "bottom": null,
            "display": null,
            "flex": null,
            "flex_flow": null,
            "grid_area": null,
            "grid_auto_columns": null,
            "grid_auto_flow": null,
            "grid_auto_rows": null,
            "grid_column": null,
            "grid_gap": null,
            "grid_row": null,
            "grid_template_areas": null,
            "grid_template_columns": null,
            "grid_template_rows": null,
            "height": null,
            "justify_content": null,
            "justify_items": null,
            "left": null,
            "margin": null,
            "max_height": null,
            "max_width": null,
            "min_height": null,
            "min_width": null,
            "object_fit": null,
            "object_position": null,
            "order": null,
            "overflow": null,
            "overflow_x": null,
            "overflow_y": null,
            "padding": null,
            "right": null,
            "top": null,
            "visibility": null,
            "width": null
          }
        },
        "20c5dc9d824847b1951d640765057b92": {
          "model_module": "@jupyter-widgets/controls",
          "model_name": "DescriptionStyleModel",
          "model_module_version": "1.5.0",
          "state": {
            "_model_module": "@jupyter-widgets/controls",
            "_model_module_version": "1.5.0",
            "_model_name": "DescriptionStyleModel",
            "_view_count": null,
            "_view_module": "@jupyter-widgets/base",
            "_view_module_version": "1.2.0",
            "_view_name": "StyleView",
            "description_width": ""
          }
        },
        "5e9664fe0af54269abfda543a6e92e82": {
          "model_module": "@jupyter-widgets/base",
          "model_name": "LayoutModel",
          "model_module_version": "1.2.0",
          "state": {
            "_model_module": "@jupyter-widgets/base",
            "_model_module_version": "1.2.0",
            "_model_name": "LayoutModel",
            "_view_count": null,
            "_view_module": "@jupyter-widgets/base",
            "_view_module_version": "1.2.0",
            "_view_name": "LayoutView",
            "align_content": null,
            "align_items": null,
            "align_self": null,
            "border": null,
            "bottom": null,
            "display": null,
            "flex": null,
            "flex_flow": null,
            "grid_area": null,
            "grid_auto_columns": null,
            "grid_auto_flow": null,
            "grid_auto_rows": null,
            "grid_column": null,
            "grid_gap": null,
            "grid_row": null,
            "grid_template_areas": null,
            "grid_template_columns": null,
            "grid_template_rows": null,
            "height": null,
            "justify_content": null,
            "justify_items": null,
            "left": null,
            "margin": null,
            "max_height": null,
            "max_width": null,
            "min_height": null,
            "min_width": null,
            "object_fit": null,
            "object_position": null,
            "order": null,
            "overflow": null,
            "overflow_x": null,
            "overflow_y": null,
            "padding": null,
            "right": null,
            "top": null,
            "visibility": null,
            "width": null
          }
        },
        "4cd944c5a751425a90c76fa359f47a6c": {
          "model_module": "@jupyter-widgets/controls",
          "model_name": "DescriptionStyleModel",
          "model_module_version": "1.5.0",
          "state": {
            "_model_module": "@jupyter-widgets/controls",
            "_model_module_version": "1.5.0",
            "_model_name": "DescriptionStyleModel",
            "_view_count": null,
            "_view_module": "@jupyter-widgets/base",
            "_view_module_version": "1.2.0",
            "_view_name": "StyleView",
            "description_width": ""
          }
        },
        "488701bd31f84c448da3092b3446ad37": {
          "model_module": "@jupyter-widgets/controls",
          "model_name": "HBoxModel",
          "model_module_version": "1.5.0",
          "state": {
            "_dom_classes": [],
            "_model_module": "@jupyter-widgets/controls",
            "_model_module_version": "1.5.0",
            "_model_name": "HBoxModel",
            "_view_count": null,
            "_view_module": "@jupyter-widgets/controls",
            "_view_module_version": "1.5.0",
            "_view_name": "HBoxView",
            "box_style": "",
            "children": [
              "IPY_MODEL_72999d01394e4c3d8103e9f07cc3db0c",
              "IPY_MODEL_0f3c771c03704647ac187bdcedec2582",
              "IPY_MODEL_5ab40610773f46d3aabcef3394c7f888"
            ],
            "layout": "IPY_MODEL_4b50a736e7344b0aa38e9ef877680188"
          }
        },
        "72999d01394e4c3d8103e9f07cc3db0c": {
          "model_module": "@jupyter-widgets/controls",
          "model_name": "HTMLModel",
          "model_module_version": "1.5.0",
          "state": {
            "_dom_classes": [],
            "_model_module": "@jupyter-widgets/controls",
            "_model_module_version": "1.5.0",
            "_model_name": "HTMLModel",
            "_view_count": null,
            "_view_module": "@jupyter-widgets/controls",
            "_view_module_version": "1.5.0",
            "_view_name": "HTMLView",
            "description": "",
            "description_tooltip": null,
            "layout": "IPY_MODEL_693ee285ea93478ebe05c65b81139535",
            "placeholder": "​",
            "style": "IPY_MODEL_c85cb96c426a4c768b25c27c21bcfe26",
            "value": "training_args.bin: 100%"
          }
        },
        "0f3c771c03704647ac187bdcedec2582": {
          "model_module": "@jupyter-widgets/controls",
          "model_name": "FloatProgressModel",
          "model_module_version": "1.5.0",
          "state": {
            "_dom_classes": [],
            "_model_module": "@jupyter-widgets/controls",
            "_model_module_version": "1.5.0",
            "_model_name": "FloatProgressModel",
            "_view_count": null,
            "_view_module": "@jupyter-widgets/controls",
            "_view_module_version": "1.5.0",
            "_view_name": "ProgressView",
            "bar_style": "success",
            "description": "",
            "description_tooltip": null,
            "layout": "IPY_MODEL_684ab70d1d2f4c178253d834292e0c1a",
            "max": 4600,
            "min": 0,
            "orientation": "horizontal",
            "style": "IPY_MODEL_5aaae1c871fe43cca14be2ecdb9436f5",
            "value": 4600
          }
        },
        "5ab40610773f46d3aabcef3394c7f888": {
          "model_module": "@jupyter-widgets/controls",
          "model_name": "HTMLModel",
          "model_module_version": "1.5.0",
          "state": {
            "_dom_classes": [],
            "_model_module": "@jupyter-widgets/controls",
            "_model_module_version": "1.5.0",
            "_model_name": "HTMLModel",
            "_view_count": null,
            "_view_module": "@jupyter-widgets/controls",
            "_view_module_version": "1.5.0",
            "_view_name": "HTMLView",
            "description": "",
            "description_tooltip": null,
            "layout": "IPY_MODEL_3cd03a8c523746f881cd56e838d33d11",
            "placeholder": "​",
            "style": "IPY_MODEL_1f66b2b997704b848b1c416eae0b1565",
            "value": " 4.60k/4.60k [00:00&lt;00:00, 10.3kB/s]"
          }
        },
        "4b50a736e7344b0aa38e9ef877680188": {
          "model_module": "@jupyter-widgets/base",
          "model_name": "LayoutModel",
          "model_module_version": "1.2.0",
          "state": {
            "_model_module": "@jupyter-widgets/base",
            "_model_module_version": "1.2.0",
            "_model_name": "LayoutModel",
            "_view_count": null,
            "_view_module": "@jupyter-widgets/base",
            "_view_module_version": "1.2.0",
            "_view_name": "LayoutView",
            "align_content": null,
            "align_items": null,
            "align_self": null,
            "border": null,
            "bottom": null,
            "display": null,
            "flex": null,
            "flex_flow": null,
            "grid_area": null,
            "grid_auto_columns": null,
            "grid_auto_flow": null,
            "grid_auto_rows": null,
            "grid_column": null,
            "grid_gap": null,
            "grid_row": null,
            "grid_template_areas": null,
            "grid_template_columns": null,
            "grid_template_rows": null,
            "height": null,
            "justify_content": null,
            "justify_items": null,
            "left": null,
            "margin": null,
            "max_height": null,
            "max_width": null,
            "min_height": null,
            "min_width": null,
            "object_fit": null,
            "object_position": null,
            "order": null,
            "overflow": null,
            "overflow_x": null,
            "overflow_y": null,
            "padding": null,
            "right": null,
            "top": null,
            "visibility": null,
            "width": null
          }
        },
        "693ee285ea93478ebe05c65b81139535": {
          "model_module": "@jupyter-widgets/base",
          "model_name": "LayoutModel",
          "model_module_version": "1.2.0",
          "state": {
            "_model_module": "@jupyter-widgets/base",
            "_model_module_version": "1.2.0",
            "_model_name": "LayoutModel",
            "_view_count": null,
            "_view_module": "@jupyter-widgets/base",
            "_view_module_version": "1.2.0",
            "_view_name": "LayoutView",
            "align_content": null,
            "align_items": null,
            "align_self": null,
            "border": null,
            "bottom": null,
            "display": null,
            "flex": null,
            "flex_flow": null,
            "grid_area": null,
            "grid_auto_columns": null,
            "grid_auto_flow": null,
            "grid_auto_rows": null,
            "grid_column": null,
            "grid_gap": null,
            "grid_row": null,
            "grid_template_areas": null,
            "grid_template_columns": null,
            "grid_template_rows": null,
            "height": null,
            "justify_content": null,
            "justify_items": null,
            "left": null,
            "margin": null,
            "max_height": null,
            "max_width": null,
            "min_height": null,
            "min_width": null,
            "object_fit": null,
            "object_position": null,
            "order": null,
            "overflow": null,
            "overflow_x": null,
            "overflow_y": null,
            "padding": null,
            "right": null,
            "top": null,
            "visibility": null,
            "width": null
          }
        },
        "c85cb96c426a4c768b25c27c21bcfe26": {
          "model_module": "@jupyter-widgets/controls",
          "model_name": "DescriptionStyleModel",
          "model_module_version": "1.5.0",
          "state": {
            "_model_module": "@jupyter-widgets/controls",
            "_model_module_version": "1.5.0",
            "_model_name": "DescriptionStyleModel",
            "_view_count": null,
            "_view_module": "@jupyter-widgets/base",
            "_view_module_version": "1.2.0",
            "_view_name": "StyleView",
            "description_width": ""
          }
        },
        "684ab70d1d2f4c178253d834292e0c1a": {
          "model_module": "@jupyter-widgets/base",
          "model_name": "LayoutModel",
          "model_module_version": "1.2.0",
          "state": {
            "_model_module": "@jupyter-widgets/base",
            "_model_module_version": "1.2.0",
            "_model_name": "LayoutModel",
            "_view_count": null,
            "_view_module": "@jupyter-widgets/base",
            "_view_module_version": "1.2.0",
            "_view_name": "LayoutView",
            "align_content": null,
            "align_items": null,
            "align_self": null,
            "border": null,
            "bottom": null,
            "display": null,
            "flex": null,
            "flex_flow": null,
            "grid_area": null,
            "grid_auto_columns": null,
            "grid_auto_flow": null,
            "grid_auto_rows": null,
            "grid_column": null,
            "grid_gap": null,
            "grid_row": null,
            "grid_template_areas": null,
            "grid_template_columns": null,
            "grid_template_rows": null,
            "height": null,
            "justify_content": null,
            "justify_items": null,
            "left": null,
            "margin": null,
            "max_height": null,
            "max_width": null,
            "min_height": null,
            "min_width": null,
            "object_fit": null,
            "object_position": null,
            "order": null,
            "overflow": null,
            "overflow_x": null,
            "overflow_y": null,
            "padding": null,
            "right": null,
            "top": null,
            "visibility": null,
            "width": null
          }
        },
        "5aaae1c871fe43cca14be2ecdb9436f5": {
          "model_module": "@jupyter-widgets/controls",
          "model_name": "ProgressStyleModel",
          "model_module_version": "1.5.0",
          "state": {
            "_model_module": "@jupyter-widgets/controls",
            "_model_module_version": "1.5.0",
            "_model_name": "ProgressStyleModel",
            "_view_count": null,
            "_view_module": "@jupyter-widgets/base",
            "_view_module_version": "1.2.0",
            "_view_name": "StyleView",
            "bar_color": null,
            "description_width": ""
          }
        },
        "3cd03a8c523746f881cd56e838d33d11": {
          "model_module": "@jupyter-widgets/base",
          "model_name": "LayoutModel",
          "model_module_version": "1.2.0",
          "state": {
            "_model_module": "@jupyter-widgets/base",
            "_model_module_version": "1.2.0",
            "_model_name": "LayoutModel",
            "_view_count": null,
            "_view_module": "@jupyter-widgets/base",
            "_view_module_version": "1.2.0",
            "_view_name": "LayoutView",
            "align_content": null,
            "align_items": null,
            "align_self": null,
            "border": null,
            "bottom": null,
            "display": null,
            "flex": null,
            "flex_flow": null,
            "grid_area": null,
            "grid_auto_columns": null,
            "grid_auto_flow": null,
            "grid_auto_rows": null,
            "grid_column": null,
            "grid_gap": null,
            "grid_row": null,
            "grid_template_areas": null,
            "grid_template_columns": null,
            "grid_template_rows": null,
            "height": null,
            "justify_content": null,
            "justify_items": null,
            "left": null,
            "margin": null,
            "max_height": null,
            "max_width": null,
            "min_height": null,
            "min_width": null,
            "object_fit": null,
            "object_position": null,
            "order": null,
            "overflow": null,
            "overflow_x": null,
            "overflow_y": null,
            "padding": null,
            "right": null,
            "top": null,
            "visibility": null,
            "width": null
          }
        },
        "1f66b2b997704b848b1c416eae0b1565": {
          "model_module": "@jupyter-widgets/controls",
          "model_name": "DescriptionStyleModel",
          "model_module_version": "1.5.0",
          "state": {
            "_model_module": "@jupyter-widgets/controls",
            "_model_module_version": "1.5.0",
            "_model_name": "DescriptionStyleModel",
            "_view_count": null,
            "_view_module": "@jupyter-widgets/base",
            "_view_module_version": "1.2.0",
            "_view_name": "StyleView",
            "description_width": ""
          }
        },
        "a078796affa84383b8e059b3077b9428": {
          "model_module": "@jupyter-widgets/controls",
          "model_name": "HBoxModel",
          "model_module_version": "1.5.0",
          "state": {
            "_dom_classes": [],
            "_model_module": "@jupyter-widgets/controls",
            "_model_module_version": "1.5.0",
            "_model_name": "HBoxModel",
            "_view_count": null,
            "_view_module": "@jupyter-widgets/controls",
            "_view_module_version": "1.5.0",
            "_view_name": "HBoxView",
            "box_style": "",
            "children": [
              "IPY_MODEL_90c0d421f6f94688b23941f8c1d08237",
              "IPY_MODEL_052a97f1fa644602828b83f7a3221931",
              "IPY_MODEL_e89a13e571e947dc9c119f7690934d1d"
            ],
            "layout": "IPY_MODEL_966f9bfba41d432b9443c0c1e2f2986c"
          }
        },
        "90c0d421f6f94688b23941f8c1d08237": {
          "model_module": "@jupyter-widgets/controls",
          "model_name": "HTMLModel",
          "model_module_version": "1.5.0",
          "state": {
            "_dom_classes": [],
            "_model_module": "@jupyter-widgets/controls",
            "_model_module_version": "1.5.0",
            "_model_name": "HTMLModel",
            "_view_count": null,
            "_view_module": "@jupyter-widgets/controls",
            "_view_module_version": "1.5.0",
            "_view_name": "HTMLView",
            "description": "",
            "description_tooltip": null,
            "layout": "IPY_MODEL_8f250d1df1574aadb3e69d88f1ff81d8",
            "placeholder": "​",
            "style": "IPY_MODEL_841497d05fbf44a682ea8ee7aa4229cc",
            "value": "model.safetensors: 100%"
          }
        },
        "052a97f1fa644602828b83f7a3221931": {
          "model_module": "@jupyter-widgets/controls",
          "model_name": "FloatProgressModel",
          "model_module_version": "1.5.0",
          "state": {
            "_dom_classes": [],
            "_model_module": "@jupyter-widgets/controls",
            "_model_module_version": "1.5.0",
            "_model_name": "FloatProgressModel",
            "_view_count": null,
            "_view_module": "@jupyter-widgets/controls",
            "_view_module_version": "1.5.0",
            "_view_name": "ProgressView",
            "bar_style": "success",
            "description": "",
            "description_tooltip": null,
            "layout": "IPY_MODEL_ab8721da6b4a499b86529ea904e6b88b",
            "max": 498810876,
            "min": 0,
            "orientation": "horizontal",
            "style": "IPY_MODEL_9b84556881b0412aa468d4e31546481b",
            "value": 498810876
          }
        },
        "e89a13e571e947dc9c119f7690934d1d": {
          "model_module": "@jupyter-widgets/controls",
          "model_name": "HTMLModel",
          "model_module_version": "1.5.0",
          "state": {
            "_dom_classes": [],
            "_model_module": "@jupyter-widgets/controls",
            "_model_module_version": "1.5.0",
            "_model_name": "HTMLModel",
            "_view_count": null,
            "_view_module": "@jupyter-widgets/controls",
            "_view_module_version": "1.5.0",
            "_view_name": "HTMLView",
            "description": "",
            "description_tooltip": null,
            "layout": "IPY_MODEL_122dc1ab3b3240f4ac13224108f0847e",
            "placeholder": "​",
            "style": "IPY_MODEL_52eda119aad44da6bcdc77f8373963cb",
            "value": " 499M/499M [00:12&lt;00:00, 36.1MB/s]"
          }
        },
        "966f9bfba41d432b9443c0c1e2f2986c": {
          "model_module": "@jupyter-widgets/base",
          "model_name": "LayoutModel",
          "model_module_version": "1.2.0",
          "state": {
            "_model_module": "@jupyter-widgets/base",
            "_model_module_version": "1.2.0",
            "_model_name": "LayoutModel",
            "_view_count": null,
            "_view_module": "@jupyter-widgets/base",
            "_view_module_version": "1.2.0",
            "_view_name": "LayoutView",
            "align_content": null,
            "align_items": null,
            "align_self": null,
            "border": null,
            "bottom": null,
            "display": null,
            "flex": null,
            "flex_flow": null,
            "grid_area": null,
            "grid_auto_columns": null,
            "grid_auto_flow": null,
            "grid_auto_rows": null,
            "grid_column": null,
            "grid_gap": null,
            "grid_row": null,
            "grid_template_areas": null,
            "grid_template_columns": null,
            "grid_template_rows": null,
            "height": null,
            "justify_content": null,
            "justify_items": null,
            "left": null,
            "margin": null,
            "max_height": null,
            "max_width": null,
            "min_height": null,
            "min_width": null,
            "object_fit": null,
            "object_position": null,
            "order": null,
            "overflow": null,
            "overflow_x": null,
            "overflow_y": null,
            "padding": null,
            "right": null,
            "top": null,
            "visibility": null,
            "width": null
          }
        },
        "8f250d1df1574aadb3e69d88f1ff81d8": {
          "model_module": "@jupyter-widgets/base",
          "model_name": "LayoutModel",
          "model_module_version": "1.2.0",
          "state": {
            "_model_module": "@jupyter-widgets/base",
            "_model_module_version": "1.2.0",
            "_model_name": "LayoutModel",
            "_view_count": null,
            "_view_module": "@jupyter-widgets/base",
            "_view_module_version": "1.2.0",
            "_view_name": "LayoutView",
            "align_content": null,
            "align_items": null,
            "align_self": null,
            "border": null,
            "bottom": null,
            "display": null,
            "flex": null,
            "flex_flow": null,
            "grid_area": null,
            "grid_auto_columns": null,
            "grid_auto_flow": null,
            "grid_auto_rows": null,
            "grid_column": null,
            "grid_gap": null,
            "grid_row": null,
            "grid_template_areas": null,
            "grid_template_columns": null,
            "grid_template_rows": null,
            "height": null,
            "justify_content": null,
            "justify_items": null,
            "left": null,
            "margin": null,
            "max_height": null,
            "max_width": null,
            "min_height": null,
            "min_width": null,
            "object_fit": null,
            "object_position": null,
            "order": null,
            "overflow": null,
            "overflow_x": null,
            "overflow_y": null,
            "padding": null,
            "right": null,
            "top": null,
            "visibility": null,
            "width": null
          }
        },
        "841497d05fbf44a682ea8ee7aa4229cc": {
          "model_module": "@jupyter-widgets/controls",
          "model_name": "DescriptionStyleModel",
          "model_module_version": "1.5.0",
          "state": {
            "_model_module": "@jupyter-widgets/controls",
            "_model_module_version": "1.5.0",
            "_model_name": "DescriptionStyleModel",
            "_view_count": null,
            "_view_module": "@jupyter-widgets/base",
            "_view_module_version": "1.2.0",
            "_view_name": "StyleView",
            "description_width": ""
          }
        },
        "ab8721da6b4a499b86529ea904e6b88b": {
          "model_module": "@jupyter-widgets/base",
          "model_name": "LayoutModel",
          "model_module_version": "1.2.0",
          "state": {
            "_model_module": "@jupyter-widgets/base",
            "_model_module_version": "1.2.0",
            "_model_name": "LayoutModel",
            "_view_count": null,
            "_view_module": "@jupyter-widgets/base",
            "_view_module_version": "1.2.0",
            "_view_name": "LayoutView",
            "align_content": null,
            "align_items": null,
            "align_self": null,
            "border": null,
            "bottom": null,
            "display": null,
            "flex": null,
            "flex_flow": null,
            "grid_area": null,
            "grid_auto_columns": null,
            "grid_auto_flow": null,
            "grid_auto_rows": null,
            "grid_column": null,
            "grid_gap": null,
            "grid_row": null,
            "grid_template_areas": null,
            "grid_template_columns": null,
            "grid_template_rows": null,
            "height": null,
            "justify_content": null,
            "justify_items": null,
            "left": null,
            "margin": null,
            "max_height": null,
            "max_width": null,
            "min_height": null,
            "min_width": null,
            "object_fit": null,
            "object_position": null,
            "order": null,
            "overflow": null,
            "overflow_x": null,
            "overflow_y": null,
            "padding": null,
            "right": null,
            "top": null,
            "visibility": null,
            "width": null
          }
        },
        "9b84556881b0412aa468d4e31546481b": {
          "model_module": "@jupyter-widgets/controls",
          "model_name": "ProgressStyleModel",
          "model_module_version": "1.5.0",
          "state": {
            "_model_module": "@jupyter-widgets/controls",
            "_model_module_version": "1.5.0",
            "_model_name": "ProgressStyleModel",
            "_view_count": null,
            "_view_module": "@jupyter-widgets/base",
            "_view_module_version": "1.2.0",
            "_view_name": "StyleView",
            "bar_color": null,
            "description_width": ""
          }
        },
        "122dc1ab3b3240f4ac13224108f0847e": {
          "model_module": "@jupyter-widgets/base",
          "model_name": "LayoutModel",
          "model_module_version": "1.2.0",
          "state": {
            "_model_module": "@jupyter-widgets/base",
            "_model_module_version": "1.2.0",
            "_model_name": "LayoutModel",
            "_view_count": null,
            "_view_module": "@jupyter-widgets/base",
            "_view_module_version": "1.2.0",
            "_view_name": "LayoutView",
            "align_content": null,
            "align_items": null,
            "align_self": null,
            "border": null,
            "bottom": null,
            "display": null,
            "flex": null,
            "flex_flow": null,
            "grid_area": null,
            "grid_auto_columns": null,
            "grid_auto_flow": null,
            "grid_auto_rows": null,
            "grid_column": null,
            "grid_gap": null,
            "grid_row": null,
            "grid_template_areas": null,
            "grid_template_columns": null,
            "grid_template_rows": null,
            "height": null,
            "justify_content": null,
            "justify_items": null,
            "left": null,
            "margin": null,
            "max_height": null,
            "max_width": null,
            "min_height": null,
            "min_width": null,
            "object_fit": null,
            "object_position": null,
            "order": null,
            "overflow": null,
            "overflow_x": null,
            "overflow_y": null,
            "padding": null,
            "right": null,
            "top": null,
            "visibility": null,
            "width": null
          }
        },
        "52eda119aad44da6bcdc77f8373963cb": {
          "model_module": "@jupyter-widgets/controls",
          "model_name": "DescriptionStyleModel",
          "model_module_version": "1.5.0",
          "state": {
            "_model_module": "@jupyter-widgets/controls",
            "_model_module_version": "1.5.0",
            "_model_name": "DescriptionStyleModel",
            "_view_count": null,
            "_view_module": "@jupyter-widgets/base",
            "_view_module_version": "1.2.0",
            "_view_name": "StyleView",
            "description_width": ""
          }
        },
        "d8a51be4d58d47f9b08bd85cdffb0c39": {
          "model_module": "@jupyter-widgets/controls",
          "model_name": "HBoxModel",
          "model_module_version": "1.5.0",
          "state": {
            "_dom_classes": [],
            "_model_module": "@jupyter-widgets/controls",
            "_model_module_version": "1.5.0",
            "_model_name": "HBoxModel",
            "_view_count": null,
            "_view_module": "@jupyter-widgets/controls",
            "_view_module_version": "1.5.0",
            "_view_name": "HBoxView",
            "box_style": "",
            "children": [
              "IPY_MODEL_9321d8949db941e6853c3e3ef45a2f3f",
              "IPY_MODEL_3a4973835fe4479dad180f2d47c43916",
              "IPY_MODEL_30c040f5638542fda1b96a53b596d7e5"
            ],
            "layout": "IPY_MODEL_8d1eb05e84204851a15bbe601971aeaa"
          }
        },
        "9321d8949db941e6853c3e3ef45a2f3f": {
          "model_module": "@jupyter-widgets/controls",
          "model_name": "HTMLModel",
          "model_module_version": "1.5.0",
          "state": {
            "_dom_classes": [],
            "_model_module": "@jupyter-widgets/controls",
            "_model_module_version": "1.5.0",
            "_model_name": "HTMLModel",
            "_view_count": null,
            "_view_module": "@jupyter-widgets/controls",
            "_view_module_version": "1.5.0",
            "_view_name": "HTMLView",
            "description": "",
            "description_tooltip": null,
            "layout": "IPY_MODEL_b364085d904a455bb9bf642556cd60fd",
            "placeholder": "​",
            "style": "IPY_MODEL_abaf04c30c634a7299a028dcde5426e8",
            "value": "Upload 3 LFS files: 100%"
          }
        },
        "3a4973835fe4479dad180f2d47c43916": {
          "model_module": "@jupyter-widgets/controls",
          "model_name": "FloatProgressModel",
          "model_module_version": "1.5.0",
          "state": {
            "_dom_classes": [],
            "_model_module": "@jupyter-widgets/controls",
            "_model_module_version": "1.5.0",
            "_model_name": "FloatProgressModel",
            "_view_count": null,
            "_view_module": "@jupyter-widgets/controls",
            "_view_module_version": "1.5.0",
            "_view_name": "ProgressView",
            "bar_style": "success",
            "description": "",
            "description_tooltip": null,
            "layout": "IPY_MODEL_7f3e44d829bf4d3493523ebfe37a23f0",
            "max": 3,
            "min": 0,
            "orientation": "horizontal",
            "style": "IPY_MODEL_87944fd107e441d59a4cc291acb6a86d",
            "value": 3
          }
        },
        "30c040f5638542fda1b96a53b596d7e5": {
          "model_module": "@jupyter-widgets/controls",
          "model_name": "HTMLModel",
          "model_module_version": "1.5.0",
          "state": {
            "_dom_classes": [],
            "_model_module": "@jupyter-widgets/controls",
            "_model_module_version": "1.5.0",
            "_model_name": "HTMLModel",
            "_view_count": null,
            "_view_module": "@jupyter-widgets/controls",
            "_view_module_version": "1.5.0",
            "_view_name": "HTMLView",
            "description": "",
            "description_tooltip": null,
            "layout": "IPY_MODEL_73340286055048fdbb619849c0222972",
            "placeholder": "​",
            "style": "IPY_MODEL_7ef76311408f4318888cb2b022be80eb",
            "value": " 3/3 [00:12&lt;00:00, 12.72s/it]"
          }
        },
        "8d1eb05e84204851a15bbe601971aeaa": {
          "model_module": "@jupyter-widgets/base",
          "model_name": "LayoutModel",
          "model_module_version": "1.2.0",
          "state": {
            "_model_module": "@jupyter-widgets/base",
            "_model_module_version": "1.2.0",
            "_model_name": "LayoutModel",
            "_view_count": null,
            "_view_module": "@jupyter-widgets/base",
            "_view_module_version": "1.2.0",
            "_view_name": "LayoutView",
            "align_content": null,
            "align_items": null,
            "align_self": null,
            "border": null,
            "bottom": null,
            "display": null,
            "flex": null,
            "flex_flow": null,
            "grid_area": null,
            "grid_auto_columns": null,
            "grid_auto_flow": null,
            "grid_auto_rows": null,
            "grid_column": null,
            "grid_gap": null,
            "grid_row": null,
            "grid_template_areas": null,
            "grid_template_columns": null,
            "grid_template_rows": null,
            "height": null,
            "justify_content": null,
            "justify_items": null,
            "left": null,
            "margin": null,
            "max_height": null,
            "max_width": null,
            "min_height": null,
            "min_width": null,
            "object_fit": null,
            "object_position": null,
            "order": null,
            "overflow": null,
            "overflow_x": null,
            "overflow_y": null,
            "padding": null,
            "right": null,
            "top": null,
            "visibility": null,
            "width": null
          }
        },
        "b364085d904a455bb9bf642556cd60fd": {
          "model_module": "@jupyter-widgets/base",
          "model_name": "LayoutModel",
          "model_module_version": "1.2.0",
          "state": {
            "_model_module": "@jupyter-widgets/base",
            "_model_module_version": "1.2.0",
            "_model_name": "LayoutModel",
            "_view_count": null,
            "_view_module": "@jupyter-widgets/base",
            "_view_module_version": "1.2.0",
            "_view_name": "LayoutView",
            "align_content": null,
            "align_items": null,
            "align_self": null,
            "border": null,
            "bottom": null,
            "display": null,
            "flex": null,
            "flex_flow": null,
            "grid_area": null,
            "grid_auto_columns": null,
            "grid_auto_flow": null,
            "grid_auto_rows": null,
            "grid_column": null,
            "grid_gap": null,
            "grid_row": null,
            "grid_template_areas": null,
            "grid_template_columns": null,
            "grid_template_rows": null,
            "height": null,
            "justify_content": null,
            "justify_items": null,
            "left": null,
            "margin": null,
            "max_height": null,
            "max_width": null,
            "min_height": null,
            "min_width": null,
            "object_fit": null,
            "object_position": null,
            "order": null,
            "overflow": null,
            "overflow_x": null,
            "overflow_y": null,
            "padding": null,
            "right": null,
            "top": null,
            "visibility": null,
            "width": null
          }
        },
        "abaf04c30c634a7299a028dcde5426e8": {
          "model_module": "@jupyter-widgets/controls",
          "model_name": "DescriptionStyleModel",
          "model_module_version": "1.5.0",
          "state": {
            "_model_module": "@jupyter-widgets/controls",
            "_model_module_version": "1.5.0",
            "_model_name": "DescriptionStyleModel",
            "_view_count": null,
            "_view_module": "@jupyter-widgets/base",
            "_view_module_version": "1.2.0",
            "_view_name": "StyleView",
            "description_width": ""
          }
        },
        "7f3e44d829bf4d3493523ebfe37a23f0": {
          "model_module": "@jupyter-widgets/base",
          "model_name": "LayoutModel",
          "model_module_version": "1.2.0",
          "state": {
            "_model_module": "@jupyter-widgets/base",
            "_model_module_version": "1.2.0",
            "_model_name": "LayoutModel",
            "_view_count": null,
            "_view_module": "@jupyter-widgets/base",
            "_view_module_version": "1.2.0",
            "_view_name": "LayoutView",
            "align_content": null,
            "align_items": null,
            "align_self": null,
            "border": null,
            "bottom": null,
            "display": null,
            "flex": null,
            "flex_flow": null,
            "grid_area": null,
            "grid_auto_columns": null,
            "grid_auto_flow": null,
            "grid_auto_rows": null,
            "grid_column": null,
            "grid_gap": null,
            "grid_row": null,
            "grid_template_areas": null,
            "grid_template_columns": null,
            "grid_template_rows": null,
            "height": null,
            "justify_content": null,
            "justify_items": null,
            "left": null,
            "margin": null,
            "max_height": null,
            "max_width": null,
            "min_height": null,
            "min_width": null,
            "object_fit": null,
            "object_position": null,
            "order": null,
            "overflow": null,
            "overflow_x": null,
            "overflow_y": null,
            "padding": null,
            "right": null,
            "top": null,
            "visibility": null,
            "width": null
          }
        },
        "87944fd107e441d59a4cc291acb6a86d": {
          "model_module": "@jupyter-widgets/controls",
          "model_name": "ProgressStyleModel",
          "model_module_version": "1.5.0",
          "state": {
            "_model_module": "@jupyter-widgets/controls",
            "_model_module_version": "1.5.0",
            "_model_name": "ProgressStyleModel",
            "_view_count": null,
            "_view_module": "@jupyter-widgets/base",
            "_view_module_version": "1.2.0",
            "_view_name": "StyleView",
            "bar_color": null,
            "description_width": ""
          }
        },
        "73340286055048fdbb619849c0222972": {
          "model_module": "@jupyter-widgets/base",
          "model_name": "LayoutModel",
          "model_module_version": "1.2.0",
          "state": {
            "_model_module": "@jupyter-widgets/base",
            "_model_module_version": "1.2.0",
            "_model_name": "LayoutModel",
            "_view_count": null,
            "_view_module": "@jupyter-widgets/base",
            "_view_module_version": "1.2.0",
            "_view_name": "LayoutView",
            "align_content": null,
            "align_items": null,
            "align_self": null,
            "border": null,
            "bottom": null,
            "display": null,
            "flex": null,
            "flex_flow": null,
            "grid_area": null,
            "grid_auto_columns": null,
            "grid_auto_flow": null,
            "grid_auto_rows": null,
            "grid_column": null,
            "grid_gap": null,
            "grid_row": null,
            "grid_template_areas": null,
            "grid_template_columns": null,
            "grid_template_rows": null,
            "height": null,
            "justify_content": null,
            "justify_items": null,
            "left": null,
            "margin": null,
            "max_height": null,
            "max_width": null,
            "min_height": null,
            "min_width": null,
            "object_fit": null,
            "object_position": null,
            "order": null,
            "overflow": null,
            "overflow_x": null,
            "overflow_y": null,
            "padding": null,
            "right": null,
            "top": null,
            "visibility": null,
            "width": null
          }
        },
        "7ef76311408f4318888cb2b022be80eb": {
          "model_module": "@jupyter-widgets/controls",
          "model_name": "DescriptionStyleModel",
          "model_module_version": "1.5.0",
          "state": {
            "_model_module": "@jupyter-widgets/controls",
            "_model_module_version": "1.5.0",
            "_model_name": "DescriptionStyleModel",
            "_view_count": null,
            "_view_module": "@jupyter-widgets/base",
            "_view_module_version": "1.2.0",
            "_view_name": "StyleView",
            "description_width": ""
          }
        },
        "4a31359dc3f648d18dcbeb46d10c325f": {
          "model_module": "@jupyter-widgets/controls",
          "model_name": "HBoxModel",
          "model_module_version": "1.5.0",
          "state": {
            "_dom_classes": [],
            "_model_module": "@jupyter-widgets/controls",
            "_model_module_version": "1.5.0",
            "_model_name": "HBoxModel",
            "_view_count": null,
            "_view_module": "@jupyter-widgets/controls",
            "_view_module_version": "1.5.0",
            "_view_name": "HBoxView",
            "box_style": "",
            "children": [
              "IPY_MODEL_ed698302eafb4ea68261de5a9462bd43",
              "IPY_MODEL_ec6e46910ddc42b5b9354e457aec7caa",
              "IPY_MODEL_734221e16a8849ca80c6321b4868d1f9"
            ],
            "layout": "IPY_MODEL_b2ecf553cb2845f9ae7ab336eec80a46"
          }
        },
        "ed698302eafb4ea68261de5a9462bd43": {
          "model_module": "@jupyter-widgets/controls",
          "model_name": "HTMLModel",
          "model_module_version": "1.5.0",
          "state": {
            "_dom_classes": [],
            "_model_module": "@jupyter-widgets/controls",
            "_model_module_version": "1.5.0",
            "_model_name": "HTMLModel",
            "_view_count": null,
            "_view_module": "@jupyter-widgets/controls",
            "_view_module_version": "1.5.0",
            "_view_name": "HTMLView",
            "description": "",
            "description_tooltip": null,
            "layout": "IPY_MODEL_738d8ddddad34b19a4f5f4c5acf915a2",
            "placeholder": "​",
            "style": "IPY_MODEL_23b7157448cb4a8fb3dcabfb5a38c524",
            "value": "events.out.tfevents.1703356379.b9fd1dc2bc47.5885.0: 100%"
          }
        },
        "ec6e46910ddc42b5b9354e457aec7caa": {
          "model_module": "@jupyter-widgets/controls",
          "model_name": "FloatProgressModel",
          "model_module_version": "1.5.0",
          "state": {
            "_dom_classes": [],
            "_model_module": "@jupyter-widgets/controls",
            "_model_module_version": "1.5.0",
            "_model_name": "FloatProgressModel",
            "_view_count": null,
            "_view_module": "@jupyter-widgets/controls",
            "_view_module_version": "1.5.0",
            "_view_name": "ProgressView",
            "bar_style": "success",
            "description": "",
            "description_tooltip": null,
            "layout": "IPY_MODEL_89a9d40f47694e28a1a65fd7944fc3f3",
            "max": 10265,
            "min": 0,
            "orientation": "horizontal",
            "style": "IPY_MODEL_09bbdfca10504c71a3c380f0b1f6581b",
            "value": 10265
          }
        },
        "734221e16a8849ca80c6321b4868d1f9": {
          "model_module": "@jupyter-widgets/controls",
          "model_name": "HTMLModel",
          "model_module_version": "1.5.0",
          "state": {
            "_dom_classes": [],
            "_model_module": "@jupyter-widgets/controls",
            "_model_module_version": "1.5.0",
            "_model_name": "HTMLModel",
            "_view_count": null,
            "_view_module": "@jupyter-widgets/controls",
            "_view_module_version": "1.5.0",
            "_view_name": "HTMLView",
            "description": "",
            "description_tooltip": null,
            "layout": "IPY_MODEL_16565bf8d5994b47879c128c08e0b63b",
            "placeholder": "​",
            "style": "IPY_MODEL_20dc5d425e4f4be895808f491d37c56a",
            "value": " 10.3k/10.3k [00:00&lt;00:00, 23.2kB/s]"
          }
        },
        "b2ecf553cb2845f9ae7ab336eec80a46": {
          "model_module": "@jupyter-widgets/base",
          "model_name": "LayoutModel",
          "model_module_version": "1.2.0",
          "state": {
            "_model_module": "@jupyter-widgets/base",
            "_model_module_version": "1.2.0",
            "_model_name": "LayoutModel",
            "_view_count": null,
            "_view_module": "@jupyter-widgets/base",
            "_view_module_version": "1.2.0",
            "_view_name": "LayoutView",
            "align_content": null,
            "align_items": null,
            "align_self": null,
            "border": null,
            "bottom": null,
            "display": null,
            "flex": null,
            "flex_flow": null,
            "grid_area": null,
            "grid_auto_columns": null,
            "grid_auto_flow": null,
            "grid_auto_rows": null,
            "grid_column": null,
            "grid_gap": null,
            "grid_row": null,
            "grid_template_areas": null,
            "grid_template_columns": null,
            "grid_template_rows": null,
            "height": null,
            "justify_content": null,
            "justify_items": null,
            "left": null,
            "margin": null,
            "max_height": null,
            "max_width": null,
            "min_height": null,
            "min_width": null,
            "object_fit": null,
            "object_position": null,
            "order": null,
            "overflow": null,
            "overflow_x": null,
            "overflow_y": null,
            "padding": null,
            "right": null,
            "top": null,
            "visibility": null,
            "width": null
          }
        },
        "738d8ddddad34b19a4f5f4c5acf915a2": {
          "model_module": "@jupyter-widgets/base",
          "model_name": "LayoutModel",
          "model_module_version": "1.2.0",
          "state": {
            "_model_module": "@jupyter-widgets/base",
            "_model_module_version": "1.2.0",
            "_model_name": "LayoutModel",
            "_view_count": null,
            "_view_module": "@jupyter-widgets/base",
            "_view_module_version": "1.2.0",
            "_view_name": "LayoutView",
            "align_content": null,
            "align_items": null,
            "align_self": null,
            "border": null,
            "bottom": null,
            "display": null,
            "flex": null,
            "flex_flow": null,
            "grid_area": null,
            "grid_auto_columns": null,
            "grid_auto_flow": null,
            "grid_auto_rows": null,
            "grid_column": null,
            "grid_gap": null,
            "grid_row": null,
            "grid_template_areas": null,
            "grid_template_columns": null,
            "grid_template_rows": null,
            "height": null,
            "justify_content": null,
            "justify_items": null,
            "left": null,
            "margin": null,
            "max_height": null,
            "max_width": null,
            "min_height": null,
            "min_width": null,
            "object_fit": null,
            "object_position": null,
            "order": null,
            "overflow": null,
            "overflow_x": null,
            "overflow_y": null,
            "padding": null,
            "right": null,
            "top": null,
            "visibility": null,
            "width": null
          }
        },
        "23b7157448cb4a8fb3dcabfb5a38c524": {
          "model_module": "@jupyter-widgets/controls",
          "model_name": "DescriptionStyleModel",
          "model_module_version": "1.5.0",
          "state": {
            "_model_module": "@jupyter-widgets/controls",
            "_model_module_version": "1.5.0",
            "_model_name": "DescriptionStyleModel",
            "_view_count": null,
            "_view_module": "@jupyter-widgets/base",
            "_view_module_version": "1.2.0",
            "_view_name": "StyleView",
            "description_width": ""
          }
        },
        "89a9d40f47694e28a1a65fd7944fc3f3": {
          "model_module": "@jupyter-widgets/base",
          "model_name": "LayoutModel",
          "model_module_version": "1.2.0",
          "state": {
            "_model_module": "@jupyter-widgets/base",
            "_model_module_version": "1.2.0",
            "_model_name": "LayoutModel",
            "_view_count": null,
            "_view_module": "@jupyter-widgets/base",
            "_view_module_version": "1.2.0",
            "_view_name": "LayoutView",
            "align_content": null,
            "align_items": null,
            "align_self": null,
            "border": null,
            "bottom": null,
            "display": null,
            "flex": null,
            "flex_flow": null,
            "grid_area": null,
            "grid_auto_columns": null,
            "grid_auto_flow": null,
            "grid_auto_rows": null,
            "grid_column": null,
            "grid_gap": null,
            "grid_row": null,
            "grid_template_areas": null,
            "grid_template_columns": null,
            "grid_template_rows": null,
            "height": null,
            "justify_content": null,
            "justify_items": null,
            "left": null,
            "margin": null,
            "max_height": null,
            "max_width": null,
            "min_height": null,
            "min_width": null,
            "object_fit": null,
            "object_position": null,
            "order": null,
            "overflow": null,
            "overflow_x": null,
            "overflow_y": null,
            "padding": null,
            "right": null,
            "top": null,
            "visibility": null,
            "width": null
          }
        },
        "09bbdfca10504c71a3c380f0b1f6581b": {
          "model_module": "@jupyter-widgets/controls",
          "model_name": "ProgressStyleModel",
          "model_module_version": "1.5.0",
          "state": {
            "_model_module": "@jupyter-widgets/controls",
            "_model_module_version": "1.5.0",
            "_model_name": "ProgressStyleModel",
            "_view_count": null,
            "_view_module": "@jupyter-widgets/base",
            "_view_module_version": "1.2.0",
            "_view_name": "StyleView",
            "bar_color": null,
            "description_width": ""
          }
        },
        "16565bf8d5994b47879c128c08e0b63b": {
          "model_module": "@jupyter-widgets/base",
          "model_name": "LayoutModel",
          "model_module_version": "1.2.0",
          "state": {
            "_model_module": "@jupyter-widgets/base",
            "_model_module_version": "1.2.0",
            "_model_name": "LayoutModel",
            "_view_count": null,
            "_view_module": "@jupyter-widgets/base",
            "_view_module_version": "1.2.0",
            "_view_name": "LayoutView",
            "align_content": null,
            "align_items": null,
            "align_self": null,
            "border": null,
            "bottom": null,
            "display": null,
            "flex": null,
            "flex_flow": null,
            "grid_area": null,
            "grid_auto_columns": null,
            "grid_auto_flow": null,
            "grid_auto_rows": null,
            "grid_column": null,
            "grid_gap": null,
            "grid_row": null,
            "grid_template_areas": null,
            "grid_template_columns": null,
            "grid_template_rows": null,
            "height": null,
            "justify_content": null,
            "justify_items": null,
            "left": null,
            "margin": null,
            "max_height": null,
            "max_width": null,
            "min_height": null,
            "min_width": null,
            "object_fit": null,
            "object_position": null,
            "order": null,
            "overflow": null,
            "overflow_x": null,
            "overflow_y": null,
            "padding": null,
            "right": null,
            "top": null,
            "visibility": null,
            "width": null
          }
        },
        "20dc5d425e4f4be895808f491d37c56a": {
          "model_module": "@jupyter-widgets/controls",
          "model_name": "DescriptionStyleModel",
          "model_module_version": "1.5.0",
          "state": {
            "_model_module": "@jupyter-widgets/controls",
            "_model_module_version": "1.5.0",
            "_model_name": "DescriptionStyleModel",
            "_view_count": null,
            "_view_module": "@jupyter-widgets/base",
            "_view_module_version": "1.2.0",
            "_view_name": "StyleView",
            "description_width": ""
          }
        },
        "5a338ceb31c14130a71f119dded39a8a": {
          "model_module": "@jupyter-widgets/controls",
          "model_name": "VBoxModel",
          "model_module_version": "1.5.0",
          "state": {
            "_dom_classes": [],
            "_model_module": "@jupyter-widgets/controls",
            "_model_module_version": "1.5.0",
            "_model_name": "VBoxModel",
            "_view_count": null,
            "_view_module": "@jupyter-widgets/controls",
            "_view_module_version": "1.5.0",
            "_view_name": "VBoxView",
            "box_style": "",
            "children": [
              "IPY_MODEL_87d1a6259f7a40869f977f81e11a6b0a",
              "IPY_MODEL_f803a46d4f3440cbb08e4846aebf6c23",
              "IPY_MODEL_6214a5a5826f487d9805bfc17d8268ab",
              "IPY_MODEL_066b85c5363749219d6a09c8d5622481"
            ],
            "layout": "IPY_MODEL_45521132b2a84891afdc2a318f56d266"
          }
        },
        "e0a19f01d5de4b0b9ba60939e9605b05": {
          "model_module": "@jupyter-widgets/controls",
          "model_name": "HTMLModel",
          "model_module_version": "1.5.0",
          "state": {
            "_dom_classes": [],
            "_model_module": "@jupyter-widgets/controls",
            "_model_module_version": "1.5.0",
            "_model_name": "HTMLModel",
            "_view_count": null,
            "_view_module": "@jupyter-widgets/controls",
            "_view_module_version": "1.5.0",
            "_view_name": "HTMLView",
            "description": "",
            "description_tooltip": null,
            "layout": "IPY_MODEL_1979acbf167545fab244798f216e5713",
            "placeholder": "​",
            "style": "IPY_MODEL_755a3034c33348f0b5c9700a879de840",
            "value": "<center> <img\nsrc=https://huggingface.co/front/assets/huggingface_logo-noborder.svg\nalt='Hugging Face'> <br> Copy a token from <a\nhref=\"https://huggingface.co/settings/tokens\" target=\"_blank\">your Hugging Face\ntokens page</a> and paste it below. <br> Immediately click login after copying\nyour token or it might be stored in plain text in this notebook file. </center>"
          }
        },
        "3038cd860bcc4587acb8c72a2ccd26dd": {
          "model_module": "@jupyter-widgets/controls",
          "model_name": "PasswordModel",
          "model_module_version": "1.5.0",
          "state": {
            "_dom_classes": [],
            "_model_module": "@jupyter-widgets/controls",
            "_model_module_version": "1.5.0",
            "_model_name": "PasswordModel",
            "_view_count": null,
            "_view_module": "@jupyter-widgets/controls",
            "_view_module_version": "1.5.0",
            "_view_name": "PasswordView",
            "continuous_update": true,
            "description": "Token:",
            "description_tooltip": null,
            "disabled": false,
            "layout": "IPY_MODEL_2305d3f68d124e8aa4e06c9e4c1a6a07",
            "placeholder": "​",
            "style": "IPY_MODEL_fbffa1e7085241c8a9f8f4ab5b6dc5de",
            "value": ""
          }
        },
        "f24fdde5f4394f13b40877ebc4c4138c": {
          "model_module": "@jupyter-widgets/controls",
          "model_name": "CheckboxModel",
          "model_module_version": "1.5.0",
          "state": {
            "_dom_classes": [],
            "_model_module": "@jupyter-widgets/controls",
            "_model_module_version": "1.5.0",
            "_model_name": "CheckboxModel",
            "_view_count": null,
            "_view_module": "@jupyter-widgets/controls",
            "_view_module_version": "1.5.0",
            "_view_name": "CheckboxView",
            "description": "Add token as git credential?",
            "description_tooltip": null,
            "disabled": false,
            "indent": true,
            "layout": "IPY_MODEL_878e563e67ed4a8cabf759955a4bbea1",
            "style": "IPY_MODEL_31a24890bad44a5e8787188281c0bb11",
            "value": true
          }
        },
        "67007e494f5443258c31e8a5bb69d83b": {
          "model_module": "@jupyter-widgets/controls",
          "model_name": "ButtonModel",
          "model_module_version": "1.5.0",
          "state": {
            "_dom_classes": [],
            "_model_module": "@jupyter-widgets/controls",
            "_model_module_version": "1.5.0",
            "_model_name": "ButtonModel",
            "_view_count": null,
            "_view_module": "@jupyter-widgets/controls",
            "_view_module_version": "1.5.0",
            "_view_name": "ButtonView",
            "button_style": "",
            "description": "Login",
            "disabled": false,
            "icon": "",
            "layout": "IPY_MODEL_bc24f98dce5546fba5212c28e9d8c85b",
            "style": "IPY_MODEL_c833d4138a7545f5b59dd4ec1a0fa66f",
            "tooltip": ""
          }
        },
        "4b98e04e27c74e4185668bec77877d3b": {
          "model_module": "@jupyter-widgets/controls",
          "model_name": "HTMLModel",
          "model_module_version": "1.5.0",
          "state": {
            "_dom_classes": [],
            "_model_module": "@jupyter-widgets/controls",
            "_model_module_version": "1.5.0",
            "_model_name": "HTMLModel",
            "_view_count": null,
            "_view_module": "@jupyter-widgets/controls",
            "_view_module_version": "1.5.0",
            "_view_name": "HTMLView",
            "description": "",
            "description_tooltip": null,
            "layout": "IPY_MODEL_581def4cbc344a44838f7e9cd8cd8dbd",
            "placeholder": "​",
            "style": "IPY_MODEL_2f1b978d6d5748d89d695a90e488ae34",
            "value": "\n<b>Pro Tip:</b> If you don't already have one, you can create a dedicated\n'notebooks' token with 'write' access, that you can then easily reuse for all\nnotebooks. </center>"
          }
        },
        "45521132b2a84891afdc2a318f56d266": {
          "model_module": "@jupyter-widgets/base",
          "model_name": "LayoutModel",
          "model_module_version": "1.2.0",
          "state": {
            "_model_module": "@jupyter-widgets/base",
            "_model_module_version": "1.2.0",
            "_model_name": "LayoutModel",
            "_view_count": null,
            "_view_module": "@jupyter-widgets/base",
            "_view_module_version": "1.2.0",
            "_view_name": "LayoutView",
            "align_content": null,
            "align_items": "center",
            "align_self": null,
            "border": null,
            "bottom": null,
            "display": "flex",
            "flex": null,
            "flex_flow": "column",
            "grid_area": null,
            "grid_auto_columns": null,
            "grid_auto_flow": null,
            "grid_auto_rows": null,
            "grid_column": null,
            "grid_gap": null,
            "grid_row": null,
            "grid_template_areas": null,
            "grid_template_columns": null,
            "grid_template_rows": null,
            "height": null,
            "justify_content": null,
            "justify_items": null,
            "left": null,
            "margin": null,
            "max_height": null,
            "max_width": null,
            "min_height": null,
            "min_width": null,
            "object_fit": null,
            "object_position": null,
            "order": null,
            "overflow": null,
            "overflow_x": null,
            "overflow_y": null,
            "padding": null,
            "right": null,
            "top": null,
            "visibility": null,
            "width": "50%"
          }
        },
        "1979acbf167545fab244798f216e5713": {
          "model_module": "@jupyter-widgets/base",
          "model_name": "LayoutModel",
          "model_module_version": "1.2.0",
          "state": {
            "_model_module": "@jupyter-widgets/base",
            "_model_module_version": "1.2.0",
            "_model_name": "LayoutModel",
            "_view_count": null,
            "_view_module": "@jupyter-widgets/base",
            "_view_module_version": "1.2.0",
            "_view_name": "LayoutView",
            "align_content": null,
            "align_items": null,
            "align_self": null,
            "border": null,
            "bottom": null,
            "display": null,
            "flex": null,
            "flex_flow": null,
            "grid_area": null,
            "grid_auto_columns": null,
            "grid_auto_flow": null,
            "grid_auto_rows": null,
            "grid_column": null,
            "grid_gap": null,
            "grid_row": null,
            "grid_template_areas": null,
            "grid_template_columns": null,
            "grid_template_rows": null,
            "height": null,
            "justify_content": null,
            "justify_items": null,
            "left": null,
            "margin": null,
            "max_height": null,
            "max_width": null,
            "min_height": null,
            "min_width": null,
            "object_fit": null,
            "object_position": null,
            "order": null,
            "overflow": null,
            "overflow_x": null,
            "overflow_y": null,
            "padding": null,
            "right": null,
            "top": null,
            "visibility": null,
            "width": null
          }
        },
        "755a3034c33348f0b5c9700a879de840": {
          "model_module": "@jupyter-widgets/controls",
          "model_name": "DescriptionStyleModel",
          "model_module_version": "1.5.0",
          "state": {
            "_model_module": "@jupyter-widgets/controls",
            "_model_module_version": "1.5.0",
            "_model_name": "DescriptionStyleModel",
            "_view_count": null,
            "_view_module": "@jupyter-widgets/base",
            "_view_module_version": "1.2.0",
            "_view_name": "StyleView",
            "description_width": ""
          }
        },
        "2305d3f68d124e8aa4e06c9e4c1a6a07": {
          "model_module": "@jupyter-widgets/base",
          "model_name": "LayoutModel",
          "model_module_version": "1.2.0",
          "state": {
            "_model_module": "@jupyter-widgets/base",
            "_model_module_version": "1.2.0",
            "_model_name": "LayoutModel",
            "_view_count": null,
            "_view_module": "@jupyter-widgets/base",
            "_view_module_version": "1.2.0",
            "_view_name": "LayoutView",
            "align_content": null,
            "align_items": null,
            "align_self": null,
            "border": null,
            "bottom": null,
            "display": null,
            "flex": null,
            "flex_flow": null,
            "grid_area": null,
            "grid_auto_columns": null,
            "grid_auto_flow": null,
            "grid_auto_rows": null,
            "grid_column": null,
            "grid_gap": null,
            "grid_row": null,
            "grid_template_areas": null,
            "grid_template_columns": null,
            "grid_template_rows": null,
            "height": null,
            "justify_content": null,
            "justify_items": null,
            "left": null,
            "margin": null,
            "max_height": null,
            "max_width": null,
            "min_height": null,
            "min_width": null,
            "object_fit": null,
            "object_position": null,
            "order": null,
            "overflow": null,
            "overflow_x": null,
            "overflow_y": null,
            "padding": null,
            "right": null,
            "top": null,
            "visibility": null,
            "width": null
          }
        },
        "fbffa1e7085241c8a9f8f4ab5b6dc5de": {
          "model_module": "@jupyter-widgets/controls",
          "model_name": "DescriptionStyleModel",
          "model_module_version": "1.5.0",
          "state": {
            "_model_module": "@jupyter-widgets/controls",
            "_model_module_version": "1.5.0",
            "_model_name": "DescriptionStyleModel",
            "_view_count": null,
            "_view_module": "@jupyter-widgets/base",
            "_view_module_version": "1.2.0",
            "_view_name": "StyleView",
            "description_width": ""
          }
        },
        "878e563e67ed4a8cabf759955a4bbea1": {
          "model_module": "@jupyter-widgets/base",
          "model_name": "LayoutModel",
          "model_module_version": "1.2.0",
          "state": {
            "_model_module": "@jupyter-widgets/base",
            "_model_module_version": "1.2.0",
            "_model_name": "LayoutModel",
            "_view_count": null,
            "_view_module": "@jupyter-widgets/base",
            "_view_module_version": "1.2.0",
            "_view_name": "LayoutView",
            "align_content": null,
            "align_items": null,
            "align_self": null,
            "border": null,
            "bottom": null,
            "display": null,
            "flex": null,
            "flex_flow": null,
            "grid_area": null,
            "grid_auto_columns": null,
            "grid_auto_flow": null,
            "grid_auto_rows": null,
            "grid_column": null,
            "grid_gap": null,
            "grid_row": null,
            "grid_template_areas": null,
            "grid_template_columns": null,
            "grid_template_rows": null,
            "height": null,
            "justify_content": null,
            "justify_items": null,
            "left": null,
            "margin": null,
            "max_height": null,
            "max_width": null,
            "min_height": null,
            "min_width": null,
            "object_fit": null,
            "object_position": null,
            "order": null,
            "overflow": null,
            "overflow_x": null,
            "overflow_y": null,
            "padding": null,
            "right": null,
            "top": null,
            "visibility": null,
            "width": null
          }
        },
        "31a24890bad44a5e8787188281c0bb11": {
          "model_module": "@jupyter-widgets/controls",
          "model_name": "DescriptionStyleModel",
          "model_module_version": "1.5.0",
          "state": {
            "_model_module": "@jupyter-widgets/controls",
            "_model_module_version": "1.5.0",
            "_model_name": "DescriptionStyleModel",
            "_view_count": null,
            "_view_module": "@jupyter-widgets/base",
            "_view_module_version": "1.2.0",
            "_view_name": "StyleView",
            "description_width": ""
          }
        },
        "bc24f98dce5546fba5212c28e9d8c85b": {
          "model_module": "@jupyter-widgets/base",
          "model_name": "LayoutModel",
          "model_module_version": "1.2.0",
          "state": {
            "_model_module": "@jupyter-widgets/base",
            "_model_module_version": "1.2.0",
            "_model_name": "LayoutModel",
            "_view_count": null,
            "_view_module": "@jupyter-widgets/base",
            "_view_module_version": "1.2.0",
            "_view_name": "LayoutView",
            "align_content": null,
            "align_items": null,
            "align_self": null,
            "border": null,
            "bottom": null,
            "display": null,
            "flex": null,
            "flex_flow": null,
            "grid_area": null,
            "grid_auto_columns": null,
            "grid_auto_flow": null,
            "grid_auto_rows": null,
            "grid_column": null,
            "grid_gap": null,
            "grid_row": null,
            "grid_template_areas": null,
            "grid_template_columns": null,
            "grid_template_rows": null,
            "height": null,
            "justify_content": null,
            "justify_items": null,
            "left": null,
            "margin": null,
            "max_height": null,
            "max_width": null,
            "min_height": null,
            "min_width": null,
            "object_fit": null,
            "object_position": null,
            "order": null,
            "overflow": null,
            "overflow_x": null,
            "overflow_y": null,
            "padding": null,
            "right": null,
            "top": null,
            "visibility": null,
            "width": null
          }
        },
        "c833d4138a7545f5b59dd4ec1a0fa66f": {
          "model_module": "@jupyter-widgets/controls",
          "model_name": "ButtonStyleModel",
          "model_module_version": "1.5.0",
          "state": {
            "_model_module": "@jupyter-widgets/controls",
            "_model_module_version": "1.5.0",
            "_model_name": "ButtonStyleModel",
            "_view_count": null,
            "_view_module": "@jupyter-widgets/base",
            "_view_module_version": "1.2.0",
            "_view_name": "StyleView",
            "button_color": null,
            "font_weight": ""
          }
        },
        "581def4cbc344a44838f7e9cd8cd8dbd": {
          "model_module": "@jupyter-widgets/base",
          "model_name": "LayoutModel",
          "model_module_version": "1.2.0",
          "state": {
            "_model_module": "@jupyter-widgets/base",
            "_model_module_version": "1.2.0",
            "_model_name": "LayoutModel",
            "_view_count": null,
            "_view_module": "@jupyter-widgets/base",
            "_view_module_version": "1.2.0",
            "_view_name": "LayoutView",
            "align_content": null,
            "align_items": null,
            "align_self": null,
            "border": null,
            "bottom": null,
            "display": null,
            "flex": null,
            "flex_flow": null,
            "grid_area": null,
            "grid_auto_columns": null,
            "grid_auto_flow": null,
            "grid_auto_rows": null,
            "grid_column": null,
            "grid_gap": null,
            "grid_row": null,
            "grid_template_areas": null,
            "grid_template_columns": null,
            "grid_template_rows": null,
            "height": null,
            "justify_content": null,
            "justify_items": null,
            "left": null,
            "margin": null,
            "max_height": null,
            "max_width": null,
            "min_height": null,
            "min_width": null,
            "object_fit": null,
            "object_position": null,
            "order": null,
            "overflow": null,
            "overflow_x": null,
            "overflow_y": null,
            "padding": null,
            "right": null,
            "top": null,
            "visibility": null,
            "width": null
          }
        },
        "2f1b978d6d5748d89d695a90e488ae34": {
          "model_module": "@jupyter-widgets/controls",
          "model_name": "DescriptionStyleModel",
          "model_module_version": "1.5.0",
          "state": {
            "_model_module": "@jupyter-widgets/controls",
            "_model_module_version": "1.5.0",
            "_model_name": "DescriptionStyleModel",
            "_view_count": null,
            "_view_module": "@jupyter-widgets/base",
            "_view_module_version": "1.2.0",
            "_view_name": "StyleView",
            "description_width": ""
          }
        },
        "53c6bafa2bb04bbda1a93e3dbfc0693c": {
          "model_module": "@jupyter-widgets/controls",
          "model_name": "LabelModel",
          "model_module_version": "1.5.0",
          "state": {
            "_dom_classes": [],
            "_model_module": "@jupyter-widgets/controls",
            "_model_module_version": "1.5.0",
            "_model_name": "LabelModel",
            "_view_count": null,
            "_view_module": "@jupyter-widgets/controls",
            "_view_module_version": "1.5.0",
            "_view_name": "LabelView",
            "description": "",
            "description_tooltip": null,
            "layout": "IPY_MODEL_ecfdd7fd450c46f49779e9ffd66cadb6",
            "placeholder": "​",
            "style": "IPY_MODEL_f423ba6c0ef44b2c8984c008c7b15abc",
            "value": "Connecting..."
          }
        },
        "ecfdd7fd450c46f49779e9ffd66cadb6": {
          "model_module": "@jupyter-widgets/base",
          "model_name": "LayoutModel",
          "model_module_version": "1.2.0",
          "state": {
            "_model_module": "@jupyter-widgets/base",
            "_model_module_version": "1.2.0",
            "_model_name": "LayoutModel",
            "_view_count": null,
            "_view_module": "@jupyter-widgets/base",
            "_view_module_version": "1.2.0",
            "_view_name": "LayoutView",
            "align_content": null,
            "align_items": null,
            "align_self": null,
            "border": null,
            "bottom": null,
            "display": null,
            "flex": null,
            "flex_flow": null,
            "grid_area": null,
            "grid_auto_columns": null,
            "grid_auto_flow": null,
            "grid_auto_rows": null,
            "grid_column": null,
            "grid_gap": null,
            "grid_row": null,
            "grid_template_areas": null,
            "grid_template_columns": null,
            "grid_template_rows": null,
            "height": null,
            "justify_content": null,
            "justify_items": null,
            "left": null,
            "margin": null,
            "max_height": null,
            "max_width": null,
            "min_height": null,
            "min_width": null,
            "object_fit": null,
            "object_position": null,
            "order": null,
            "overflow": null,
            "overflow_x": null,
            "overflow_y": null,
            "padding": null,
            "right": null,
            "top": null,
            "visibility": null,
            "width": null
          }
        },
        "f423ba6c0ef44b2c8984c008c7b15abc": {
          "model_module": "@jupyter-widgets/controls",
          "model_name": "DescriptionStyleModel",
          "model_module_version": "1.5.0",
          "state": {
            "_model_module": "@jupyter-widgets/controls",
            "_model_module_version": "1.5.0",
            "_model_name": "DescriptionStyleModel",
            "_view_count": null,
            "_view_module": "@jupyter-widgets/base",
            "_view_module_version": "1.2.0",
            "_view_name": "StyleView",
            "description_width": ""
          }
        },
        "87d1a6259f7a40869f977f81e11a6b0a": {
          "model_module": "@jupyter-widgets/controls",
          "model_name": "LabelModel",
          "model_module_version": "1.5.0",
          "state": {
            "_dom_classes": [],
            "_model_module": "@jupyter-widgets/controls",
            "_model_module_version": "1.5.0",
            "_model_name": "LabelModel",
            "_view_count": null,
            "_view_module": "@jupyter-widgets/controls",
            "_view_module_version": "1.5.0",
            "_view_name": "LabelView",
            "description": "",
            "description_tooltip": null,
            "layout": "IPY_MODEL_a63cb6ba39b647fd9c94ddfde77cf8d4",
            "placeholder": "​",
            "style": "IPY_MODEL_c5ce01d7c9924d3aa6d85d4d79767246",
            "value": "Token is valid (permission: write)."
          }
        },
        "f803a46d4f3440cbb08e4846aebf6c23": {
          "model_module": "@jupyter-widgets/controls",
          "model_name": "LabelModel",
          "model_module_version": "1.5.0",
          "state": {
            "_dom_classes": [],
            "_model_module": "@jupyter-widgets/controls",
            "_model_module_version": "1.5.0",
            "_model_name": "LabelModel",
            "_view_count": null,
            "_view_module": "@jupyter-widgets/controls",
            "_view_module_version": "1.5.0",
            "_view_name": "LabelView",
            "description": "",
            "description_tooltip": null,
            "layout": "IPY_MODEL_a7e2eb5b60b24fda9d308f64185bd7f9",
            "placeholder": "​",
            "style": "IPY_MODEL_59ffe85c0083409999f36dba7eef1b25",
            "value": "Your token has been saved in your configured git credential helpers (store)."
          }
        },
        "6214a5a5826f487d9805bfc17d8268ab": {
          "model_module": "@jupyter-widgets/controls",
          "model_name": "LabelModel",
          "model_module_version": "1.5.0",
          "state": {
            "_dom_classes": [],
            "_model_module": "@jupyter-widgets/controls",
            "_model_module_version": "1.5.0",
            "_model_name": "LabelModel",
            "_view_count": null,
            "_view_module": "@jupyter-widgets/controls",
            "_view_module_version": "1.5.0",
            "_view_name": "LabelView",
            "description": "",
            "description_tooltip": null,
            "layout": "IPY_MODEL_19d3a673a0a94b4e8a03db6b9085104c",
            "placeholder": "​",
            "style": "IPY_MODEL_f78939906c544aada677126006f55e91",
            "value": "Your token has been saved to /root/.cache/huggingface/token"
          }
        },
        "066b85c5363749219d6a09c8d5622481": {
          "model_module": "@jupyter-widgets/controls",
          "model_name": "LabelModel",
          "model_module_version": "1.5.0",
          "state": {
            "_dom_classes": [],
            "_model_module": "@jupyter-widgets/controls",
            "_model_module_version": "1.5.0",
            "_model_name": "LabelModel",
            "_view_count": null,
            "_view_module": "@jupyter-widgets/controls",
            "_view_module_version": "1.5.0",
            "_view_name": "LabelView",
            "description": "",
            "description_tooltip": null,
            "layout": "IPY_MODEL_1e3e79872c1646648398cbd192fb52a3",
            "placeholder": "​",
            "style": "IPY_MODEL_1adea4dd784a47f4ac9efb4c001719fc",
            "value": "Login successful"
          }
        },
        "a63cb6ba39b647fd9c94ddfde77cf8d4": {
          "model_module": "@jupyter-widgets/base",
          "model_name": "LayoutModel",
          "model_module_version": "1.2.0",
          "state": {
            "_model_module": "@jupyter-widgets/base",
            "_model_module_version": "1.2.0",
            "_model_name": "LayoutModel",
            "_view_count": null,
            "_view_module": "@jupyter-widgets/base",
            "_view_module_version": "1.2.0",
            "_view_name": "LayoutView",
            "align_content": null,
            "align_items": null,
            "align_self": null,
            "border": null,
            "bottom": null,
            "display": null,
            "flex": null,
            "flex_flow": null,
            "grid_area": null,
            "grid_auto_columns": null,
            "grid_auto_flow": null,
            "grid_auto_rows": null,
            "grid_column": null,
            "grid_gap": null,
            "grid_row": null,
            "grid_template_areas": null,
            "grid_template_columns": null,
            "grid_template_rows": null,
            "height": null,
            "justify_content": null,
            "justify_items": null,
            "left": null,
            "margin": null,
            "max_height": null,
            "max_width": null,
            "min_height": null,
            "min_width": null,
            "object_fit": null,
            "object_position": null,
            "order": null,
            "overflow": null,
            "overflow_x": null,
            "overflow_y": null,
            "padding": null,
            "right": null,
            "top": null,
            "visibility": null,
            "width": null
          }
        },
        "c5ce01d7c9924d3aa6d85d4d79767246": {
          "model_module": "@jupyter-widgets/controls",
          "model_name": "DescriptionStyleModel",
          "model_module_version": "1.5.0",
          "state": {
            "_model_module": "@jupyter-widgets/controls",
            "_model_module_version": "1.5.0",
            "_model_name": "DescriptionStyleModel",
            "_view_count": null,
            "_view_module": "@jupyter-widgets/base",
            "_view_module_version": "1.2.0",
            "_view_name": "StyleView",
            "description_width": ""
          }
        },
        "a7e2eb5b60b24fda9d308f64185bd7f9": {
          "model_module": "@jupyter-widgets/base",
          "model_name": "LayoutModel",
          "model_module_version": "1.2.0",
          "state": {
            "_model_module": "@jupyter-widgets/base",
            "_model_module_version": "1.2.0",
            "_model_name": "LayoutModel",
            "_view_count": null,
            "_view_module": "@jupyter-widgets/base",
            "_view_module_version": "1.2.0",
            "_view_name": "LayoutView",
            "align_content": null,
            "align_items": null,
            "align_self": null,
            "border": null,
            "bottom": null,
            "display": null,
            "flex": null,
            "flex_flow": null,
            "grid_area": null,
            "grid_auto_columns": null,
            "grid_auto_flow": null,
            "grid_auto_rows": null,
            "grid_column": null,
            "grid_gap": null,
            "grid_row": null,
            "grid_template_areas": null,
            "grid_template_columns": null,
            "grid_template_rows": null,
            "height": null,
            "justify_content": null,
            "justify_items": null,
            "left": null,
            "margin": null,
            "max_height": null,
            "max_width": null,
            "min_height": null,
            "min_width": null,
            "object_fit": null,
            "object_position": null,
            "order": null,
            "overflow": null,
            "overflow_x": null,
            "overflow_y": null,
            "padding": null,
            "right": null,
            "top": null,
            "visibility": null,
            "width": null
          }
        },
        "59ffe85c0083409999f36dba7eef1b25": {
          "model_module": "@jupyter-widgets/controls",
          "model_name": "DescriptionStyleModel",
          "model_module_version": "1.5.0",
          "state": {
            "_model_module": "@jupyter-widgets/controls",
            "_model_module_version": "1.5.0",
            "_model_name": "DescriptionStyleModel",
            "_view_count": null,
            "_view_module": "@jupyter-widgets/base",
            "_view_module_version": "1.2.0",
            "_view_name": "StyleView",
            "description_width": ""
          }
        },
        "19d3a673a0a94b4e8a03db6b9085104c": {
          "model_module": "@jupyter-widgets/base",
          "model_name": "LayoutModel",
          "model_module_version": "1.2.0",
          "state": {
            "_model_module": "@jupyter-widgets/base",
            "_model_module_version": "1.2.0",
            "_model_name": "LayoutModel",
            "_view_count": null,
            "_view_module": "@jupyter-widgets/base",
            "_view_module_version": "1.2.0",
            "_view_name": "LayoutView",
            "align_content": null,
            "align_items": null,
            "align_self": null,
            "border": null,
            "bottom": null,
            "display": null,
            "flex": null,
            "flex_flow": null,
            "grid_area": null,
            "grid_auto_columns": null,
            "grid_auto_flow": null,
            "grid_auto_rows": null,
            "grid_column": null,
            "grid_gap": null,
            "grid_row": null,
            "grid_template_areas": null,
            "grid_template_columns": null,
            "grid_template_rows": null,
            "height": null,
            "justify_content": null,
            "justify_items": null,
            "left": null,
            "margin": null,
            "max_height": null,
            "max_width": null,
            "min_height": null,
            "min_width": null,
            "object_fit": null,
            "object_position": null,
            "order": null,
            "overflow": null,
            "overflow_x": null,
            "overflow_y": null,
            "padding": null,
            "right": null,
            "top": null,
            "visibility": null,
            "width": null
          }
        },
        "f78939906c544aada677126006f55e91": {
          "model_module": "@jupyter-widgets/controls",
          "model_name": "DescriptionStyleModel",
          "model_module_version": "1.5.0",
          "state": {
            "_model_module": "@jupyter-widgets/controls",
            "_model_module_version": "1.5.0",
            "_model_name": "DescriptionStyleModel",
            "_view_count": null,
            "_view_module": "@jupyter-widgets/base",
            "_view_module_version": "1.2.0",
            "_view_name": "StyleView",
            "description_width": ""
          }
        },
        "1e3e79872c1646648398cbd192fb52a3": {
          "model_module": "@jupyter-widgets/base",
          "model_name": "LayoutModel",
          "model_module_version": "1.2.0",
          "state": {
            "_model_module": "@jupyter-widgets/base",
            "_model_module_version": "1.2.0",
            "_model_name": "LayoutModel",
            "_view_count": null,
            "_view_module": "@jupyter-widgets/base",
            "_view_module_version": "1.2.0",
            "_view_name": "LayoutView",
            "align_content": null,
            "align_items": null,
            "align_self": null,
            "border": null,
            "bottom": null,
            "display": null,
            "flex": null,
            "flex_flow": null,
            "grid_area": null,
            "grid_auto_columns": null,
            "grid_auto_flow": null,
            "grid_auto_rows": null,
            "grid_column": null,
            "grid_gap": null,
            "grid_row": null,
            "grid_template_areas": null,
            "grid_template_columns": null,
            "grid_template_rows": null,
            "height": null,
            "justify_content": null,
            "justify_items": null,
            "left": null,
            "margin": null,
            "max_height": null,
            "max_width": null,
            "min_height": null,
            "min_width": null,
            "object_fit": null,
            "object_position": null,
            "order": null,
            "overflow": null,
            "overflow_x": null,
            "overflow_y": null,
            "padding": null,
            "right": null,
            "top": null,
            "visibility": null,
            "width": null
          }
        },
        "1adea4dd784a47f4ac9efb4c001719fc": {
          "model_module": "@jupyter-widgets/controls",
          "model_name": "DescriptionStyleModel",
          "model_module_version": "1.5.0",
          "state": {
            "_model_module": "@jupyter-widgets/controls",
            "_model_module_version": "1.5.0",
            "_model_name": "DescriptionStyleModel",
            "_view_count": null,
            "_view_module": "@jupyter-widgets/base",
            "_view_module_version": "1.2.0",
            "_view_name": "StyleView",
            "description_width": ""
          }
        },
        "df02658a67d8467e8eb7c82aec1aa3ac": {
          "model_module": "@jupyter-widgets/controls",
          "model_name": "HBoxModel",
          "model_module_version": "1.5.0",
          "state": {
            "_dom_classes": [],
            "_model_module": "@jupyter-widgets/controls",
            "_model_module_version": "1.5.0",
            "_model_name": "HBoxModel",
            "_view_count": null,
            "_view_module": "@jupyter-widgets/controls",
            "_view_module_version": "1.5.0",
            "_view_name": "HBoxView",
            "box_style": "",
            "children": [
              "IPY_MODEL_92616de7ac7647d49dd7b61603b0d57d",
              "IPY_MODEL_f6649e4ce6264d8eac7ba267fd8ebc44",
              "IPY_MODEL_f56a28742f724ad89d0e8100a1a40146"
            ],
            "layout": "IPY_MODEL_199d426425074469a9145b94c60e0992"
          }
        },
        "92616de7ac7647d49dd7b61603b0d57d": {
          "model_module": "@jupyter-widgets/controls",
          "model_name": "HTMLModel",
          "model_module_version": "1.5.0",
          "state": {
            "_dom_classes": [],
            "_model_module": "@jupyter-widgets/controls",
            "_model_module_version": "1.5.0",
            "_model_name": "HTMLModel",
            "_view_count": null,
            "_view_module": "@jupyter-widgets/controls",
            "_view_module_version": "1.5.0",
            "_view_name": "HTMLView",
            "description": "",
            "description_tooltip": null,
            "layout": "IPY_MODEL_4b41a8f1baf4451e80129842056bbb61",
            "placeholder": "​",
            "style": "IPY_MODEL_6560a1972688464bbcf33239170bf0fe",
            "value": "Map: 100%"
          }
        },
        "f6649e4ce6264d8eac7ba267fd8ebc44": {
          "model_module": "@jupyter-widgets/controls",
          "model_name": "FloatProgressModel",
          "model_module_version": "1.5.0",
          "state": {
            "_dom_classes": [],
            "_model_module": "@jupyter-widgets/controls",
            "_model_module_version": "1.5.0",
            "_model_name": "FloatProgressModel",
            "_view_count": null,
            "_view_module": "@jupyter-widgets/controls",
            "_view_module_version": "1.5.0",
            "_view_name": "ProgressView",
            "bar_style": "success",
            "description": "",
            "description_tooltip": null,
            "layout": "IPY_MODEL_c7ddcb9e9fa64e64ab62c58410bd43ba",
            "max": 3409,
            "min": 0,
            "orientation": "horizontal",
            "style": "IPY_MODEL_2c3cda13a9b847c2b58bfdf3c0625d06",
            "value": 3409
          }
        },
        "f56a28742f724ad89d0e8100a1a40146": {
          "model_module": "@jupyter-widgets/controls",
          "model_name": "HTMLModel",
          "model_module_version": "1.5.0",
          "state": {
            "_dom_classes": [],
            "_model_module": "@jupyter-widgets/controls",
            "_model_module_version": "1.5.0",
            "_model_name": "HTMLModel",
            "_view_count": null,
            "_view_module": "@jupyter-widgets/controls",
            "_view_module_version": "1.5.0",
            "_view_name": "HTMLView",
            "description": "",
            "description_tooltip": null,
            "layout": "IPY_MODEL_ff519d1c4e8f47eabdaa98018dd82502",
            "placeholder": "​",
            "style": "IPY_MODEL_249dd31b769f4c228b007da982ec287c",
            "value": " 3409/3409 [00:00&lt;00:00, 5086.42 examples/s]"
          }
        },
        "199d426425074469a9145b94c60e0992": {
          "model_module": "@jupyter-widgets/base",
          "model_name": "LayoutModel",
          "model_module_version": "1.2.0",
          "state": {
            "_model_module": "@jupyter-widgets/base",
            "_model_module_version": "1.2.0",
            "_model_name": "LayoutModel",
            "_view_count": null,
            "_view_module": "@jupyter-widgets/base",
            "_view_module_version": "1.2.0",
            "_view_name": "LayoutView",
            "align_content": null,
            "align_items": null,
            "align_self": null,
            "border": null,
            "bottom": null,
            "display": null,
            "flex": null,
            "flex_flow": null,
            "grid_area": null,
            "grid_auto_columns": null,
            "grid_auto_flow": null,
            "grid_auto_rows": null,
            "grid_column": null,
            "grid_gap": null,
            "grid_row": null,
            "grid_template_areas": null,
            "grid_template_columns": null,
            "grid_template_rows": null,
            "height": null,
            "justify_content": null,
            "justify_items": null,
            "left": null,
            "margin": null,
            "max_height": null,
            "max_width": null,
            "min_height": null,
            "min_width": null,
            "object_fit": null,
            "object_position": null,
            "order": null,
            "overflow": null,
            "overflow_x": null,
            "overflow_y": null,
            "padding": null,
            "right": null,
            "top": null,
            "visibility": null,
            "width": null
          }
        },
        "4b41a8f1baf4451e80129842056bbb61": {
          "model_module": "@jupyter-widgets/base",
          "model_name": "LayoutModel",
          "model_module_version": "1.2.0",
          "state": {
            "_model_module": "@jupyter-widgets/base",
            "_model_module_version": "1.2.0",
            "_model_name": "LayoutModel",
            "_view_count": null,
            "_view_module": "@jupyter-widgets/base",
            "_view_module_version": "1.2.0",
            "_view_name": "LayoutView",
            "align_content": null,
            "align_items": null,
            "align_self": null,
            "border": null,
            "bottom": null,
            "display": null,
            "flex": null,
            "flex_flow": null,
            "grid_area": null,
            "grid_auto_columns": null,
            "grid_auto_flow": null,
            "grid_auto_rows": null,
            "grid_column": null,
            "grid_gap": null,
            "grid_row": null,
            "grid_template_areas": null,
            "grid_template_columns": null,
            "grid_template_rows": null,
            "height": null,
            "justify_content": null,
            "justify_items": null,
            "left": null,
            "margin": null,
            "max_height": null,
            "max_width": null,
            "min_height": null,
            "min_width": null,
            "object_fit": null,
            "object_position": null,
            "order": null,
            "overflow": null,
            "overflow_x": null,
            "overflow_y": null,
            "padding": null,
            "right": null,
            "top": null,
            "visibility": null,
            "width": null
          }
        },
        "6560a1972688464bbcf33239170bf0fe": {
          "model_module": "@jupyter-widgets/controls",
          "model_name": "DescriptionStyleModel",
          "model_module_version": "1.5.0",
          "state": {
            "_model_module": "@jupyter-widgets/controls",
            "_model_module_version": "1.5.0",
            "_model_name": "DescriptionStyleModel",
            "_view_count": null,
            "_view_module": "@jupyter-widgets/base",
            "_view_module_version": "1.2.0",
            "_view_name": "StyleView",
            "description_width": ""
          }
        },
        "c7ddcb9e9fa64e64ab62c58410bd43ba": {
          "model_module": "@jupyter-widgets/base",
          "model_name": "LayoutModel",
          "model_module_version": "1.2.0",
          "state": {
            "_model_module": "@jupyter-widgets/base",
            "_model_module_version": "1.2.0",
            "_model_name": "LayoutModel",
            "_view_count": null,
            "_view_module": "@jupyter-widgets/base",
            "_view_module_version": "1.2.0",
            "_view_name": "LayoutView",
            "align_content": null,
            "align_items": null,
            "align_self": null,
            "border": null,
            "bottom": null,
            "display": null,
            "flex": null,
            "flex_flow": null,
            "grid_area": null,
            "grid_auto_columns": null,
            "grid_auto_flow": null,
            "grid_auto_rows": null,
            "grid_column": null,
            "grid_gap": null,
            "grid_row": null,
            "grid_template_areas": null,
            "grid_template_columns": null,
            "grid_template_rows": null,
            "height": null,
            "justify_content": null,
            "justify_items": null,
            "left": null,
            "margin": null,
            "max_height": null,
            "max_width": null,
            "min_height": null,
            "min_width": null,
            "object_fit": null,
            "object_position": null,
            "order": null,
            "overflow": null,
            "overflow_x": null,
            "overflow_y": null,
            "padding": null,
            "right": null,
            "top": null,
            "visibility": null,
            "width": null
          }
        },
        "2c3cda13a9b847c2b58bfdf3c0625d06": {
          "model_module": "@jupyter-widgets/controls",
          "model_name": "ProgressStyleModel",
          "model_module_version": "1.5.0",
          "state": {
            "_model_module": "@jupyter-widgets/controls",
            "_model_module_version": "1.5.0",
            "_model_name": "ProgressStyleModel",
            "_view_count": null,
            "_view_module": "@jupyter-widgets/base",
            "_view_module_version": "1.2.0",
            "_view_name": "StyleView",
            "bar_color": null,
            "description_width": ""
          }
        },
        "ff519d1c4e8f47eabdaa98018dd82502": {
          "model_module": "@jupyter-widgets/base",
          "model_name": "LayoutModel",
          "model_module_version": "1.2.0",
          "state": {
            "_model_module": "@jupyter-widgets/base",
            "_model_module_version": "1.2.0",
            "_model_name": "LayoutModel",
            "_view_count": null,
            "_view_module": "@jupyter-widgets/base",
            "_view_module_version": "1.2.0",
            "_view_name": "LayoutView",
            "align_content": null,
            "align_items": null,
            "align_self": null,
            "border": null,
            "bottom": null,
            "display": null,
            "flex": null,
            "flex_flow": null,
            "grid_area": null,
            "grid_auto_columns": null,
            "grid_auto_flow": null,
            "grid_auto_rows": null,
            "grid_column": null,
            "grid_gap": null,
            "grid_row": null,
            "grid_template_areas": null,
            "grid_template_columns": null,
            "grid_template_rows": null,
            "height": null,
            "justify_content": null,
            "justify_items": null,
            "left": null,
            "margin": null,
            "max_height": null,
            "max_width": null,
            "min_height": null,
            "min_width": null,
            "object_fit": null,
            "object_position": null,
            "order": null,
            "overflow": null,
            "overflow_x": null,
            "overflow_y": null,
            "padding": null,
            "right": null,
            "top": null,
            "visibility": null,
            "width": null
          }
        },
        "249dd31b769f4c228b007da982ec287c": {
          "model_module": "@jupyter-widgets/controls",
          "model_name": "DescriptionStyleModel",
          "model_module_version": "1.5.0",
          "state": {
            "_model_module": "@jupyter-widgets/controls",
            "_model_module_version": "1.5.0",
            "_model_name": "DescriptionStyleModel",
            "_view_count": null,
            "_view_module": "@jupyter-widgets/base",
            "_view_module_version": "1.2.0",
            "_view_name": "StyleView",
            "description_width": ""
          }
        }
      }
    }
  },
  "nbformat": 4,
  "nbformat_minor": 0
}